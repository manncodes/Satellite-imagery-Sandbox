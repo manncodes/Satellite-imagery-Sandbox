{
  "nbformat": 4,
  "nbformat_minor": 0,
  "metadata": {
    "colab": {
      "name": "1 )Accessing Data.ipynb",
      "provenance": [],
      "collapsed_sections": []
    },
    "kernelspec": {
      "name": "python3",
      "display_name": "Python 3"
    }
  },
  "cells": [
    {
      "cell_type": "code",
      "metadata": {
        "id": "86lINDr_mQD1",
        "colab_type": "code",
        "colab": {
          "base_uri": "https://localhost:8080/",
          "height": 1000
        },
        "outputId": "ad6d0173-f918-4f5c-9bc6-6c8d6079456c"
      },
      "source": [
        "#!pip install sentinelsat\n",
        "#!pip install geopandas\n",
        "#!pip install folium\n",
        "#!pip install shapely\n",
        "#!pip install rasterio"
      ],
      "execution_count": 41,
      "outputs": [
        {
          "output_type": "stream",
          "text": [
            "Downloading:  32%|███▏      | 317M/1.00G [00:36<01:08, 10.0MB/s]\n",
            "Downloading:  12%|█▏        | 122M/1.03G [00:14<02:15, 6.68MB/s]\u001b[A\n",
            "Downloading:  32%|███▏      | 319M/1.00G [00:37<01:30, 7.54MB/s]\n",
            "Downloading:  32%|███▏      | 323M/1.00G [00:37<01:33, 7.22MB/s]\n",
            "Downloading:  33%|███▎      | 326M/1.00G [00:37<01:19, 8.49MB/s]\n",
            "Downloading:  33%|███▎      | 327M/1.00G [00:37<01:19, 8.49MB/s]\n",
            "Downloading:  33%|███▎      | 328M/1.00G [00:38<01:31, 7.38MB/s]\n",
            "Downloading:  33%|███▎      | 329M/1.00G [00:38<02:00, 5.56MB/s]\n",
            "Downloading:  33%|███▎      | 332M/1.00G [00:38<01:41, 6.59MB/s]\n",
            "Downloading:  33%|███▎      | 334M/1.00G [00:38<01:25, 7.78MB/s]\n",
            "Downloading:  34%|███▎      | 336M/1.00G [00:39<01:30, 7.37MB/s]\n",
            "Downloading:  34%|███▎      | 337M/1.00G [00:39<01:47, 6.17MB/s]\n",
            "Downloading:  34%|███▍      | 338M/1.00G [00:39<01:49, 6.05MB/s]"
          ],
          "name": "stderr"
        },
        {
          "output_type": "stream",
          "text": [
            "Collecting rasterio\n",
            "\u001b[?25l  Downloading https://files.pythonhosted.org/packages/02/7e/eed7dfd109fc89ed3cf8b5ed3f26f841b03b92f6ca1c31c4745f938a081b/rasterio-1.1.5-cp36-cp36m-manylinux1_x86_64.whl (18.2MB)\n",
            "\r\u001b[K     |                                | 10kB 5.4MB/s eta 0:00:04\r\u001b[K     |                                | 20kB 1.4MB/s eta 0:00:13\r\u001b[K     |                                | 30kB 1.9MB/s eta 0:00:10\r\u001b[K     |                                | 40kB 1.5MB/s eta 0:00:12\r\u001b[K     |                                | 51kB 1.8MB/s eta 0:00:11\r\u001b[K     |                                | 61kB 2.0MB/s eta 0:00:09\r\u001b[K     |▏                               | 71kB 2.2MB/s eta 0:00:09\r\u001b[K     |▏                               | 81kB 2.5MB/s eta 0:00:08\r\u001b[K     |▏                               | 92kB 2.6MB/s eta 0:00:07\r\u001b[K     |▏                               | 102kB 2.6MB/s eta 0:00:08\r\u001b[K     |▏                               | 112kB 2.6MB/s eta 0:00:08\r\u001b[K     |▏                               | 122kB 2.6MB/s eta 0:00:08\r\u001b[K     |▎                               | 133kB 2.6MB/s eta 0:00:07\r\u001b[K     |▎                               | 143kB 2.6MB/s eta 0:00:07\r\u001b[K     |▎                               | 153kB 2.6MB/s eta 0:00:07\r\u001b[K     |▎                               | 163kB 2.6MB/s eta 0:00:07\r\u001b[K     |▎                               | 174kB 2.6MB/s eta 0:00:07\r\u001b[K     |▎                               | 184kB 2.6MB/s eta 0:00:07\r\u001b[K     |▍                               | 194kB 2.6MB/s eta 0:00:07\r\u001b[K     |▍                               | 204kB 2.6MB/s eta 0:00:07\r\u001b[K     |▍                               | 215kB 2.6MB/s eta 0:00:07\r\u001b[K     |▍                               | 225kB 2.6MB/s eta 0:00:07\r\u001b[K     |▍                               | 235kB 2.6MB/s eta 0:00:07\r\u001b[K     |▍                               | 245kB 2.6MB/s eta 0:00:07\r\u001b[K     |▌                               | 256kB 2.6MB/s eta 0:00:07\r\u001b[K     |▌                               | 266kB 2.6MB/s eta 0:00:07\r\u001b[K     |▌                               | 276kB 2.6MB/s eta 0:00:07\r\u001b[K     |▌                               | 286kB 2.6MB/s eta 0:00:07\r\u001b[K     |▌                               | 296kB 2.6MB/s eta 0:00:07\r\u001b[K     |▌                               | 307kB 2.6MB/s eta 0:00:07\r\u001b[K     |▋                               | 317kB 2.6MB/s eta 0:00:07\r\u001b[K     |▋                               | 327kB 2.6MB/s eta 0:00:07\r\u001b[K     |▋                               | 337kB 2.6MB/s eta 0:00:07\r\u001b[K     |▋                               | 348kB 2.6MB/s eta 0:00:07\r\u001b[K     |▋                               | 358kB 2.6MB/s eta 0:00:07\r\u001b[K     |▋                               | 368kB 2.6MB/s eta 0:00:07\r\u001b[K     |▋                               | 378kB 2.6MB/s eta 0:00:07\r\u001b[K     |▊                               | 389kB 2.6MB/s eta 0:00:07\r\u001b[K     |▊                               | 399kB 2.6MB/s eta 0:00:07\r\u001b[K     |▊                               | 409kB 2.6MB/s eta 0:00:07\r\u001b[K     |▊                               | 419kB 2.6MB/s eta 0:00:07\r\u001b[K     |▊                               | 430kB 2.6MB/s eta 0:00:07\r\u001b[K     |▊                               | 440kB 2.6MB/s eta 0:00:07\r\u001b[K     |▉                               | 450kB 2.6MB/s eta 0:00:07\r\u001b[K     |▉                               | 460kB 2.6MB/s eta 0:00:07\r\u001b[K     |▉                               | 471kB 2.6MB/s eta 0:00:07\r\u001b[K     |▉                               | 481kB 2.6MB/s eta 0:00:07\r\u001b[K     |▉                               | 491kB 2.6MB/s eta 0:00:07\r\u001b[K     |▉                               | 501kB 2.6MB/s eta 0:00:07\r\u001b[K     |█                               | 512kB 2.6MB/s eta 0:00:07\r\u001b[K     |█                               | 522kB 2.6MB/s eta 0:00:07\r\u001b[K     |█                               | 532kB 2.6MB/s eta 0:00:07\r\u001b[K     |█                               | 542kB 2.6MB/s eta 0:00:07\r\u001b[K     |█                               | 552kB 2.6MB/s eta 0:00:07\r\u001b[K     |█                               | 563kB 2.6MB/s eta 0:00:07\r\u001b[K     |█                               | 573kB 2.6MB/s eta 0:00:07\r\u001b[K     |█                               | 583kB 2.6MB/s eta 0:00:07\r\u001b[K     |█                               | 593kB 2.6MB/s eta 0:00:07\r\u001b[K     |█                               | 604kB 2.6MB/s eta 0:00:07\r\u001b[K     |█                               | 614kB 2.6MB/s eta 0:00:07\r\u001b[K     |█                               | 624kB 2.6MB/s eta 0:00:07\r\u001b[K     |█▏                              | 634kB 2.6MB/s eta 0:00:07\r\u001b[K     |█▏                              | 645kB 2.6MB/s eta 0:00:07\r\u001b[K     |█▏                              | 655kB 2.6MB/s eta 0:00:07\r\u001b[K     |█▏                              | 665kB 2.6MB/s eta 0:00:07\r\u001b[K     |█▏                              | 675kB 2.6MB/s eta 0:00:07\r\u001b[K     |█▏                              | 686kB 2.6MB/s eta 0:00:07\r\u001b[K     |█▎                              | 696kB 2.6MB/s eta 0:00:07\r\u001b[K     |█▎                              | 706kB 2.6MB/s eta 0:00:07\r\u001b[K     |█▎                              | 716kB 2.6MB/s eta 0:00:07\r\u001b[K     |█▎                              | 727kB 2.6MB/s eta 0:00:07\r\u001b[K     |█▎                              | 737kB 2.6MB/s eta 0:00:07\r\u001b[K     |█▎                              | 747kB 2.6MB/s eta 0:00:07\r\u001b[K     |█▎                              | 757kB 2.6MB/s eta 0:00:07\r\u001b[K     |█▍                              | 768kB 2.6MB/s eta 0:00:07\r\u001b[K     |█▍                              | 778kB 2.6MB/s eta 0:00:07\r\u001b[K     |█▍                              | 788kB 2.6MB/s eta 0:00:07\r\u001b[K     |█▍                              | 798kB 2.6MB/s eta 0:00:07\r\u001b[K     |█▍                              | 808kB 2.6MB/s eta 0:00:07\r\u001b[K     |█▍                              | 819kB 2.6MB/s eta 0:00:07\r\u001b[K     |█▌                              | 829kB 2.6MB/s eta 0:00:07\r\u001b[K     |█▌                              | 839kB 2.6MB/s eta 0:00:07\r\u001b[K     |█▌                              | 849kB 2.6MB/s eta 0:00:07\r\u001b[K     |█▌                              | 860kB 2.6MB/s eta 0:00:07\r\u001b[K     |█▌                              | 870kB 2.6MB/s eta 0:00:07\r\u001b[K     |█▌                              | 880kB 2.6MB/s eta 0:00:07\r\u001b[K     |█▋                              | 890kB 2.6MB/s eta 0:00:07\r\u001b[K     |█▋                              | 901kB 2.6MB/s eta 0:00:07\r\u001b[K     |█▋                              | 911kB 2.6MB/s eta 0:00:07\r\u001b[K     |█▋                              | 921kB 2.6MB/s eta 0:00:07\r\u001b[K     |█▋                              | 931kB 2.6MB/s eta 0:00:07\r\u001b[K     |█▋                              | 942kB 2.6MB/s eta 0:00:07\r\u001b[K     |█▊                              | 952kB 2.6MB/s eta 0:00:07\r\u001b[K     |█▊                              | 962kB 2.6MB/s eta 0:00:07\r\u001b[K     |█▊                              | 972kB 2.6MB/s eta 0:00:07\r\u001b[K     |█▊                              | 983kB 2.6MB/s eta 0:00:07\r\u001b[K     |█▊                              | 993kB 2.6MB/s eta 0:00:07\r\u001b[K     |█▊                              | 1.0MB 2.6MB/s eta 0:00:07\r\u001b[K     |█▉                              | 1.0MB 2.6MB/s eta 0:00:07\r\u001b[K     |█▉                              | 1.0MB 2.6MB/s eta 0:00:07\r\u001b[K     |█▉                              | 1.0MB 2.6MB/s eta 0:00:07\r\u001b[K     |█▉                              | 1.0MB 2.6MB/s eta 0:00:07\r\u001b[K     |█▉                              | 1.1MB 2.6MB/s eta 0:00:07\r\u001b[K     |█▉                              | 1.1MB 2.6MB/s eta 0:00:07\r\u001b[K     |██                              | 1.1MB 2.6MB/s eta 0:00:07\r\u001b[K     |██                              | 1.1MB 2.6MB/s eta 0:00:07\r\u001b[K     |██                              | 1.1MB 2.6MB/s eta 0:00:07\r\u001b[K     |██                              | 1.1MB 2.6MB/s eta 0:00:07\r\u001b[K     |██                              | 1.1MB 2.6MB/s eta 0:00:07\r\u001b[K     |██                              | 1.1MB 2.6MB/s eta 0:00:07\r\u001b[K     |██                              | 1.1MB 2.6MB/s eta 0:00:07\r\u001b[K     |██                              | 1.1MB 2.6MB/s eta 0:00:07\r\u001b[K     |██                              | 1.2MB 2.6MB/s eta 0:00:07\r\u001b[K     |██                              | 1.2MB 2.6MB/s eta 0:00:07\r\u001b[K     |██                              | 1.2MB 2.6MB/s eta 0:00:07\r\u001b[K     |██                              | 1.2MB 2.6MB/s eta 0:00:07\r\u001b[K     |██                              | 1.2MB 2.6MB/s eta 0:00:07\r\u001b[K     |██▏                             | 1.2MB 2.6MB/s eta 0:00:07\r\u001b[K     |██▏                             | 1.2MB 2.6MB/s eta 0:00:07\r\u001b[K     |██▏                             | 1.2MB 2.6MB/s eta 0:00:07\r\u001b[K     |██▏                             | 1.2MB 2.6MB/s eta 0:00:07\r\u001b[K     |██▏                             | 1.2MB 2.6MB/s eta 0:00:07\r\u001b[K     |██▏                             | 1.3MB 2.6MB/s eta 0:00:07\r\u001b[K     |██▎                             | 1.3MB 2.6MB/s eta 0:00:07\r\u001b[K     |██▎                             | 1.3MB 2.6MB/s eta 0:00:07\r\u001b[K     |██▎                             | 1.3MB 2.6MB/s eta 0:00:07\r\u001b[K     |██▎                             | 1.3MB 2.6MB/s eta 0:00:07\r\u001b[K     |██▎                             | 1.3MB 2.6MB/s eta 0:00:07\r\u001b[K     |██▎                             | 1.3MB 2.6MB/s eta 0:00:07\r\u001b[K     |██▍                             | 1.3MB 2.6MB/s eta 0:00:07\r\u001b[K     |██▍                             | 1.3MB 2.6MB/s eta 0:00:07\r\u001b[K     |██▍                             | 1.4MB 2.6MB/s eta 0:00:07\r\u001b[K     |██▍                             | 1.4MB 2.6MB/s eta 0:00:07\r\u001b[K     |██▍                             | 1.4MB 2.6MB/s eta 0:00:07\r\u001b[K     |██▍                             | 1.4MB 2.6MB/s eta 0:00:07\r\u001b[K     |██▌                             | 1.4MB 2.6MB/s eta 0:00:07\r\u001b[K     |██▌                             | 1.4MB 2.6MB/s eta 0:00:07\r\u001b[K     |██▌                             | 1.4MB 2.6MB/s eta 0:00:07\r\u001b[K     |██▌                             | 1.4MB 2.6MB/s eta 0:00:07\r\u001b[K     |██▌                             | 1.4MB 2.6MB/s eta 0:00:07\r\u001b[K     |██▌                             | 1.4MB 2.6MB/s eta 0:00:07\r\u001b[K     |██▌                             | 1.5MB 2.6MB/s eta 0:00:07\r\u001b[K     |██▋                             | 1.5MB 2.6MB/s eta 0:00:07\r\u001b[K     |██▋                             | 1.5MB 2.6MB/s eta 0:00:07\r\u001b[K     |██▋                             | 1.5MB 2.6MB/s eta 0:00:07\r\u001b[K     |██▋                             | 1.5MB 2.6MB/s eta 0:00:07\r\u001b[K     |██▋                             | 1.5MB 2.6MB/s eta 0:00:07\r\u001b[K     |██▋                             | 1.5MB 2.6MB/s eta 0:00:07\r\u001b[K     |██▊                             | 1.5MB 2.6MB/s eta 0:00:07\r\u001b[K     |██▊                             | 1.5MB 2.6MB/s eta 0:00:07\r\u001b[K     |██▊                             | 1.5MB 2.6MB/s eta 0:00:07\r\u001b[K     |██▊                             | 1.6MB 2.6MB/s eta 0:00:07\r\u001b[K     |██▊                             | 1.6MB 2.6MB/s eta 0:00:07\r\u001b[K     |██▊                             | 1.6MB 2.6MB/s eta 0:00:07\r\u001b[K     |██▉                             | 1.6MB 2.6MB/s eta 0:00:07\r\u001b[K     |██▉                             | 1.6MB 2.6MB/s eta 0:00:07\r\u001b[K     |██▉                             | 1.6MB 2.6MB/s eta 0:00:07\r\u001b[K     |██▉                             | 1.6MB 2.6MB/s eta 0:00:07\r\u001b[K     |██▉                             | 1.6MB 2.6MB/s eta 0:00:07\r\u001b[K     |██▉                             | 1.6MB 2.6MB/s eta 0:00:07\r\u001b[K     |███                             | 1.6MB 2.6MB/s eta 0:00:07\r\u001b[K     |███                             | 1.7MB 2.6MB/s eta 0:00:07\r\u001b[K     |███                             | 1.7MB 2.6MB/s eta 0:00:07\r\u001b[K     |███                             | 1.7MB 2.6MB/s eta 0:00:07\r\u001b[K     |███                             | 1.7MB 2.6MB/s eta 0:00:07\r\u001b[K     |███                             | 1.7MB 2.6MB/s eta 0:00:07\r\u001b[K     |███                             | 1.7MB 2.6MB/s eta 0:00:07\r\u001b[K     |███                             | 1.7MB 2.6MB/s eta 0:00:07\r\u001b[K     |███                             | 1.7MB 2.6MB/s eta 0:00:07\r\u001b[K     |███                             | 1.7MB 2.6MB/s eta 0:00:07\r\u001b[K     |███                             | 1.8MB 2.6MB/s eta 0:00:07\r\u001b[K     |███                             | 1.8MB 2.6MB/s eta 0:00:07\r\u001b[K     |███▏                            | 1.8MB 2.6MB/s eta 0:00:07\r\u001b[K     |███▏                            | 1.8MB 2.6MB/s eta 0:00:07\r\u001b[K     |███▏                            | 1.8MB 2.6MB/s eta 0:00:07\r\u001b[K     |███▏                            | 1.8MB 2.6MB/s eta 0:00:07\r\u001b[K     |███▏                            | 1.8MB 2.6MB/s eta 0:00:07\r\u001b[K     |███▏                            | 1.8MB 2.6MB/s eta 0:00:07\r\u001b[K     |███▏                            | 1.8MB 2.6MB/s eta 0:00:07\r\u001b[K     |███▎                            | 1.8MB 2.6MB/s eta 0:00:07\r\u001b[K     |███▎                            | 1.9MB 2.6MB/s eta 0:00:07\r\u001b[K     |███▎                            | 1.9MB 2.6MB/s eta 0:00:07\r\u001b[K     |███▎                            | 1.9MB 2.6MB/s eta 0:00:07\r\u001b[K     |███▎                            | 1.9MB 2.6MB/s eta 0:00:07\r\u001b[K     |███▎                            | 1.9MB 2.6MB/s eta 0:00:07\r\u001b[K     |███▍                            | 1.9MB 2.6MB/s eta 0:00:07\r\u001b[K     |███▍                            | 1.9MB 2.6MB/s eta 0:00:07\r\u001b[K     |███▍                            | 1.9MB 2.6MB/s eta 0:00:07\r\u001b[K     |███▍                            | 1.9MB 2.6MB/s eta 0:00:07\r\u001b[K     |███▍                            | 1.9MB 2.6MB/s eta 0:00:07\r\u001b[K     |███▍                            | 2.0MB 2.6MB/s eta 0:00:07\r\u001b[K     |███▌                            | 2.0MB 2.6MB/s eta 0:00:07\r\u001b[K     |███▌                            | 2.0MB 2.6MB/s eta 0:00:07\r\u001b[K     |███▌                            | 2.0MB 2.6MB/s eta 0:00:07\r\u001b[K     |███▌                            | 2.0MB 2.6MB/s eta 0:00:07\r\u001b[K     |███▌                            | 2.0MB 2.6MB/s eta 0:00:07\r\u001b[K     |███▌                            | 2.0MB 2.6MB/s eta 0:00:07\r\u001b[K     |███▋                            | 2.0MB 2.6MB/s eta 0:00:07\r\u001b[K     |███▋                            | 2.0MB 2.6MB/s eta 0:00:07\r\u001b[K     |███▋                            | 2.0MB 2.6MB/s eta 0:00:07\r\u001b[K     |███▋                            | 2.1MB 2.6MB/s eta 0:00:07\r\u001b[K     |███▋                            | 2.1MB 2.6MB/s eta 0:00:07\r\u001b[K     |███▋                            | 2.1MB 2.6MB/s eta 0:00:07\r\u001b[K     |███▊                            | 2.1MB 2.6MB/s eta 0:00:07\r\u001b[K     |███▊                            | 2.1MB 2.6MB/s eta 0:00:07\r\u001b[K     |███▊                            | 2.1MB 2.6MB/s eta 0:00:07\r\u001b[K     |███▊                            | 2.1MB 2.6MB/s eta 0:00:07\r\u001b[K     |███▊                            | 2.1MB 2.6MB/s eta 0:00:07\r\u001b[K     |███▊                            | 2.1MB 2.6MB/s eta 0:00:07\r\u001b[K     |███▉                            | 2.2MB 2.6MB/s eta 0:00:07\r\u001b[K     |███▉                            | 2.2MB 2.6MB/s eta 0:00:07\r\u001b[K     |███▉                            | 2.2MB 2.6MB/s eta 0:00:07\r\u001b[K     |███▉                            | 2.2MB 2.6MB/s eta 0:00:07\r\u001b[K     |███▉                            | 2.2MB 2.6MB/s eta 0:00:07\r\u001b[K     |███▉                            | 2.2MB 2.6MB/s eta 0:00:07\r\u001b[K     |███▉                            | 2.2MB 2.6MB/s eta 0:00:07\r\u001b[K     |████                            | 2.2MB 2.6MB/s eta 0:00:07\r\u001b[K     |████                            | 2.2MB 2.6MB/s eta 0:00:07\r\u001b[K     |████                            | 2.2MB 2.6MB/s eta 0:00:07\r\u001b[K     |████                            | 2.3MB 2.6MB/s eta 0:00:07\r\u001b[K     |████                            | 2.3MB 2.6MB/s eta 0:00:07\r\u001b[K     |████                            | 2.3MB 2.6MB/s eta 0:00:07\r\u001b[K     |████                            | 2.3MB 2.6MB/s eta 0:00:07\r\u001b[K     |████                            | 2.3MB 2.6MB/s eta 0:00:07\r\u001b[K     |████                            | 2.3MB 2.6MB/s eta 0:00:07\r\u001b[K     |████                            | 2.3MB 2.6MB/s eta 0:00:07\r\u001b[K     |████                            | 2.3MB 2.6MB/s eta 0:00:07\r\u001b[K     |████                            | 2.3MB 2.6MB/s eta 0:00:07\r\u001b[K     |████▏                           | 2.3MB 2.6MB/s eta 0:00:07\r\u001b[K     |████▏                           | 2.4MB 2.6MB/s eta 0:00:07\r\u001b[K     |████▏                           | 2.4MB 2.6MB/s eta 0:00:07\r\u001b[K     |████▏                           | 2.4MB 2.6MB/s eta 0:00:07\r\u001b[K     |████▏                           | 2.4MB 2.6MB/s eta 0:00:07\r\u001b[K     |████▏                           | 2.4MB 2.6MB/s eta 0:00:07\r\u001b[K     |████▎                           | 2.4MB 2.6MB/s eta 0:00:07\r\u001b[K     |████▎                           | 2.4MB 2.6MB/s eta 0:00:07\r\u001b[K     |████▎                           | 2.4MB 2.6MB/s eta 0:00:07\r\u001b[K     |████▎                           | 2.4MB 2.6MB/s eta 0:00:07\r\u001b[K     |████▎                           | 2.4MB 2.6MB/s eta 0:00:07\r\u001b[K     |████▎                           | 2.5MB 2.6MB/s eta 0:00:07\r\u001b[K     |████▍                           | 2.5MB 2.6MB/s eta 0:00:07\r\u001b[K     |████▍                           | 2.5MB 2.6MB/s eta 0:00:07\r\u001b[K     |████▍                           | 2.5MB 2.6MB/s eta 0:00:07\r\u001b[K     |████▍                           | 2.5MB 2.6MB/s eta 0:00:07\r\u001b[K     |████▍                           | 2.5MB 2.6MB/s eta 0:00:07\r\u001b[K     |████▍                           | 2.5MB 2.6MB/s eta 0:00:07\r\u001b[K     |████▌                           | 2.5MB 2.6MB/s eta 0:00:07\r\u001b[K     |████▌                           | 2.5MB 2.6MB/s eta 0:00:07\r\u001b[K     |████▌                           | 2.5MB 2.6MB/s eta 0:00:07\r\u001b[K     |████▌                           | 2.6MB 2.6MB/s eta 0:00:07\r\u001b[K     |████▌                           | 2.6MB 2.6MB/s eta 0:00:07\r\u001b[K     |████▌                           | 2.6MB 2.6MB/s eta 0:00:07\r\u001b[K     |████▌                           | 2.6MB 2.6MB/s eta 0:00:07\r\u001b[K     |████▋                           | 2.6MB 2.6MB/s eta 0:00:07\r\u001b[K     |████▋                           | 2.6MB 2.6MB/s eta 0:00:07\r\u001b[K     |████▋                           | 2.6MB 2.6MB/s eta 0:00:07\r\u001b[K     |████▋                           | 2.6MB 2.6MB/s eta 0:00:07\r\u001b[K     |████▋                           | 2.6MB 2.6MB/s eta 0:00:07\r\u001b[K     |████▋                           | 2.7MB 2.6MB/s eta 0:00:07\r\u001b[K     |████▊                           | 2.7MB 2.6MB/s eta 0:00:07\r\u001b[K     |████▊                           | 2.7MB 2.6MB/s eta 0:00:07\r\u001b[K     |████▊                           | 2.7MB 2.6MB/s eta 0:00:07\r\u001b[K     |████▊                           | 2.7MB 2.6MB/s eta 0:00:07\r\u001b[K     |████▊                           | 2.7MB 2.6MB/s eta 0:00:07\r\u001b[K     |████▊                           | 2.7MB 2.6MB/s eta 0:00:06\r\u001b[K     |████▉                           | 2.7MB 2.6MB/s eta 0:00:06\r\u001b[K     |████▉                           | 2.7MB 2.6MB/s eta 0:00:06\r\u001b[K     |████▉                           | 2.7MB 2.6MB/s eta 0:00:06\r\u001b[K     |████▉                           | 2.8MB 2.6MB/s eta 0:00:06\r\u001b[K     |████▉                           | 2.8MB 2.6MB/s eta 0:00:06\r\u001b[K     |████▉                           | 2.8MB 2.6MB/s eta 0:00:06\r\u001b[K     |█████                           | 2.8MB 2.6MB/s eta 0:00:06\r\u001b[K     |█████                           | 2.8MB 2.6MB/s eta 0:00:06\r\u001b[K     |█████                           | 2.8MB 2.6MB/s eta 0:00:06\r\u001b[K     |█████                           | 2.8MB 2.6MB/s eta 0:00:06\r\u001b[K     |█████                           | 2.8MB 2.6MB/s eta 0:00:06\r\u001b[K     |█████                           | 2.8MB 2.6MB/s eta 0:00:06\r\u001b[K     |█████                           | 2.8MB 2.6MB/s eta 0:00:06\r\u001b[K     |█████                           | 2.9MB 2.6MB/s eta 0:00:06\r\u001b[K     |█████                           | 2.9MB 2.6MB/s eta 0:00:06\r\u001b[K     |█████                           | 2.9MB 2.6MB/s eta 0:00:06\r\u001b[K     |█████                           | 2.9MB 2.6MB/s eta 0:00:06\r\u001b[K     |█████                           | 2.9MB 2.6MB/s eta 0:00:06\r\u001b[K     |█████                           | 2.9MB 2.6MB/s eta 0:00:06\r\u001b[K     |█████▏                          | 2.9MB 2.6MB/s eta 0:00:06\r\u001b[K     |█████▏                          | 2.9MB 2.6MB/s eta 0:00:06\r\u001b[K     |█████▏                          | 2.9MB 2.6MB/s eta 0:00:06\r\u001b[K     |█████▏                          | 2.9MB 2.6MB/s eta 0:00:06\r\u001b[K     |█████▏                          | 3.0MB 2.6MB/s eta 0:00:06\r\u001b[K     |█████▏                          | 3.0MB 2.6MB/s eta 0:00:06\r\u001b[K     |█████▎                          | 3.0MB 2.6MB/s eta 0:00:06\r\u001b[K     |█████▎                          | 3.0MB 2.6MB/s eta 0:00:06\r\u001b[K     |█████▎                          | 3.0MB 2.6MB/s eta 0:00:06\r\u001b[K     |█████▎                          | 3.0MB 2.6MB/s eta 0:00:06\r\u001b[K     |█████▎                          | 3.0MB 2.6MB/s eta 0:00:06\r\u001b[K     |█████▎                          | 3.0MB 2.6MB/s eta 0:00:06\r\u001b[K     |█████▍                          | 3.0MB 2.6MB/s eta 0:00:06\r\u001b[K     |█████▍                          | 3.1MB 2.6MB/s eta 0:00:06\r\u001b[K     |█████▍                          | 3.1MB 2.6MB/s eta 0:00:06\r\u001b[K     |█████▍                          | 3.1MB 2.6MB/s eta 0:00:06\r\u001b[K     |█████▍                          | 3.1MB 2.6MB/s eta 0:00:06\r\u001b[K     |█████▍                          | 3.1MB 2.6MB/s eta 0:00:06\r\u001b[K     |█████▌                          | 3.1MB 2.6MB/s eta 0:00:06\r\u001b[K     |█████▌                          | 3.1MB 2.6MB/s eta 0:00:06\r\u001b[K     |█████▌                          | 3.1MB 2.6MB/s eta 0:00:06\r\u001b[K     |█████▌                          | 3.1MB 2.6MB/s eta 0:00:06\r\u001b[K     |█████▌                          | 3.1MB 2.6MB/s eta 0:00:06\r\u001b[K     |█████▌                          | 3.2MB 2.6MB/s eta 0:00:06\r\u001b[K     |█████▋                          | 3.2MB 2.6MB/s eta 0:00:06\r\u001b[K     |█████▋                          | 3.2MB 2.6MB/s eta 0:00:06\r\u001b[K     |█████▋                          | 3.2MB 2.6MB/s eta 0:00:06\r\u001b[K     |█████▋                          | 3.2MB 2.6MB/s eta 0:00:06\r\u001b[K     |█████▋                          | 3.2MB 2.6MB/s eta 0:00:06\r\u001b[K     |█████▋                          | 3.2MB 2.6MB/s eta 0:00:06\r\u001b[K     |█████▊                          | 3.2MB 2.6MB/s eta 0:00:06\r\u001b[K     |█████▊                          | 3.2MB 2.6MB/s eta 0:00:06\r\u001b[K     |█████▊                          | 3.2MB 2.6MB/s eta 0:00:06\r\u001b[K     |█████▊                          | 3.3MB 2.6MB/s eta 0:00:06\r\u001b[K     |█████▊                          | 3.3MB 2.6MB/s eta 0:00:06\r\u001b[K     |█████▊                          | 3.3MB 2.6MB/s eta 0:00:06\r\u001b[K     |█████▊                          | 3.3MB 2.6MB/s eta 0:00:06\r\u001b[K     |█████▉                          | 3.3MB 2.6MB/s eta 0:00:06\r\u001b[K     |█████▉                          | 3.3MB 2.6MB/s eta 0:00:06\r\u001b[K     |█████▉                          | 3.3MB 2.6MB/s eta 0:00:06\r\u001b[K     |█████▉                          | 3.3MB 2.6MB/s eta 0:00:06\r\u001b[K     |█████▉                          | 3.3MB 2.6MB/s eta 0:00:06\r\u001b[K     |█████▉                          | 3.3MB 2.6MB/s eta 0:00:06\r\u001b[K     |██████                          | 3.4MB 2.6MB/s eta 0:00:06\r\u001b[K     |██████                          | 3.4MB 2.6MB/s eta 0:00:06\r\u001b[K     |██████                          | 3.4MB 2.6MB/s eta 0:00:06\r\u001b[K     |██████                          | 3.4MB 2.6MB/s eta 0:00:06\r\u001b[K     |██████                          | 3.4MB 2.6MB/s eta 0:00:06\r\u001b[K     |██████                          | 3.4MB 2.6MB/s eta 0:00:06\r\u001b[K     |██████                          | 3.4MB 2.6MB/s eta 0:00:06\r\u001b[K     |██████                          | 3.4MB 2.6MB/s eta 0:00:06\r\u001b[K     |██████                          | 3.4MB 2.6MB/s eta 0:00:06\r\u001b[K     |██████                          | 3.5MB 2.6MB/s eta 0:00:06\r\u001b[K     |██████                          | 3.5MB 2.6MB/s eta 0:00:06\r\u001b[K     |██████                          | 3.5MB 2.6MB/s eta 0:00:06\r\u001b[K     |██████▏                         | 3.5MB 2.6MB/s eta 0:00:06\r\u001b[K     |██████▏                         | 3.5MB 2.6MB/s eta 0:00:06\r\u001b[K     |██████▏                         | 3.5MB 2.6MB/s eta 0:00:06\r\u001b[K     |██████▏                         | 3.5MB 2.6MB/s eta 0:00:06\r\u001b[K     |██████▏                         | 3.5MB 2.6MB/s eta 0:00:06\r\u001b[K     |██████▏                         | 3.5MB 2.6MB/s eta 0:00:06\r\u001b[K     |██████▎                         | 3.5MB 2.6MB/s eta 0:00:06\r\u001b[K     |██████▎                         | 3.6MB 2.6MB/s eta 0:00:06\r\u001b[K     |██████▎                         | 3.6MB 2.6MB/s eta 0:00:06\r\u001b[K     |██████▎                         | 3.6MB 2.6MB/s eta 0:00:06\r\u001b[K     |██████▎                         | 3.6MB 2.6MB/s eta 0:00:06\r\u001b[K     |██████▎                         | 3.6MB 2.6MB/s eta 0:00:06\r\u001b[K     |██████▍                         | 3.6MB 2.6MB/s eta 0:00:06\r\u001b[K     |██████▍                         | 3.6MB 2.6MB/s eta 0:00:06\r\u001b[K     |██████▍                         | 3.6MB 2.6MB/s eta 0:00:06\r\u001b[K     |██████▍                         | 3.6MB 2.6MB/s eta 0:00:06\r\u001b[K     |██████▍                         | 3.6MB 2.6MB/s eta 0:00:06\r\u001b[K     |██████▍                         | 3.7MB 2.6MB/s eta 0:00:06\r\u001b[K     |██████▍                         | 3.7MB 2.6MB/s eta 0:00:06\r\u001b[K     |██████▌                         | 3.7MB 2.6MB/s eta 0:00:06\r\u001b[K     |██████▌                         | 3.7MB 2.6MB/s eta 0:00:06\r\u001b[K     |██████▌                         | 3.7MB 2.6MB/s eta 0:00:06\r\u001b[K     |██████▌                         | 3.7MB 2.6MB/s eta 0:00:06\r\u001b[K     |██████▌                         | 3.7MB 2.6MB/s eta 0:00:06\r\u001b[K     |██████▌                         | 3.7MB 2.6MB/s eta 0:00:06\r\u001b[K     |██████▋                         | 3.7MB 2.6MB/s eta 0:00:06\r\u001b[K     |██████▋                         | 3.7MB 2.6MB/s eta 0:00:06\r\u001b[K     |██████▋                         | 3.8MB 2.6MB/s eta 0:00:06\r\u001b[K     |██████▋                         | 3.8MB 2.6MB/s eta 0:00:06\r\u001b[K     |██████▋                         | 3.8MB 2.6MB/s eta 0:00:06\r\u001b[K     |██████▋                         | 3.8MB 2.6MB/s eta 0:00:06\r\u001b[K     |██████▊                         | 3.8MB 2.6MB/s eta 0:00:06\r\u001b[K     |██████▊                         | 3.8MB 2.6MB/s eta 0:00:06\r\u001b[K     |██████▊                         | 3.8MB 2.6MB/s eta 0:00:06\r\u001b[K     |██████▊                         | 3.8MB 2.6MB/s eta 0:00:06\r\u001b[K     |██████▊                         | 3.8MB 2.6MB/s eta 0:00:06\r\u001b[K     |██████▊                         | 3.9MB 2.6MB/s eta 0:00:06\r\u001b[K     |██████▉                         | 3.9MB 2.6MB/s eta 0:00:06\r\u001b[K     |██████▉                         | 3.9MB 2.6MB/s eta 0:00:06\r\u001b[K     |██████▉                         | 3.9MB 2.6MB/s eta 0:00:06\r\u001b[K     |██████▉                         | 3.9MB 2.6MB/s eta 0:00:06\r\u001b[K     |██████▉                         | 3.9MB 2.6MB/s eta 0:00:06\r\u001b[K     |██████▉                         | 3.9MB 2.6MB/s eta 0:00:06\r\u001b[K     |███████                         | 3.9MB 2.6MB/s eta 0:00:06\r\u001b[K     |███████                         | 3.9MB 2.6MB/s eta 0:00:06\r\u001b[K     |███████                         | 3.9MB 2.6MB/s eta 0:00:06\r\u001b[K     |███████                         | 4.0MB 2.6MB/s eta 0:00:06\r\u001b[K     |███████                         | 4.0MB 2.6MB/s eta 0:00:06\r\u001b[K     |███████                         | 4.0MB 2.6MB/s eta 0:00:06\r\u001b[K     |███████                         | 4.0MB 2.6MB/s eta 0:00:06\r\u001b[K     |███████                         | 4.0MB 2.6MB/s eta 0:00:06\r\u001b[K     |███████                         | 4.0MB 2.6MB/s eta 0:00:06\r\u001b[K     |███████                         | 4.0MB 2.6MB/s eta 0:00:06\r\u001b[K     |███████                         | 4.0MB 2.6MB/s eta 0:00:06\r\u001b[K     |███████                         | 4.0MB 2.6MB/s eta 0:00:06\r\u001b[K     |███████                         | 4.0MB 2.6MB/s eta 0:00:06\r\u001b[K     |███████▏                        | 4.1MB 2.6MB/s eta 0:00:06\r\u001b[K     |███████▏                        | 4.1MB 2.6MB/s eta 0:00:06\r\u001b[K     |███████▏                        | 4.1MB 2.6MB/s eta 0:00:06\r\u001b[K     |███████▏                        | 4.1MB 2.6MB/s eta 0:00:06\r\u001b[K     |███████▏                        | 4.1MB 2.6MB/s eta 0:00:06\r\u001b[K     |███████▏                        | 4.1MB 2.6MB/s eta 0:00:06\r\u001b[K     |███████▎                        | 4.1MB 2.6MB/s eta 0:00:06\r\u001b[K     |███████▎                        | 4.1MB 2.6MB/s eta 0:00:06\r\u001b[K     |███████▎                        | 4.1MB 2.6MB/s eta 0:00:06\r\u001b[K     |███████▎                        | 4.1MB 2.6MB/s eta 0:00:06\r\u001b[K     |███████▎                        | 4.2MB 2.6MB/s eta 0:00:06\r\u001b[K     |███████▎                        | 4.2MB 2.6MB/s eta 0:00:06\r\u001b[K     |███████▍                        | 4.2MB 2.6MB/s eta 0:00:06\r\u001b[K     |███████▍                        | 4.2MB 2.6MB/s eta 0:00:06\r\u001b[K     |███████▍                        | 4.2MB 2.6MB/s eta 0:00:06\r\u001b[K     |███████▍                        | 4.2MB 2.6MB/s eta 0:00:06\r\u001b[K     |███████▍                        | 4.2MB 2.6MB/s eta 0:00:06\r\u001b[K     |███████▍                        | 4.2MB 2.6MB/s eta 0:00:06\r\u001b[K     |███████▌                        | 4.2MB 2.6MB/s eta 0:00:06\r\u001b[K     |███████▌                        | 4.2MB 2.6MB/s eta 0:00:06\r\u001b[K     |███████▌                        | 4.3MB 2.6MB/s eta 0:00:06\r\u001b[K     |███████▌                        | 4.3MB 2.6MB/s eta 0:00:06\r\u001b[K     |███████▌                        | 4.3MB 2.6MB/s eta 0:00:06\r\u001b[K     |███████▌                        | 4.3MB 2.6MB/s eta 0:00:06\r\u001b[K     |███████▋                        | 4.3MB 2.6MB/s eta 0:00:06\r\u001b[K     |███████▋                        | 4.3MB 2.6MB/s eta 0:00:06\r\u001b[K     |███████▋                        | 4.3MB 2.6MB/s eta 0:00:06\r\u001b[K     |███████▋                        | 4.3MB 2.6MB/s eta 0:00:06\r\u001b[K     |███████▋                        | 4.3MB 2.6MB/s eta 0:00:06\r\u001b[K     |███████▋                        | 4.4MB 2.6MB/s eta 0:00:06\r\u001b[K     |███████▋                        | 4.4MB 2.6MB/s eta 0:00:06\r\u001b[K     |███████▊                        | 4.4MB 2.6MB/s eta 0:00:06\r\u001b[K     |███████▊                        | 4.4MB 2.6MB/s eta 0:00:06\r\u001b[K     |███████▊                        | 4.4MB 2.6MB/s eta 0:00:06\r\u001b[K     |███████▊                        | 4.4MB 2.6MB/s eta 0:00:06\r\u001b[K     |███████▊                        | 4.4MB 2.6MB/s eta 0:00:06\r\u001b[K     |███████▊                        | 4.4MB 2.6MB/s eta 0:00:06\r\u001b[K     |███████▉                        | 4.4MB 2.6MB/s eta 0:00:06\r\u001b[K     |███████▉                        | 4.4MB 2.6MB/s eta 0:00:06\r\u001b[K     |███████▉                        | 4.5MB 2.6MB/s eta 0:00:06\r\u001b[K     |███████▉                        | 4.5MB 2.6MB/s eta 0:00:06\r\u001b[K     |███████▉                        | 4.5MB 2.6MB/s eta 0:00:06\r\u001b[K     |███████▉                        | 4.5MB 2.6MB/s eta 0:00:06\r\u001b[K     |████████                        | 4.5MB 2.6MB/s eta 0:00:06\r\u001b[K     |████████                        | 4.5MB 2.6MB/s eta 0:00:06\r\u001b[K     |████████                        | 4.5MB 2.6MB/s eta 0:00:06\r\u001b[K     |████████                        | 4.5MB 2.6MB/s eta 0:00:06\r\u001b[K     |████████                        | 4.5MB 2.6MB/s eta 0:00:06\r\u001b[K     |████████                        | 4.5MB 2.6MB/s eta 0:00:06\r\u001b[K     |████████                        | 4.6MB 2.6MB/s eta 0:00:06\r\u001b[K     |████████                        | 4.6MB 2.6MB/s eta 0:00:06\r\u001b[K     |████████                        | 4.6MB 2.6MB/s eta 0:00:06\r\u001b[K     |████████                        | 4.6MB 2.6MB/s eta 0:00:06\r\u001b[K     |████████                        | 4.6MB 2.6MB/s eta 0:00:06\r\u001b[K     |████████                        | 4.6MB 2.6MB/s eta 0:00:06\r\u001b[K     |████████▏                       | 4.6MB 2.6MB/s eta 0:00:06\r\u001b[K     |████████▏                       | 4.6MB 2.6MB/s eta 0:00:06\r\u001b[K     |████████▏                       | 4.6MB 2.6MB/s eta 0:00:06\r\u001b[K     |████████▏                       | 4.6MB 2.6MB/s eta 0:00:06\r\u001b[K     |████████▏                       | 4.7MB 2.6MB/s eta 0:00:06\r\u001b[K     |████████▏                       | 4.7MB 2.6MB/s eta 0:00:06\r\u001b[K     |████████▎                       | 4.7MB 2.6MB/s eta 0:00:06\r\u001b[K     |████████▎                       | 4.7MB 2.6MB/s eta 0:00:06\r\u001b[K     |████████▎                       | 4.7MB 2.6MB/s eta 0:00:06\r\u001b[K     |████████▎                       | 4.7MB 2.6MB/s eta 0:00:06\r\u001b[K     |████████▎                       | 4.7MB 2.6MB/s eta 0:00:06\r\u001b[K     |████████▎                       | 4.7MB 2.6MB/s eta 0:00:06\r\u001b[K     |████████▎                       | 4.7MB 2.6MB/s eta 0:00:06\r\u001b[K     |████████▍                       | 4.8MB 2.6MB/s eta 0:00:06\r\u001b[K     |████████▍                       | 4.8MB 2.6MB/s eta 0:00:06\r\u001b[K     |████████▍                       | 4.8MB 2.6MB/s eta 0:00:06\r\u001b[K     |████████▍                       | 4.8MB 2.6MB/s eta 0:00:06\r\u001b[K     |████████▍                       | 4.8MB 2.6MB/s eta 0:00:06\r\u001b[K     |████████▍                       | 4.8MB 2.6MB/s eta 0:00:06\r\u001b[K     |████████▌                       | 4.8MB 2.6MB/s eta 0:00:06\r\u001b[K     |████████▌                       | 4.8MB 2.6MB/s eta 0:00:06\r\u001b[K     |████████▌                       | 4.8MB 2.6MB/s eta 0:00:06\r\u001b[K     |████████▌                       | 4.8MB 2.6MB/s eta 0:00:06\r\u001b[K     |████████▌                       | 4.9MB 2.6MB/s eta 0:00:06\r\u001b[K     |████████▌                       | 4.9MB 2.6MB/s eta 0:00:06\r\u001b[K     |████████▋                       | 4.9MB 2.6MB/s eta 0:00:06\r\u001b[K     |████████▋                       | 4.9MB 2.6MB/s eta 0:00:06\r\u001b[K     |████████▋                       | 4.9MB 2.6MB/s eta 0:00:06\r\u001b[K     |████████▋                       | 4.9MB 2.6MB/s eta 0:00:06\r\u001b[K     |████████▋                       | 4.9MB 2.6MB/s eta 0:00:06\r\u001b[K     |████████▋                       | 4.9MB 2.6MB/s eta 0:00:06\r\u001b[K     |████████▊                       | 4.9MB 2.6MB/s eta 0:00:06\r\u001b[K     |████████▊                       | 4.9MB 2.6MB/s eta 0:00:06"
          ],
          "name": "stdout"
        },
        {
          "output_type": "stream",
          "text": [
            "\n",
            "Downloading:  14%|█▍        | 143M/1.03G [00:17<02:19, 6.33MB/s]\u001b[A\n"
          ],
          "name": "stderr"
        },
        {
          "output_type": "stream",
          "text": [
            "\r\u001b[K     |████████▊                       | 5.0MB 2.6MB/s eta 0:00:06\r\u001b[K     |████████▊                       | 5.0MB 2.6MB/s eta 0:00:06\r\u001b[K     |████████▊                       | 5.0MB 2.6MB/s eta 0:00:06\r\u001b[K     |████████▊                       | 5.0MB 2.6MB/s eta 0:00:06\r\u001b[K     |████████▉                       | 5.0MB 2.6MB/s eta 0:00:06\r\u001b[K     |████████▉                       | 5.0MB 2.6MB/s eta 0:00:06\r\u001b[K     |████████▉                       | 5.0MB 2.6MB/s eta 0:00:06\r\u001b[K     |████████▉                       | 5.0MB 2.6MB/s eta 0:00:06\r\u001b[K     |████████▉                       | 5.0MB 2.6MB/s eta 0:00:06\r\u001b[K     |████████▉                       | 5.0MB 2.6MB/s eta 0:00:06\r\u001b[K     |█████████                       | 5.1MB 2.6MB/s eta 0:00:06\r\u001b[K     |█████████                       | 5.1MB 2.6MB/s eta 0:00:06\r\u001b[K     |█████████                       | 5.1MB 2.6MB/s eta 0:00:06\r\u001b[K     |█████████                       | 5.1MB 2.6MB/s eta 0:00:06\r\u001b[K     |█████████                       | 5.1MB 2.6MB/s eta 0:00:06\r\u001b[K     |█████████                       | 5.1MB 2.6MB/s eta 0:00:06\r\u001b[K     |█████████                       | 5.1MB 2.6MB/s eta 0:00:06\r\u001b[K     |█████████                       | 5.1MB 2.6MB/s eta 0:00:06\r\u001b[K     |█████████                       | 5.1MB 2.6MB/s eta 0:00:06\r\u001b[K     |█████████                       | 5.2MB 2.6MB/s eta 0:00:06\r\u001b[K     |█████████                       | 5.2MB 2.6MB/s eta 0:00:06\r\u001b[K     |█████████                       | 5.2MB 2.6MB/s eta 0:00:06\r\u001b[K     |█████████                       | 5.2MB 2.6MB/s eta 0:00:06\r\u001b[K     |█████████▏                      | 5.2MB 2.6MB/s eta 0:00:06\r\u001b[K     |█████████▏                      | 5.2MB 2.6MB/s eta 0:00:06\r\u001b[K     |█████████▏                      | 5.2MB 2.6MB/s eta 0:00:06\r\u001b[K     |█████████▏                      | 5.2MB 2.6MB/s eta 0:00:06\r\u001b[K     |█████████▏                      | 5.2MB 2.6MB/s eta 0:00:06\r\u001b[K     |█████████▏                      | 5.2MB 2.6MB/s eta 0:00:06\r\u001b[K     |█████████▎                      | 5.3MB 2.6MB/s eta 0:00:06\r\u001b[K     |█████████▎                      | 5.3MB 2.6MB/s eta 0:00:06\r\u001b[K     |█████████▎                      | 5.3MB 2.6MB/s eta 0:00:06\r\u001b[K     |█████████▎                      | 5.3MB 2.6MB/s eta 0:00:06\r\u001b[K     |█████████▎                      | 5.3MB 2.6MB/s eta 0:00:06\r\u001b[K     |█████████▎                      | 5.3MB 2.6MB/s eta 0:00:05\r\u001b[K     |█████████▍                      | 5.3MB 2.6MB/s eta 0:00:05\r\u001b[K     |█████████▍                      | 5.3MB 2.6MB/s eta 0:00:05\r\u001b[K     |█████████▍                      | 5.3MB 2.6MB/s eta 0:00:05\r\u001b[K     |█████████▍                      | 5.3MB 2.6MB/s eta 0:00:05\r\u001b[K     |█████████▍                      | 5.4MB 2.6MB/s eta 0:00:05\r\u001b[K     |█████████▍                      | 5.4MB 2.6MB/s eta 0:00:05\r\u001b[K     |█████████▌                      | 5.4MB 2.6MB/s eta 0:00:05\r\u001b[K     |█████████▌                      | 5.4MB 2.6MB/s eta 0:00:05\r\u001b[K     |█████████▌                      | 5.4MB 2.6MB/s eta 0:00:05\r\u001b[K     |█████████▌                      | 5.4MB 2.6MB/s eta 0:00:05\r\u001b[K     |█████████▌                      | 5.4MB 2.6MB/s eta 0:00:05\r\u001b[K     |█████████▌                      | 5.4MB 2.6MB/s eta 0:00:05\r\u001b[K     |█████████▌                      | 5.4MB 2.6MB/s eta 0:00:05\r\u001b[K     |█████████▋                      | 5.4MB 2.6MB/s eta 0:00:05\r\u001b[K     |█████████▋                      | 5.5MB 2.6MB/s eta 0:00:05\r\u001b[K     |█████████▋                      | 5.5MB 2.6MB/s eta 0:00:05\r\u001b[K     |█████████▋                      | 5.5MB 2.6MB/s eta 0:00:05\r\u001b[K     |█████████▋                      | 5.5MB 2.6MB/s eta 0:00:05\r\u001b[K     |█████████▋                      | 5.5MB 2.6MB/s eta 0:00:05\r\u001b[K     |█████████▊                      | 5.5MB 2.6MB/s eta 0:00:05\r\u001b[K     |█████████▊                      | 5.5MB 2.6MB/s eta 0:00:05\r\u001b[K     |█████████▊                      | 5.5MB 2.6MB/s eta 0:00:05\r\u001b[K     |█████████▊                      | 5.5MB 2.6MB/s eta 0:00:05\r\u001b[K     |█████████▊                      | 5.6MB 2.6MB/s eta 0:00:05\r\u001b[K     |█████████▊                      | 5.6MB 2.6MB/s eta 0:00:05\r\u001b[K     |█████████▉                      | 5.6MB 2.6MB/s eta 0:00:05\r\u001b[K     |█████████▉                      | 5.6MB 2.6MB/s eta 0:00:05\r\u001b[K     |█████████▉                      | 5.6MB 2.6MB/s eta 0:00:05\r\u001b[K     |█████████▉                      | 5.6MB 2.6MB/s eta 0:00:05\r\u001b[K     |█████████▉                      | 5.6MB 2.6MB/s eta 0:00:05\r\u001b[K     |█████████▉                      | 5.6MB 2.6MB/s eta 0:00:05\r\u001b[K     |██████████                      | 5.6MB 2.6MB/s eta 0:00:05\r\u001b[K     |██████████                      | 5.6MB 2.6MB/s eta 0:00:05\r\u001b[K     |██████████                      | 5.7MB 2.6MB/s eta 0:00:05\r\u001b[K     |██████████                      | 5.7MB 2.6MB/s eta 0:00:05\r\u001b[K     |██████████                      | 5.7MB 2.6MB/s eta 0:00:05\r\u001b[K     |██████████                      | 5.7MB 2.6MB/s eta 0:00:05\r\u001b[K     |██████████                      | 5.7MB 2.6MB/s eta 0:00:05\r\u001b[K     |██████████                      | 5.7MB 2.6MB/s eta 0:00:05\r\u001b[K     |██████████                      | 5.7MB 2.6MB/s eta 0:00:05\r\u001b[K     |██████████                      | 5.7MB 2.6MB/s eta 0:00:05\r\u001b[K     |██████████                      | 5.7MB 2.6MB/s eta 0:00:05\r\u001b[K     |██████████                      | 5.7MB 2.6MB/s eta 0:00:05\r\u001b[K     |██████████▏                     | 5.8MB 2.6MB/s eta 0:00:05\r\u001b[K     |██████████▏                     | 5.8MB 2.6MB/s eta 0:00:05\r\u001b[K     |██████████▏                     | 5.8MB 2.6MB/s eta 0:00:05\r\u001b[K     |██████████▏                     | 5.8MB 2.6MB/s eta 0:00:05\r\u001b[K     |██████████▏                     | 5.8MB 2.6MB/s eta 0:00:05\r\u001b[K     |██████████▏                     | 5.8MB 2.6MB/s eta 0:00:05\r\u001b[K     |██████████▏                     | 5.8MB 2.6MB/s eta 0:00:05\r\u001b[K     |██████████▎                     | 5.8MB 2.6MB/s eta 0:00:05\r\u001b[K     |██████████▎                     | 5.8MB 2.6MB/s eta 0:00:05\r\u001b[K     |██████████▎                     | 5.8MB 2.6MB/s eta 0:00:05\r\u001b[K     |██████████▎                     | 5.9MB 2.6MB/s eta 0:00:05\r\u001b[K     |██████████▎                     | 5.9MB 2.6MB/s eta 0:00:05\r\u001b[K     |██████████▎                     | 5.9MB 2.6MB/s eta 0:00:05\r\u001b[K     |██████████▍                     | 5.9MB 2.6MB/s eta 0:00:05\r\u001b[K     |██████████▍                     | 5.9MB 2.6MB/s eta 0:00:05\r\u001b[K     |██████████▍                     | 5.9MB 2.6MB/s eta 0:00:05\r\u001b[K     |██████████▍                     | 5.9MB 2.6MB/s eta 0:00:05\r\u001b[K     |██████████▍                     | 5.9MB 2.6MB/s eta 0:00:05\r\u001b[K     |██████████▍                     | 5.9MB 2.6MB/s eta 0:00:05\r\u001b[K     |██████████▌                     | 5.9MB 2.6MB/s eta 0:00:05\r\u001b[K     |██████████▌                     | 6.0MB 2.6MB/s eta 0:00:05\r\u001b[K     |██████████▌                     | 6.0MB 2.6MB/s eta 0:00:05\r\u001b[K     |██████████▌                     | 6.0MB 2.6MB/s eta 0:00:05\r\u001b[K     |██████████▌                     | 6.0MB 2.6MB/s eta 0:00:05\r\u001b[K     |██████████▌                     | 6.0MB 2.6MB/s eta 0:00:05\r\u001b[K     |██████████▋                     | 6.0MB 2.6MB/s eta 0:00:05\r\u001b[K     |██████████▋                     | 6.0MB 2.6MB/s eta 0:00:05\r\u001b[K     |██████████▋                     | 6.0MB 2.6MB/s eta 0:00:05\r\u001b[K     |██████████▋                     | 6.0MB 2.6MB/s eta 0:00:05\r\u001b[K     |██████████▋                     | 6.1MB 2.6MB/s eta 0:00:05\r\u001b[K     |██████████▋                     | 6.1MB 2.6MB/s eta 0:00:05\r\u001b[K     |██████████▊                     | 6.1MB 2.6MB/s eta 0:00:05\r\u001b[K     |██████████▊                     | 6.1MB 2.6MB/s eta 0:00:05\r\u001b[K     |██████████▊                     | 6.1MB 2.6MB/s eta 0:00:05\r\u001b[K     |██████████▊                     | 6.1MB 2.6MB/s eta 0:00:05\r\u001b[K     |██████████▊                     | 6.1MB 2.6MB/s eta 0:00:05\r\u001b[K     |██████████▊                     | 6.1MB 2.6MB/s eta 0:00:05\r\u001b[K     |██████████▉                     | 6.1MB 2.6MB/s eta 0:00:05\r\u001b[K     |██████████▉                     | 6.1MB 2.6MB/s eta 0:00:05\r\u001b[K     |██████████▉                     | 6.2MB 2.6MB/s eta 0:00:05\r\u001b[K     |██████████▉                     | 6.2MB 2.6MB/s eta 0:00:05\r\u001b[K     |██████████▉                     | 6.2MB 2.6MB/s eta 0:00:05\r\u001b[K     |██████████▉                     | 6.2MB 2.6MB/s eta 0:00:05\r\u001b[K     |██████████▉                     | 6.2MB 2.6MB/s eta 0:00:05\r\u001b[K     |███████████                     | 6.2MB 2.6MB/s eta 0:00:05\r\u001b[K     |███████████                     | 6.2MB 2.6MB/s eta 0:00:05\r\u001b[K     |███████████                     | 6.2MB 2.6MB/s eta 0:00:05\r\u001b[K     |███████████                     | 6.2MB 2.6MB/s eta 0:00:05\r\u001b[K     |███████████                     | 6.2MB 2.6MB/s eta 0:00:05\r\u001b[K     |███████████                     | 6.3MB 2.6MB/s eta 0:00:05\r\u001b[K     |███████████                     | 6.3MB 2.6MB/s eta 0:00:05\r\u001b[K     |███████████                     | 6.3MB 2.6MB/s eta 0:00:05\r\u001b[K     |███████████                     | 6.3MB 2.6MB/s eta 0:00:05\r\u001b[K     |███████████                     | 6.3MB 2.6MB/s eta 0:00:05\r\u001b[K     |███████████                     | 6.3MB 2.6MB/s eta 0:00:05\r\u001b[K     |███████████                     | 6.3MB 2.6MB/s eta 0:00:05\r\u001b[K     |███████████▏                    | 6.3MB 2.6MB/s eta 0:00:05\r\u001b[K     |███████████▏                    | 6.3MB 2.6MB/s eta 0:00:05\r\u001b[K     |███████████▏                    | 6.3MB 2.6MB/s eta 0:00:05\r\u001b[K     |███████████▏                    | 6.4MB 2.6MB/s eta 0:00:05\r\u001b[K     |███████████▏                    | 6.4MB 2.6MB/s eta 0:00:05\r\u001b[K     |███████████▏                    | 6.4MB 2.6MB/s eta 0:00:05\r\u001b[K     |███████████▎                    | 6.4MB 2.6MB/s eta 0:00:05\r\u001b[K     |███████████▎                    | 6.4MB 2.6MB/s eta 0:00:05\r\u001b[K     |███████████▎                    | 6.4MB 2.6MB/s eta 0:00:05\r\u001b[K     |███████████▎                    | 6.4MB 2.6MB/s eta 0:00:05\r\u001b[K     |███████████▎                    | 6.4MB 2.6MB/s eta 0:00:05\r\u001b[K     |███████████▎                    | 6.4MB 2.6MB/s eta 0:00:05\r\u001b[K     |███████████▍                    | 6.5MB 2.6MB/s eta 0:00:05\r\u001b[K     |███████████▍                    | 6.5MB 2.6MB/s eta 0:00:05\r\u001b[K     |███████████▍                    | 6.5MB 2.6MB/s eta 0:00:05\r\u001b[K     |███████████▍                    | 6.5MB 2.6MB/s eta 0:00:05\r\u001b[K     |███████████▍                    | 6.5MB 2.6MB/s eta 0:00:05\r\u001b[K     |███████████▍                    | 6.5MB 2.6MB/s eta 0:00:05\r\u001b[K     |███████████▌                    | 6.5MB 2.6MB/s eta 0:00:05\r\u001b[K     |███████████▌                    | 6.5MB 2.6MB/s eta 0:00:05\r\u001b[K     |███████████▌                    | 6.5MB 2.6MB/s eta 0:00:05\r\u001b[K     |███████████▌                    | 6.5MB 2.6MB/s eta 0:00:05\r\u001b[K     |███████████▌                    | 6.6MB 2.6MB/s eta 0:00:05\r\u001b[K     |███████████▌                    | 6.6MB 2.6MB/s eta 0:00:05\r\u001b[K     |███████████▌                    | 6.6MB 2.6MB/s eta 0:00:05\r\u001b[K     |███████████▋                    | 6.6MB 2.6MB/s eta 0:00:05\r\u001b[K     |███████████▋                    | 6.6MB 2.6MB/s eta 0:00:05\r\u001b[K     |███████████▋                    | 6.6MB 2.6MB/s eta 0:00:05\r\u001b[K     |███████████▋                    | 6.6MB 2.6MB/s eta 0:00:05\r\u001b[K     |███████████▋                    | 6.6MB 2.6MB/s eta 0:00:05\r\u001b[K     |███████████▋                    | 6.6MB 2.6MB/s eta 0:00:05\r\u001b[K     |███████████▊                    | 6.6MB 2.6MB/s eta 0:00:05\r\u001b[K     |███████████▊                    | 6.7MB 2.6MB/s eta 0:00:05\r\u001b[K     |███████████▊                    | 6.7MB 2.6MB/s eta 0:00:05\r\u001b[K     |███████████▊                    | 6.7MB 2.6MB/s eta 0:00:05\r\u001b[K     |███████████▊                    | 6.7MB 2.6MB/s eta 0:00:05\r\u001b[K     |███████████▊                    | 6.7MB 2.6MB/s eta 0:00:05\r\u001b[K     |███████████▉                    | 6.7MB 2.6MB/s eta 0:00:05\r\u001b[K     |███████████▉                    | 6.7MB 2.6MB/s eta 0:00:05\r\u001b[K     |███████████▉                    | 6.7MB 2.6MB/s eta 0:00:05\r\u001b[K     |███████████▉                    | 6.7MB 2.6MB/s eta 0:00:05\r\u001b[K     |███████████▉                    | 6.7MB 2.6MB/s eta 0:00:05\r\u001b[K     |███████████▉                    | 6.8MB 2.6MB/s eta 0:00:05\r\u001b[K     |████████████                    | 6.8MB 2.6MB/s eta 0:00:05\r\u001b[K     |████████████                    | 6.8MB 2.6MB/s eta 0:00:05\r\u001b[K     |████████████                    | 6.8MB 2.6MB/s eta 0:00:05\r\u001b[K     |████████████                    | 6.8MB 2.6MB/s eta 0:00:05\r\u001b[K     |████████████                    | 6.8MB 2.6MB/s eta 0:00:05\r\u001b[K     |████████████                    | 6.8MB 2.6MB/s eta 0:00:05\r\u001b[K     |████████████                    | 6.8MB 2.6MB/s eta 0:00:05\r\u001b[K     |████████████                    | 6.8MB 2.6MB/s eta 0:00:05\r\u001b[K     |████████████                    | 6.9MB 2.6MB/s eta 0:00:05\r\u001b[K     |████████████                    | 6.9MB 2.6MB/s eta 0:00:05\r\u001b[K     |████████████                    | 6.9MB 2.6MB/s eta 0:00:05\r\u001b[K     |████████████                    | 6.9MB 2.6MB/s eta 0:00:05\r\u001b[K     |████████████                    | 6.9MB 2.6MB/s eta 0:00:05\r\u001b[K     |████████████▏                   | 6.9MB 2.6MB/s eta 0:00:05\r\u001b[K     |████████████▏                   | 6.9MB 2.6MB/s eta 0:00:05\r\u001b[K     |████████████▏                   | 6.9MB 2.6MB/s eta 0:00:05\r\u001b[K     |████████████▏                   | 6.9MB 2.6MB/s eta 0:00:05\r\u001b[K     |████████████▏                   | 6.9MB 2.6MB/s eta 0:00:05\r\u001b[K     |████████████▏                   | 7.0MB 2.6MB/s eta 0:00:05\r\u001b[K     |████████████▎                   | 7.0MB 2.6MB/s eta 0:00:05\r\u001b[K     |████████████▎                   | 7.0MB 2.6MB/s eta 0:00:05\r\u001b[K     |████████████▎                   | 7.0MB 2.6MB/s eta 0:00:05\r\u001b[K     |████████████▎                   | 7.0MB 2.6MB/s eta 0:00:05\r\u001b[K     |████████████▎                   | 7.0MB 2.6MB/s eta 0:00:05\r\u001b[K     |████████████▎                   | 7.0MB 2.6MB/s eta 0:00:05\r\u001b[K     |████████████▍                   | 7.0MB 2.6MB/s eta 0:00:05\r\u001b[K     |████████████▍                   | 7.0MB 2.6MB/s eta 0:00:05\r\u001b[K     |████████████▍                   | 7.0MB 2.6MB/s eta 0:00:05\r\u001b[K     |████████████▍                   | 7.1MB 2.6MB/s eta 0:00:05\r\u001b[K     |████████████▍                   | 7.1MB 2.6MB/s eta 0:00:05\r\u001b[K     |████████████▍                   | 7.1MB 2.6MB/s eta 0:00:05\r\u001b[K     |████████████▌                   | 7.1MB 2.6MB/s eta 0:00:05\r\u001b[K     |████████████▌                   | 7.1MB 2.6MB/s eta 0:00:05\r\u001b[K     |████████████▌                   | 7.1MB 2.6MB/s eta 0:00:05\r\u001b[K     |████████████▌                   | 7.1MB 2.6MB/s eta 0:00:05\r\u001b[K     |████████████▌                   | 7.1MB 2.6MB/s eta 0:00:05\r\u001b[K     |████████████▌                   | 7.1MB 2.6MB/s eta 0:00:05\r\u001b[K     |████████████▋                   | 7.1MB 2.6MB/s eta 0:00:05\r\u001b[K     |████████████▋                   | 7.2MB 2.6MB/s eta 0:00:05\r\u001b[K     |████████████▋                   | 7.2MB 2.6MB/s eta 0:00:05\r\u001b[K     |████████████▋                   | 7.2MB 2.6MB/s eta 0:00:05\r\u001b[K     |████████████▋                   | 7.2MB 2.6MB/s eta 0:00:05\r\u001b[K     |████████████▋                   | 7.2MB 2.6MB/s eta 0:00:05\r\u001b[K     |████████████▊                   | 7.2MB 2.6MB/s eta 0:00:05\r\u001b[K     |████████████▊                   | 7.2MB 2.6MB/s eta 0:00:05\r\u001b[K     |████████████▊                   | 7.2MB 2.6MB/s eta 0:00:05\r\u001b[K     |████████████▊                   | 7.2MB 2.6MB/s eta 0:00:05\r\u001b[K     |████████████▊                   | 7.2MB 2.6MB/s eta 0:00:05\r\u001b[K     |████████████▊                   | 7.3MB 2.6MB/s eta 0:00:05\r\u001b[K     |████████████▊                   | 7.3MB 2.6MB/s eta 0:00:05\r\u001b[K     |████████████▉                   | 7.3MB 2.6MB/s eta 0:00:05\r\u001b[K     |████████████▉                   | 7.3MB 2.6MB/s eta 0:00:05\r\u001b[K     |████████████▉                   | 7.3MB 2.6MB/s eta 0:00:05\r\u001b[K     |████████████▉                   | 7.3MB 2.6MB/s eta 0:00:05\r\u001b[K     |████████████▉                   | 7.3MB 2.6MB/s eta 0:00:05\r\u001b[K     |████████████▉                   | 7.3MB 2.6MB/s eta 0:00:05\r\u001b[K     |█████████████                   | 7.3MB 2.6MB/s eta 0:00:05\r\u001b[K     |█████████████                   | 7.4MB 2.6MB/s eta 0:00:05\r\u001b[K     |█████████████                   | 7.4MB 2.6MB/s eta 0:00:05\r\u001b[K     |█████████████                   | 7.4MB 2.6MB/s eta 0:00:05\r\u001b[K     |█████████████                   | 7.4MB 2.6MB/s eta 0:00:05\r\u001b[K     |█████████████                   | 7.4MB 2.6MB/s eta 0:00:05\r\u001b[K     |█████████████                   | 7.4MB 2.6MB/s eta 0:00:05\r\u001b[K     |█████████████                   | 7.4MB 2.6MB/s eta 0:00:05\r\u001b[K     |█████████████                   | 7.4MB 2.6MB/s eta 0:00:05\r\u001b[K     |█████████████                   | 7.4MB 2.6MB/s eta 0:00:05\r\u001b[K     |█████████████                   | 7.4MB 2.6MB/s eta 0:00:05\r\u001b[K     |█████████████                   | 7.5MB 2.6MB/s eta 0:00:05\r\u001b[K     |█████████████▏                  | 7.5MB 2.6MB/s eta 0:00:05\r\u001b[K     |█████████████▏                  | 7.5MB 2.6MB/s eta 0:00:05\r\u001b[K     |█████████████▏                  | 7.5MB 2.6MB/s eta 0:00:05\r\u001b[K     |█████████████▏                  | 7.5MB 2.6MB/s eta 0:00:05\r\u001b[K     |█████████████▏                  | 7.5MB 2.6MB/s eta 0:00:05\r\u001b[K     |█████████████▏                  | 7.5MB 2.6MB/s eta 0:00:05\r\u001b[K     |█████████████▎                  | 7.5MB 2.6MB/s eta 0:00:05\r\u001b[K     |█████████████▎                  | 7.5MB 2.6MB/s eta 0:00:05\r\u001b[K     |█████████████▎                  | 7.5MB 2.6MB/s eta 0:00:05\r\u001b[K     |█████████████▎                  | 7.6MB 2.6MB/s eta 0:00:05\r\u001b[K     |█████████████▎                  | 7.6MB 2.6MB/s eta 0:00:05\r\u001b[K     |█████████████▎                  | 7.6MB 2.6MB/s eta 0:00:05\r\u001b[K     |█████████████▍                  | 7.6MB 2.6MB/s eta 0:00:05\r\u001b[K     |█████████████▍                  | 7.6MB 2.6MB/s eta 0:00:05\r\u001b[K     |█████████████▍                  | 7.6MB 2.6MB/s eta 0:00:05\r\u001b[K     |█████████████▍                  | 7.6MB 2.6MB/s eta 0:00:05\r\u001b[K     |█████████████▍                  | 7.6MB 2.6MB/s eta 0:00:05\r\u001b[K     |█████████████▍                  | 7.6MB 2.6MB/s eta 0:00:05\r\u001b[K     |█████████████▍                  | 7.6MB 2.6MB/s eta 0:00:05\r\u001b[K     |█████████████▌                  | 7.7MB 2.6MB/s eta 0:00:05\r\u001b[K     |█████████████▌                  | 7.7MB 2.6MB/s eta 0:00:05\r\u001b[K     |█████████████▌                  | 7.7MB 2.6MB/s eta 0:00:05\r\u001b[K     |█████████████▌                  | 7.7MB 2.6MB/s eta 0:00:05\r\u001b[K     |█████████████▌                  | 7.7MB 2.6MB/s eta 0:00:05\r\u001b[K     |█████████████▌                  | 7.7MB 2.6MB/s eta 0:00:05\r\u001b[K     |█████████████▋                  | 7.7MB 2.6MB/s eta 0:00:05\r\u001b[K     |█████████████▋                  | 7.7MB 2.6MB/s eta 0:00:05\r\u001b[K     |█████████████▋                  | 7.7MB 2.6MB/s eta 0:00:05\r\u001b[K     |█████████████▋                  | 7.8MB 2.6MB/s eta 0:00:05\r\u001b[K     |█████████████▋                  | 7.8MB 2.6MB/s eta 0:00:05\r\u001b[K     |█████████████▋                  | 7.8MB 2.6MB/s eta 0:00:05\r\u001b[K     |█████████████▊                  | 7.8MB 2.6MB/s eta 0:00:05\r\u001b[K     |█████████████▊                  | 7.8MB 2.6MB/s eta 0:00:05\r\u001b[K     |█████████████▊                  | 7.8MB 2.6MB/s eta 0:00:05\r\u001b[K     |█████████████▊                  | 7.8MB 2.6MB/s eta 0:00:05\r\u001b[K     |█████████████▊                  | 7.8MB 2.6MB/s eta 0:00:05\r\u001b[K     |█████████████▊                  | 7.8MB 2.6MB/s eta 0:00:05\r\u001b[K     |█████████████▉                  | 7.8MB 2.6MB/s eta 0:00:05\r\u001b[K     |█████████████▉                  | 7.9MB 2.6MB/s eta 0:00:05\r\u001b[K     |█████████████▉                  | 7.9MB 2.6MB/s eta 0:00:05\r\u001b[K     |█████████████▉                  | 7.9MB 2.6MB/s eta 0:00:05\r\u001b[K     |█████████████▉                  | 7.9MB 2.6MB/s eta 0:00:04\r\u001b[K     |█████████████▉                  | 7.9MB 2.6MB/s eta 0:00:04\r\u001b[K     |██████████████                  | 7.9MB 2.6MB/s eta 0:00:04\r\u001b[K     |██████████████                  | 7.9MB 2.6MB/s eta 0:00:04\r\u001b[K     |██████████████                  | 7.9MB 2.6MB/s eta 0:00:04\r\u001b[K     |██████████████                  | 7.9MB 2.6MB/s eta 0:00:04\r\u001b[K     |██████████████                  | 7.9MB 2.6MB/s eta 0:00:04\r\u001b[K     |██████████████                  | 8.0MB 2.6MB/s eta 0:00:04\r\u001b[K     |██████████████                  | 8.0MB 2.6MB/s eta 0:00:04\r\u001b[K     |██████████████                  | 8.0MB 2.6MB/s eta 0:00:04\r\u001b[K     |██████████████                  | 8.0MB 2.6MB/s eta 0:00:04\r\u001b[K     |██████████████                  | 8.0MB 2.6MB/s eta 0:00:04\r\u001b[K     |██████████████                  | 8.0MB 2.6MB/s eta 0:00:04\r\u001b[K     |██████████████                  | 8.0MB 2.6MB/s eta 0:00:04\r\u001b[K     |██████████████                  | 8.0MB 2.6MB/s eta 0:00:04\r\u001b[K     |██████████████▏                 | 8.0MB 2.6MB/s eta 0:00:04\r\u001b[K     |██████████████▏                 | 8.0MB 2.6MB/s eta 0:00:04\r\u001b[K     |██████████████▏                 | 8.1MB 2.6MB/s eta 0:00:04\r\u001b[K     |██████████████▏                 | 8.1MB 2.6MB/s eta 0:00:04\r\u001b[K     |██████████████▏                 | 8.1MB 2.6MB/s eta 0:00:04\r\u001b[K     |██████████████▏                 | 8.1MB 2.6MB/s eta 0:00:04\r\u001b[K     |██████████████▎                 | 8.1MB 2.6MB/s eta 0:00:04\r\u001b[K     |██████████████▎                 | 8.1MB 2.6MB/s eta 0:00:04\r\u001b[K     |██████████████▎                 | 8.1MB 2.6MB/s eta 0:00:04\r\u001b[K     |██████████████▎                 | 8.1MB 2.6MB/s eta 0:00:04\r\u001b[K     |██████████████▎                 | 8.1MB 2.6MB/s eta 0:00:04\r\u001b[K     |██████████████▎                 | 8.2MB 2.6MB/s eta 0:00:04\r\u001b[K     |██████████████▍                 | 8.2MB 2.6MB/s eta 0:00:04\r\u001b[K     |██████████████▍                 | 8.2MB 2.6MB/s eta 0:00:04\r\u001b[K     |██████████████▍                 | 8.2MB 2.6MB/s eta 0:00:04\r\u001b[K"
          ],
          "name": "stdout"
        },
        {
          "output_type": "stream",
          "text": [
            "Downloading:  34%|███▍      | 339M/1.00G [00:39<02:02, 5.39MB/s]\n",
            "Downloading:  34%|███▍      | 340M/1.00G [00:39<02:00, 5.46MB/s]"
          ],
          "name": "stderr"
        },
        {
          "output_type": "stream",
          "text": [
            "     |██████████████▍                 | 8.2MB 2.6MB/s eta 0:00:04\r\u001b[K     |██████████████▍                 | 8.2MB 2.6MB/s eta 0:00:04\r\u001b[K     |██████████████▍                 | 8.2MB 2.6MB/s eta 0:00:04\r\u001b[K     |██████████████▌                 | 8.2MB 2.6MB/s eta 0:00:04\r\u001b[K     |██████████████▌                 | 8.2MB 2.6MB/s eta 0:00:04\r\u001b[K     |██████████████▌                 | 8.2MB 2.6MB/s eta 0:00:04\r\u001b[K     |██████████████▌                 | 8.3MB 2.6MB/s eta 0:00:04\r\u001b[K     |██████████████▌                 | 8.3MB 2.6MB/s eta 0:00:04\r\u001b[K     |██████████████▌                 | 8.3MB 2.6MB/s eta 0:00:04\r\u001b[K     |██████████████▋                 | 8.3MB 2.6MB/s eta 0:00:04\r\u001b[K     |██████████████▋                 | 8.3MB 2.6MB/s eta 0:00:04\r\u001b[K     |██████████████▋                 | 8.3MB 2.6MB/s eta 0:00:04\r\u001b[K     |██████████████▋                 | 8.3MB 2.6MB/s eta 0:00:04\r\u001b[K     |██████████████▋                 | 8.3MB 2.6MB/s eta 0:00:04\r\u001b[K     |██████████████▋                 | 8.3MB 2.6MB/s eta 0:00:04\r\u001b[K     |██████████████▋                 | 8.3MB 2.6MB/s eta 0:00:04\r\u001b[K     |██████████████▊                 | 8.4MB 2.6MB/s eta 0:00:04\r\u001b[K     |██████████████▊                 | 8.4MB 2.6MB/s eta 0:00:04\r\u001b[K     |██████████████▊                 | 8.4MB 2.6MB/s eta 0:00:04\r\u001b[K     |██████████████▊                 | 8.4MB 2.6MB/s eta 0:00:04\r\u001b[K     |██████████████▊                 | 8.4MB 2.6MB/s eta 0:00:04\r\u001b[K     |██████████████▊                 | 8.4MB 2.6MB/s eta 0:00:04\r\u001b[K     |██████████████▉                 | 8.4MB 2.6MB/s eta 0:00:04\r\u001b[K     |██████████████▉                 | 8.4MB 2.6MB/s eta 0:00:04\r\u001b[K     |██████████████▉                 | 8.4MB 2.6MB/s eta 0:00:04\r\u001b[K     |██████████████▉                 | 8.4MB 2.6MB/s eta 0:00:04\r\u001b[K     |██████████████▉                 | 8.5MB 2.6MB/s eta 0:00:04\r\u001b[K     |██████████████▉                 | 8.5MB 2.6MB/s eta 0:00:04\r\u001b[K     |███████████████                 | 8.5MB 2.6MB/s eta 0:00:04\r\u001b[K     |███████████████                 | 8.5MB 2.6MB/s eta 0:00:04\r\u001b[K     |███████████████                 | 8.5MB 2.6MB/s eta 0:00:04\r\u001b[K     |███████████████                 | 8.5MB 2.6MB/s eta 0:00:04\r\u001b[K     |███████████████                 | 8.5MB 2.6MB/s eta 0:00:04\r\u001b[K     |███████████████                 | 8.5MB 2.6MB/s eta 0:00:04\r\u001b[K     |███████████████                 | 8.5MB 2.6MB/s eta 0:00:04\r\u001b[K     |███████████████                 | 8.6MB 2.6MB/s eta 0:00:04\r\u001b[K     |███████████████                 | 8.6MB 2.6MB/s eta 0:00:04\r\u001b[K     |███████████████                 | 8.6MB 2.6MB/s eta 0:00:04\r\u001b[K     |███████████████                 | 8.6MB 2.6MB/s eta 0:00:04\r\u001b[K     |███████████████                 | 8.6MB 2.6MB/s eta 0:00:04\r\u001b[K     |███████████████▏                | 8.6MB 2.6MB/s eta 0:00:04\r\u001b[K     |███████████████▏                | 8.6MB 2.6MB/s eta 0:00:04\r\u001b[K     |███████████████▏                | 8.6MB 2.6MB/s eta 0:00:04\r\u001b[K     |███████████████▏                | 8.6MB 2.6MB/s eta 0:00:04\r\u001b[K     |███████████████▏                | 8.6MB 2.6MB/s eta 0:00:04\r\u001b[K     |███████████████▏                | 8.7MB 2.6MB/s eta 0:00:04\r\u001b[K     |███████████████▎                | 8.7MB 2.6MB/s eta 0:00:04\r\u001b[K     |███████████████▎                | 8.7MB 2.6MB/s eta 0:00:04\r\u001b[K     |███████████████▎                | 8.7MB 2.6MB/s eta 0:00:04\r\u001b[K     |███████████████▎                | 8.7MB 2.6MB/s eta 0:00:04\r\u001b[K     |███████████████▎                | 8.7MB 2.6MB/s eta 0:00:04\r\u001b[K     |███████████████▎                | 8.7MB 2.6MB/s eta 0:00:04\r\u001b[K     |███████████████▎                | 8.7MB 2.6MB/s eta 0:00:04\r\u001b[K     |███████████████▍                | 8.7MB 2.6MB/s eta 0:00:04\r\u001b[K     |███████████████▍                | 8.7MB 2.6MB/s eta 0:00:04\r\u001b[K     |███████████████▍                | 8.8MB 2.6MB/s eta 0:00:04\r\u001b[K     |███████████████▍                | 8.8MB 2.6MB/s eta 0:00:04\r\u001b[K     |███████████████▍                | 8.8MB 2.6MB/s eta 0:00:04\r\u001b[K     |███████████████▍                | 8.8MB 2.6MB/s eta 0:00:04\r\u001b[K     |███████████████▌                | 8.8MB 2.6MB/s eta 0:00:04\r\u001b[K     |███████████████▌                | 8.8MB 2.6MB/s eta 0:00:04\r\u001b[K     |███████████████▌                | 8.8MB 2.6MB/s eta 0:00:04\r\u001b[K     |███████████████▌                | 8.8MB 2.6MB/s eta 0:00:04\r\u001b[K     |███████████████▌                | 8.8MB 2.6MB/s eta 0:00:04\r\u001b[K     |███████████████▌                | 8.8MB 2.6MB/s eta 0:00:04\r\u001b[K     |███████████████▋                | 8.9MB 2.6MB/s eta 0:00:04\r\u001b[K     |███████████████▋                | 8.9MB 2.6MB/s eta 0:00:04\r\u001b[K     |███████████████▋                | 8.9MB 2.6MB/s eta 0:00:04\r\u001b[K     |███████████████▋                | 8.9MB 2.6MB/s eta 0:00:04\r\u001b[K     |███████████████▋                | 8.9MB 2.6MB/s eta 0:00:04\r\u001b[K     |███████████████▋                | 8.9MB 2.6MB/s eta 0:00:04\r\u001b[K     |███████████████▊                | 8.9MB 2.6MB/s eta 0:00:04\r\u001b[K     |███████████████▊                | 8.9MB 2.6MB/s eta 0:00:04\r\u001b[K     |███████████████▊                | 8.9MB 2.6MB/s eta 0:00:04\r\u001b[K     |███████████████▊                | 8.9MB 2.6MB/s eta 0:00:04\r\u001b[K     |███████████████▊                | 9.0MB 2.6MB/s eta 0:00:04\r\u001b[K     |███████████████▊                | 9.0MB 2.6MB/s eta 0:00:04\r\u001b[K     |███████████████▉                | 9.0MB 2.6MB/s eta 0:00:04\r\u001b[K     |███████████████▉                | 9.0MB 2.6MB/s eta 0:00:04\r\u001b[K     |███████████████▉                | 9.0MB 2.6MB/s eta 0:00:04\r\u001b[K     |███████████████▉                | 9.0MB 2.6MB/s eta 0:00:04\r\u001b[K     |███████████████▉                | 9.0MB 2.6MB/s eta 0:00:04\r\u001b[K     |███████████████▉                | 9.0MB 2.6MB/s eta 0:00:04\r\u001b[K     |████████████████                | 9.0MB 2.6MB/s eta 0:00:04\r\u001b[K     |████████████████                | 9.1MB 2.6MB/s eta 0:00:04\r\u001b[K     |████████████████                | 9.1MB 2.6MB/s eta 0:00:04\r\u001b[K     |████████████████                | 9.1MB 2.6MB/s eta 0:00:04\r\u001b[K     |████████████████                | 9.1MB 2.6MB/s eta 0:00:04\r\u001b[K     |████████████████                | 9.1MB 2.6MB/s eta 0:00:04\r\u001b[K     |████████████████                | 9.1MB 2.6MB/s eta 0:00:04\r\u001b[K     |████████████████                | 9.1MB 2.6MB/s eta 0:00:04\r\u001b[K     |████████████████                | 9.1MB 2.6MB/s eta 0:00:04\r\u001b[K     |████████████████                | 9.1MB 2.6MB/s eta 0:00:04\r\u001b[K     |████████████████                | 9.1MB 2.6MB/s eta 0:00:04\r\u001b[K     |████████████████                | 9.2MB 2.6MB/s eta 0:00:04\r\u001b[K     |████████████████                | 9.2MB 2.6MB/s eta 0:00:04\r\u001b[K     |████████████████▏               | 9.2MB 2.6MB/s eta 0:00:04\r\u001b[K     |████████████████▏               | 9.2MB 2.6MB/s eta 0:00:04\r\u001b[K     |████████████████▏               | 9.2MB 2.6MB/s eta 0:00:04\r\u001b[K     |████████████████▏               | 9.2MB 2.6MB/s eta 0:00:04\r\u001b[K     |████████████████▏               | 9.2MB 2.6MB/s eta 0:00:04\r\u001b[K     |████████████████▏               | 9.2MB 2.6MB/s eta 0:00:04\r\u001b[K     |████████████████▎               | 9.2MB 2.6MB/s eta 0:00:04\r\u001b[K     |████████████████▎               | 9.2MB 2.6MB/s eta 0:00:04\r\u001b[K     |████████████████▎               | 9.3MB 2.6MB/s eta 0:00:04\r\u001b[K     |████████████████▎               | 9.3MB 2.6MB/s eta 0:00:04\r\u001b[K     |████████████████▎               | 9.3MB 2.6MB/s eta 0:00:04\r\u001b[K     |████████████████▎               | 9.3MB 2.6MB/s eta 0:00:04\r\u001b[K     |████████████████▍               | 9.3MB 2.6MB/s eta 0:00:04\r\u001b[K     |████████████████▍               | 9.3MB 2.6MB/s eta 0:00:04\r\u001b[K     |████████████████▍               | 9.3MB 2.6MB/s eta 0:00:04\r\u001b[K     |████████████████▍               | 9.3MB 2.6MB/s eta 0:00:04\r\u001b[K     |████████████████▍               | 9.3MB 2.6MB/s eta 0:00:04\r\u001b[K     |████████████████▍               | 9.3MB 2.6MB/s eta 0:00:04\r\u001b[K     |████████████████▌               | 9.4MB 2.6MB/s eta 0:00:04\r\u001b[K     |████████████████▌               | 9.4MB 2.6MB/s eta 0:00:04\r\u001b[K     |████████████████▌               | 9.4MB 2.6MB/s eta 0:00:04\r\u001b[K     |████████████████▌               | 9.4MB 2.6MB/s eta 0:00:04\r\u001b[K     |████████████████▌               | 9.4MB 2.6MB/s eta 0:00:04\r\u001b[K     |████████████████▌               | 9.4MB 2.6MB/s eta 0:00:04\r\u001b[K     |████████████████▋               | 9.4MB 2.6MB/s eta 0:00:04\r\u001b[K     |████████████████▋               | 9.4MB 2.6MB/s eta 0:00:04\r\u001b[K     |████████████████▋               | 9.4MB 2.6MB/s eta 0:00:04\r\u001b[K     |████████████████▋               | 9.5MB 2.6MB/s eta 0:00:04\r\u001b[K     |████████████████▋               | 9.5MB 2.6MB/s eta 0:00:04\r\u001b[K     |████████████████▋               | 9.5MB 2.6MB/s eta 0:00:04\r\u001b[K     |████████████████▋               | 9.5MB 2.6MB/s eta 0:00:04\r\u001b[K     |████████████████▊               | 9.5MB 2.6MB/s eta 0:00:04\r\u001b[K     |████████████████▊               | 9.5MB 2.6MB/s eta 0:00:04\r\u001b[K     |████████████████▊               | 9.5MB 2.6MB/s eta 0:00:04\r\u001b[K     |████████████████▊               | 9.5MB 2.6MB/s eta 0:00:04\r\u001b[K     |████████████████▊               | 9.5MB 2.6MB/s eta 0:00:04\r\u001b[K     |████████████████▊               | 9.5MB 2.6MB/s eta 0:00:04\r\u001b[K     |████████████████▉               | 9.6MB 2.6MB/s eta 0:00:04\r\u001b[K     |████████████████▉               | 9.6MB 2.6MB/s eta 0:00:04\r\u001b[K     |████████████████▉               | 9.6MB 2.6MB/s eta 0:00:04\r\u001b[K     |████████████████▉               | 9.6MB 2.6MB/s eta 0:00:04\r\u001b[K     |████████████████▉               | 9.6MB 2.6MB/s eta 0:00:04\r\u001b[K     |████████████████▉               | 9.6MB 2.6MB/s eta 0:00:04\r\u001b[K     |█████████████████               | 9.6MB 2.6MB/s eta 0:00:04\r\u001b[K     |█████████████████               | 9.6MB 2.6MB/s eta 0:00:04\r\u001b[K     |█████████████████               | 9.6MB 2.6MB/s eta 0:00:04\r\u001b[K     |█████████████████               | 9.6MB 2.6MB/s eta 0:00:04\r\u001b[K     |█████████████████               | 9.7MB 2.6MB/s eta 0:00:04\r\u001b[K     |█████████████████               | 9.7MB 2.6MB/s eta 0:00:04\r\u001b[K     |█████████████████               | 9.7MB 2.6MB/s eta 0:00:04\r\u001b[K     |█████████████████               | 9.7MB 2.6MB/s eta 0:00:04\r\u001b[K     |█████████████████               | 9.7MB 2.6MB/s eta 0:00:04\r\u001b[K     |█████████████████               | 9.7MB 2.6MB/s eta 0:00:04\r\u001b[K     |█████████████████               | 9.7MB 2.6MB/s eta 0:00:04\r\u001b[K     |█████████████████               | 9.7MB 2.6MB/s eta 0:00:04\r\u001b[K     |█████████████████▏              | 9.7MB 2.6MB/s eta 0:00:04\r\u001b[K     |█████████████████▏              | 9.7MB 2.6MB/s eta 0:00:04\r\u001b[K     |█████████████████▏              | 9.8MB 2.6MB/s eta 0:00:04\r\u001b[K     |█████████████████▏              | 9.8MB 2.6MB/s eta 0:00:04\r\u001b[K     |█████████████████▏              | 9.8MB 2.6MB/s eta 0:00:04\r\u001b[K     |█████████████████▏              | 9.8MB 2.6MB/s eta 0:00:04\r\u001b[K     |█████████████████▏              | 9.8MB 2.6MB/s eta 0:00:04\r\u001b[K     |█████████████████▎              | 9.8MB 2.6MB/s eta 0:00:04\r\u001b[K     |█████████████████▎              | 9.8MB 2.6MB/s eta 0:00:04\r\u001b[K     |█████████████████▎              | 9.8MB 2.6MB/s eta 0:00:04\r\u001b[K     |█████████████████▎              | 9.8MB 2.6MB/s eta 0:00:04\r\u001b[K     |█████████████████▎              | 9.9MB 2.6MB/s eta 0:00:04\r\u001b[K     |█████████████████▎              | 9.9MB 2.6MB/s eta 0:00:04\r\u001b[K     |█████████████████▍              | 9.9MB 2.6MB/s eta 0:00:04\r\u001b[K     |█████████████████▍              | 9.9MB 2.6MB/s eta 0:00:04\r\u001b[K     |█████████████████▍              | 9.9MB 2.6MB/s eta 0:00:04\r\u001b[K     |█████████████████▍              | 9.9MB 2.6MB/s eta 0:00:04\r\u001b[K     |█████████████████▍              | 9.9MB 2.6MB/s eta 0:00:04\r\u001b[K     |█████████████████▍              | 9.9MB 2.6MB/s eta 0:00:04\r\u001b[K     |█████████████████▌              | 9.9MB 2.6MB/s eta 0:00:04\r\u001b[K     |█████████████████▌              | 9.9MB 2.6MB/s eta 0:00:04\r\u001b[K     |█████████████████▌              | 10.0MB 2.6MB/s eta 0:00:04\r\u001b[K     |█████████████████▌              | 10.0MB 2.6MB/s eta 0:00:04\r\u001b[K     |█████████████████▌              | 10.0MB 2.6MB/s eta 0:00:04\r\u001b[K     |█████████████████▌              | 10.0MB 2.6MB/s eta 0:00:04\r\u001b[K     |█████████████████▋              | 10.0MB 2.6MB/s eta 0:00:04\r\u001b[K     |█████████████████▋              | 10.0MB 2.6MB/s eta 0:00:04\r\u001b[K     |█████████████████▋              | 10.0MB 2.6MB/s eta 0:00:04\r\u001b[K     |█████████████████▋              | 10.0MB 2.6MB/s eta 0:00:04\r\u001b[K     |█████████████████▋              | 10.0MB 2.6MB/s eta 0:00:04\r\u001b[K     |█████████████████▋              | 10.0MB 2.6MB/s eta 0:00:04\r\u001b[K     |█████████████████▊              | 10.1MB 2.6MB/s eta 0:00:04\r\u001b[K     |█████████████████▊              | 10.1MB 2.6MB/s eta 0:00:04\r\u001b[K     |█████████████████▊              | 10.1MB 2.6MB/s eta 0:00:04\r\u001b[K     |█████████████████▊              | 10.1MB 2.6MB/s eta 0:00:04\r\u001b[K     |█████████████████▊              | 10.1MB 2.6MB/s eta 0:00:04\r\u001b[K     |█████████████████▊              | 10.1MB 2.6MB/s eta 0:00:04\r\u001b[K     |█████████████████▉              | 10.1MB 2.6MB/s eta 0:00:04\r\u001b[K     |█████████████████▉              | 10.1MB 2.6MB/s eta 0:00:04\r\u001b[K     |█████████████████▉              | 10.1MB 2.6MB/s eta 0:00:04\r\u001b[K     |█████████████████▉              | 10.1MB 2.6MB/s eta 0:00:04\r\u001b[K     |█████████████████▉              | 10.2MB 2.6MB/s eta 0:00:04\r\u001b[K     |█████████████████▉              | 10.2MB 2.6MB/s eta 0:00:04\r\u001b[K     |█████████████████▉              | 10.2MB 2.6MB/s eta 0:00:04\r\u001b[K     |██████████████████              | 10.2MB 2.6MB/s eta 0:00:04\r\u001b[K     |██████████████████              | 10.2MB 2.6MB/s eta 0:00:04\r\u001b[K     |██████████████████              | 10.2MB 2.6MB/s eta 0:00:04\r\u001b[K     |██████████████████              | 10.2MB 2.6MB/s eta 0:00:04\r\u001b[K     |██████████████████              | 10.2MB 2.6MB/s eta 0:00:04\r\u001b[K     |██████████████████              | 10.2MB 2.6MB/s eta 0:00:04\r\u001b[K     |██████████████████              | 10.3MB 2.6MB/s eta 0:00:04\r\u001b[K     |██████████████████              | 10.3MB 2.6MB/s eta 0:00:04\r\u001b[K     |██████████████████              | 10.3MB 2.6MB/s eta 0:00:04\r\u001b[K     |██████████████████              | 10.3MB 2.6MB/s eta 0:00:04\r\u001b[K     |██████████████████              | 10.3MB 2.6MB/s eta 0:00:04\r\u001b[K     |██████████████████              | 10.3MB 2.6MB/s eta 0:00:04\r\u001b[K     |██████████████████▏             | 10.3MB 2.6MB/s eta 0:00:04\r\u001b[K     |██████████████████▏             | 10.3MB 2.6MB/s eta 0:00:04\r\u001b[K     |██████████████████▏             | 10.3MB 2.6MB/s eta 0:00:04\r\u001b[K     |██████████████████▏             | 10.3MB 2.6MB/s eta 0:00:04\r\u001b[K     |██████████████████▏             | 10.4MB 2.6MB/s eta 0:00:04\r\u001b[K     |██████████████████▏             | 10.4MB 2.6MB/s eta 0:00:04\r\u001b[K     |██████████████████▎             | 10.4MB 2.6MB/s eta 0:00:04\r\u001b[K     |██████████████████▎             | 10.4MB 2.6MB/s eta 0:00:04\r\u001b[K     |██████████████████▎             | 10.4MB 2.6MB/s eta 0:00:04\r\u001b[K     |██████████████████▎             | 10.4MB 2.6MB/s eta 0:00:04\r\u001b[K     |██████████████████▎             | 10.4MB 2.6MB/s eta 0:00:04\r\u001b[K     |██████████████████▎             | 10.4MB 2.6MB/s eta 0:00:04\r\u001b[K     |██████████████████▍             | 10.4MB 2.6MB/s eta 0:00:04\r\u001b[K     |██████████████████▍             | 10.4MB 2.6MB/s eta 0:00:04\r\u001b[K     |██████████████████▍             | 10.5MB 2.6MB/s eta 0:00:04\r\u001b[K     |██████████████████▍             | 10.5MB 2.6MB/s eta 0:00:03\r\u001b[K     |██████████████████▍             | 10.5MB 2.6MB/s eta 0:00:03\r\u001b[K     |██████████████████▍             | 10.5MB 2.6MB/s eta 0:00:03\r\u001b[K     |██████████████████▌             | 10.5MB 2.6MB/s eta 0:00:03\r\u001b[K     |██████████████████▌             | 10.5MB 2.6MB/s eta 0:00:03\r\u001b[K     |██████████████████▌             | 10.5MB 2.6MB/s eta 0:00:03\r\u001b[K     |██████████████████▌             | 10.5MB 2.6MB/s eta 0:00:03\r\u001b[K     |██████████████████▌             | 10.5MB 2.6MB/s eta 0:00:03\r\u001b[K     |██████████████████▌             | 10.5MB 2.6MB/s eta 0:00:03\r\u001b[K     |██████████████████▌             | 10.6MB 2.6MB/s eta 0:00:03\r\u001b[K     |██████████████████▋             | 10.6MB 2.6MB/s eta 0:00:03\r\u001b[K     |██████████████████▋             | 10.6MB 2.6MB/s eta 0:00:03\r\u001b[K     |██████████████████▋             | 10.6MB 2.6MB/s eta 0:00:03\r\u001b[K     |██████████████████▋             | 10.6MB 2.6MB/s eta 0:00:03\r\u001b[K     |██████████████████▋             | 10.6MB 2.6MB/s eta 0:00:03\r\u001b[K     |██████████████████▋             | 10.6MB 2.6MB/s eta 0:00:03\r\u001b[K     |██████████████████▊             | 10.6MB 2.6MB/s eta 0:00:03\r\u001b[K     |██████████████████▊             | 10.6MB 2.6MB/s eta 0:00:03\r\u001b[K     |██████████████████▊             | 10.6MB 2.6MB/s eta 0:00:03\r\u001b[K     |██████████████████▊             | 10.7MB 2.6MB/s eta 0:00:03\r\u001b[K     |██████████████████▊             | 10.7MB 2.6MB/s eta 0:00:03\r\u001b[K     |██████████████████▊             | 10.7MB 2.6MB/s eta 0:00:03\r\u001b[K     |██████████████████▉             | 10.7MB 2.6MB/s eta 0:00:03\r\u001b[K     |██████████████████▉             | 10.7MB 2.6MB/s eta 0:00:03\r\u001b[K     |██████████████████▉             | 10.7MB 2.6MB/s eta 0:00:03\r\u001b[K     |██████████████████▉             | 10.7MB 2.6MB/s eta 0:00:03\r\u001b[K     |██████████████████▉             | 10.7MB 2.6MB/s eta 0:00:03\r\u001b[K     |██████████████████▉             | 10.7MB 2.6MB/s eta 0:00:03\r\u001b[K     |███████████████████             | 10.8MB 2.6MB/s eta 0:00:03\r\u001b[K     |███████████████████             | 10.8MB 2.6MB/s eta 0:00:03\r\u001b[K     |███████████████████             | 10.8MB 2.6MB/s eta 0:00:03\r\u001b[K     |███████████████████             | 10.8MB 2.6MB/s eta 0:00:03\r\u001b[K     |███████████████████             | 10.8MB 2.6MB/s eta 0:00:03\r\u001b[K     |███████████████████             | 10.8MB 2.6MB/s eta 0:00:03\r\u001b[K     |███████████████████             | 10.8MB 2.6MB/s eta 0:00:03\r\u001b[K     |███████████████████             | 10.8MB 2.6MB/s eta 0:00:03\r\u001b[K     |███████████████████             | 10.8MB 2.6MB/s eta 0:00:03\r\u001b[K     |███████████████████             | 10.8MB 2.6MB/s eta 0:00:03\r\u001b[K     |███████████████████             | 10.9MB 2.6MB/s eta 0:00:03\r\u001b[K     |███████████████████             | 10.9MB 2.6MB/s eta 0:00:03\r\u001b[K     |███████████████████             | 10.9MB 2.6MB/s eta 0:00:03\r\u001b[K     |███████████████████▏            | 10.9MB 2.6MB/s eta 0:00:03\r\u001b[K     |███████████████████▏            | 10.9MB 2.6MB/s eta 0:00:03\r\u001b[K     |███████████████████▏            | 10.9MB 2.6MB/s eta 0:00:03\r\u001b[K     |███████████████████▏            | 10.9MB 2.6MB/s eta 0:00:03\r\u001b[K     |███████████████████▏            | 10.9MB 2.6MB/s eta 0:00:03\r\u001b[K     |███████████████████▏            | 10.9MB 2.6MB/s eta 0:00:03\r\u001b[K     |███████████████████▎            | 10.9MB 2.6MB/s eta 0:00:03\r\u001b[K     |███████████████████▎            | 11.0MB 2.6MB/s eta 0:00:03\r\u001b[K     |███████████████████▎            | 11.0MB 2.6MB/s eta 0:00:03\r\u001b[K     |███████████████████▎            | 11.0MB 2.6MB/s eta 0:00:03\r\u001b[K     |███████████████████▎            | 11.0MB 2.6MB/s eta 0:00:03\r\u001b[K     |███████████████████▎            | 11.0MB 2.6MB/s eta 0:00:03\r\u001b[K     |███████████████████▍            | 11.0MB 2.6MB/s eta 0:00:03\r\u001b[K     |███████████████████▍            | 11.0MB 2.6MB/s eta 0:00:03\r\u001b[K     |███████████████████▍            | 11.0MB 2.6MB/s eta 0:00:03\r\u001b[K     |███████████████████▍            | 11.0MB 2.6MB/s eta 0:00:03\r\u001b[K     |███████████████████▍            | 11.0MB 2.6MB/s eta 0:00:03\r\u001b[K     |███████████████████▍            | 11.1MB 2.6MB/s eta 0:00:03\r\u001b[K     |███████████████████▌            | 11.1MB 2.6MB/s eta 0:00:03\r\u001b[K     |███████████████████▌            | 11.1MB 2.6MB/s eta 0:00:03\r\u001b[K     |███████████████████▌            | 11.1MB 2.6MB/s eta 0:00:03\r\u001b[K     |███████████████████▌            | 11.1MB 2.6MB/s eta 0:00:03\r\u001b[K     |███████████████████▌            | 11.1MB 2.6MB/s eta 0:00:03\r\u001b[K     |███████████████████▌            | 11.1MB 2.6MB/s eta 0:00:03\r\u001b[K     |███████████████████▋            | 11.1MB 2.6MB/s eta 0:00:03\r\u001b[K     |███████████████████▋            | 11.1MB 2.6MB/s eta 0:00:03\r\u001b[K     |███████████████████▋            | 11.2MB 2.6MB/s eta 0:00:03\r\u001b[K     |███████████████████▋            | 11.2MB 2.6MB/s eta 0:00:03\r\u001b[K     |███████████████████▋            | 11.2MB 2.6MB/s eta 0:00:03\r\u001b[K     |███████████████████▋            | 11.2MB 2.6MB/s eta 0:00:03\r\u001b[K     |███████████████████▊            | 11.2MB 2.6MB/s eta 0:00:03\r\u001b[K     |███████████████████▊            | 11.2MB 2.6MB/s eta 0:00:03\r\u001b[K     |███████████████████▊            | 11.2MB 2.6MB/s eta 0:00:03\r\u001b[K     |███████████████████▊            | 11.2MB 2.6MB/s eta 0:00:03\r\u001b[K     |███████████████████▊            | 11.2MB 2.6MB/s eta 0:00:03\r\u001b[K     |███████████████████▊            | 11.2MB 2.6MB/s eta 0:00:03\r\u001b[K     |███████████████████▊            | 11.3MB 2.6MB/s eta 0:00:03\r\u001b[K     |███████████████████▉            | 11.3MB 2.6MB/s eta 0:00:03\r\u001b[K     |███████████████████▉            | 11.3MB 2.6MB/s eta 0:00:03\r\u001b[K     |███████████████████▉            | 11.3MB 2.6MB/s eta 0:00:03\r\u001b[K     |███████████████████▉            | 11.3MB 2.6MB/s eta 0:00:03\r\u001b[K     |███████████████████▉            | 11.3MB 2.6MB/s eta 0:00:03\r\u001b[K     |███████████████████▉            | 11.3MB 2.6MB/s eta 0:00:03\r\u001b[K     |████████████████████            | 11.3MB 2.6MB/s eta 0:00:03\r\u001b[K     |████████████████████            | 11.3MB 2.6MB/s eta 0:00:03\r\u001b[K     |████████████████████            | 11.3MB 2.6MB/s eta 0:00:03\r\u001b[K     |████████████████████            | 11.4MB 2.6MB/s eta 0:00:03\r\u001b[K     |████████████████████            | 11.4MB 2.6MB/s eta 0:00:03\r\u001b[K     |████████████████████            | 11.4MB 2.6MB/s eta 0:00:03\r\u001b[K     |████████████████████            | 11.4MB 2.6MB/s eta 0:00:03\r\u001b[K     |████████████████████            | 11.4MB 2.6MB/s eta 0:00:03\r\u001b[K     |████████████████████            | 11.4MB 2.6MB/s eta 0:00:03\r\u001b[K     |████████████████████            | 11.4MB 2.6MB/s eta 0:00:03\r\u001b[K     |████████████████████            | 11.4MB 2.6MB/s eta 0:00:03\r\u001b[K     |████████████████████            | 11.4MB 2.6MB/s eta 0:00:03\r\u001b[K     |████████████████████▏           | 11.4MB 2.6MB/s eta 0:00:03\r\u001b[K     |████████████████████▏           | 11.5MB 2.6MB/s eta 0:00:03\r\u001b[K     |████████████████████▏           | 11.5MB 2.6MB/s eta 0:00:03\r\u001b[K     |████████████████████▏           | 11.5MB 2.6MB/s eta 0:00:03\r\u001b[K     |████████████████████▏           | 11.5MB 2.6MB/s eta 0:00:03\r\u001b[K     |████████████████████▏           | 11.5MB 2.6MB/s eta 0:00:03\r\u001b[K     |████████████████████▎           | 11.5MB 2.6MB/s eta 0:00:03\r\u001b[K     |████████████████████▎           | 11.5MB 2.6MB/s eta 0:00:03\r\u001b[K     |████████████████████▎           | 11.5MB 2.6MB/s eta 0:00:03\r\u001b[K     |████████████████████▎           | 11.5MB 2.6MB/s eta 0:00:03\r\u001b[K     |████████████████████▎           | 11.6MB 2.6MB/s eta 0:00:03\r\u001b[K     |████████████████████▎           | 11.6MB 2.6MB/s eta 0:00:03\r\u001b[K     |████████████████████▍           | 11.6MB 2.6MB/s eta 0:00:03\r\u001b[K     |████████████████████▍           | 11.6MB 2.6MB/s eta 0:00:03\r\u001b[K     |████████████████████▍           | 11.6MB 2.6MB/s eta 0:00:03\r\u001b[K     |████████████████████▍           | 11.6MB 2.6MB/s eta 0:00:03\r\u001b[K     |████████████████████▍           | 11.6MB 2.6MB/s eta 0:00:03\r\u001b[K     |████████████████████▍           | 11.6MB 2.6MB/s eta 0:00:03\r\u001b[K     |████████████████████▍           | 11.6MB 2.6MB/s eta 0:00:03\r\u001b[K     |████████████████████▌           | 11.6MB 2.6MB/s eta 0:00:03\r\u001b[K     |████████████████████▌           | 11.7MB 2.6MB/s eta 0:00:03\r\u001b[K     |████████████████████▌           | 11.7MB 2.6MB/s eta 0:00:03\r\u001b[K     |████████████████████▌           | 11.7MB 2.6MB/s eta 0:00:03\r\u001b[K     |████████████████████▌           | 11.7MB 2.6MB/s eta 0:00:03\r\u001b[K     |████████████████████▌           | 11.7MB 2.6MB/s eta 0:00:03\r\u001b[K     |████████████████████▋           | 11.7MB 2.6MB/s eta 0:00:03\r\u001b[K     |████████████████████▋           | 11.7MB 2.6MB/s eta 0:00:03\r\u001b[K     |████████████████████▋           | 11.7MB 2.6MB/s eta 0:00:03\r\u001b[K     |████████████████████▋           | 11.7MB 2.6MB/s eta 0:00:03\r\u001b[K     |████████████████████▋           | 11.7MB 2.0MB/s eta 0:00:04\r\u001b[K     |████████████████████▋           | 11.8MB 2.0MB/s eta 0:00:04\r\u001b[K     |████████████████████▊           | 11.8MB 2.0MB/s eta 0:00:04\r\u001b[K     |████████████████████▊           | 11.8MB 2.0MB/s eta 0:00:04\r\u001b[K     |████████████████████▊           | 11.8MB 2.0MB/s eta 0:00:04\r\u001b[K     |████████████████████▊           | 11.8MB 2.0MB/s eta 0:00:04\r\u001b[K     |████████████████████▊           | 11.8MB 2.0MB/s eta 0:00:04\r\u001b[K     |████████████████████▊           | 11.8MB 2.0MB/s eta 0:00:04\r\u001b[K     |████████████████████▉           | 11.8MB 2.0MB/s eta 0:00:04\r\u001b[K     |████████████████████▉           | 11.8MB 2.0MB/s eta 0:00:04\r\u001b[K     |████████████████████▉           | 11.8MB 2.0MB/s eta 0:00:04\r\u001b[K     |████████████████████▉           | 11.9MB 2.0MB/s eta 0:00:04\r\u001b[K     |████████████████████▉           | 11.9MB 2.0MB/s eta 0:00:04\r\u001b[K     |████████████████████▉           | 11.9MB 2.0MB/s eta 0:00:04\r\u001b[K     |█████████████████████           | 11.9MB 2.0MB/s eta 0:00:04\r\u001b[K     |█████████████████████           | 11.9MB 2.0MB/s eta 0:00:04\r\u001b[K     |█████████████████████           | 11.9MB 2.0MB/s eta 0:00:04\r\u001b[K     |█████████████████████           | 11.9MB 2.0MB/s eta 0:00:04\r\u001b[K     |█████████████████████           | 11.9MB 2.0MB/s eta 0:00:04\r\u001b[K     |█████████████████████           | 11.9MB 2.0MB/s eta 0:00:04\r\u001b[K     |█████████████████████           | 12.0MB 2.0MB/s eta 0:00:04\r\u001b[K     |█████████████████████           | 12.0MB 2.0MB/s eta 0:00:04\r\u001b[K     |█████████████████████           | 12.0MB 2.0MB/s eta 0:00:04\r\u001b[K     |█████████████████████           | 12.0MB 2.0MB/s eta 0:00:04\r\u001b[K     |█████████████████████           | 12.0MB 2.0MB/s eta 0:00:04\r\u001b[K     |█████████████████████           | 12.0MB 2.0MB/s eta 0:00:04\r\u001b[K     |█████████████████████           | 12.0MB 2.0MB/s eta 0:00:04\r\u001b[K     |█████████████████████▏          | 12.0MB 2.0MB/s eta 0:00:04\r\u001b[K     |█████████████████████▏          | 12.0MB 2.0MB/s eta 0:00:04\r\u001b[K     |█████████████████████▏          | 12.0MB 2.0MB/s eta 0:00:04\r\u001b[K     |█████████████████████▏          | 12.1MB 2.0MB/s eta 0:00:04\r\u001b[K     |█████████████████████▏          | 12.1MB 2.0MB/s eta 0:00:03\r\u001b[K     |█████████████████████▏          | 12.1MB 2.0MB/s eta 0:00:03\r\u001b[K     |█████████████████████▎          | 12.1MB 2.0MB/s eta 0:00:03\r\u001b[K     |█████████████████████▎          | 12.1MB 2.0MB/s eta 0:00:03\r\u001b[K     |█████████████████████▎          | 12.1MB 2.0MB/s eta 0:00:03\r\u001b[K     |█████████████████████▎          | 12.1MB 2.0MB/s eta 0:00:03\r\u001b[K     |█████████████████████▎          | 12.1MB 2.0MB/s eta 0:00:03\r\u001b[K     |█████████████████████▎          | 12.1MB 2.0MB/s eta 0:00:03\r\u001b[K     |█████████████████████▍          | 12.1MB 2.0MB/s eta 0:00:03\r\u001b[K     |█████████████████████▍          | 12.2MB 2.0MB/s eta 0:00:03\r\u001b[K     |█████████████████████▍          | 12.2MB 2.0MB/s eta 0:00:03\r\u001b[K     |█████████████████████▍          | 12.2MB 2.0MB/s eta 0:00:03\r\u001b[K     |█████████████████████▍          | 12.2MB 2.0MB/s eta 0:00:03\r\u001b[K     |█████████████████████▍          | 12.2MB 2.0MB/s eta 0:00:03\r\u001b[K     |█████████████████████▌          | 12.2MB 2.0MB/s eta 0:00:03\r\u001b[K     |█████████████████████▌          | 12.2MB 2.0MB/s eta 0:00:03\r\u001b[K     |█████████████████████▌          | 12.2MB 2.0MB/s eta 0:00:03\r\u001b[K     |█████████████████████▌          | 12.2MB 2.0MB/s eta 0:00:03\r\u001b[K     |█████████████████████▌          | 12.2MB 2.0MB/s eta 0:00:03\r\u001b[K     |█████████████████████▌          | 12.3MB 2.0MB/s eta 0:00:03\r\u001b[K     |█████████████████████▋          | 12.3MB 2.0MB/s eta 0:00:03\r\u001b[K     |█████████████████████▋          | 12.3MB 2.0MB/s eta 0:00:03\r\u001b[K     |█████████████████████▋          | 12.3MB 2.0MB/s eta 0:00:03\r\u001b[K     |█████████████████████▋          | 12.3MB 2.0MB/s eta 0:00:03\r\u001b[K     |█████████████████████▋          | 12.3MB 2.0MB/s eta 0:00:03\r\u001b[K     |█████████████████████▋          | 12.3MB 2.0MB/s eta 0:00:03\r\u001b[K     |█████████████████████▋          | 12.3MB 2.0MB/s eta 0:00:03\r\u001b[K     |█████████████████████▊          | 12.3MB 2.0MB/s eta 0:00:03\r\u001b[K     |█████████████████████▊          | 12.3MB 2.0MB/s eta 0:00:03\r\u001b[K     |█████████████████████▊          | 12.4MB 2.0MB/s eta 0:00:03\r\u001b[K     |█████████████████████▊          | 12.4MB 2.0MB/s eta 0:00:03\r\u001b[K     |█████████████████████▊          | 12.4MB 2.0MB/s eta 0:00:03\r\u001b[K     |█████████████████████▊          | 12.4MB 2.0MB/s eta 0:00:03\r\u001b[K     |█████████████████████▉          | 12.4MB 2.0MB/s eta 0:00:03\r\u001b[K     |█████████████████████▉          | 12.4MB 2.0MB/s eta 0:00:03\r\u001b[K     |█████████████████████▉          | 12.4MB 2.0MB/s eta 0:00:03\r\u001b[K     |█████████████████████▉          | 12.4MB 2.0MB/s eta 0:00:03\r\u001b[K     |█████████████████████▉          | 12.4MB 2.0MB/s eta 0:00:03\r\u001b[K     |█████████████████████▉          | 12.5MB 2.0MB/s eta 0:00:03\r\u001b[K     |██████████████████████          | 12.5MB 2.0MB/s eta 0:00:03\r\u001b[K     |██████████████████████          | 12.5MB 2.0MB/s eta 0:00:03\r\u001b[K     |██████████████████████          | 12.5MB 2.0MB/s eta 0:00:03\r\u001b[K     |██████████████████████          | 12.5MB 2.0MB/s eta 0:00:03\r\u001b[K     |██████████████████████          | 12.5MB 2.0MB/s eta 0:00:03\r\u001b[K     |██████████████████████          | 12.5MB 2.0MB/s eta 0:00:03\r\u001b[K     |██████████████████████          | 12.5MB 2.0MB/s eta 0:00:03\r\u001b[K     |██████████████████████          | 12.5MB 2.0MB/s eta 0:00:03\r\u001b[K     |██████████████████████          | 12.5MB 2.0MB/s eta 0:00:03\r\u001b[K     |██████████████████████          | 12.6MB 2.0MB/s eta 0:00:03\r\u001b[K     |██████████████████████          | 12.6MB 2.0MB/s eta 0:00:03\r\u001b[K     |██████████████████████          | 12.6MB 2.0MB/s eta 0:00:03\r\u001b[K     |██████████████████████▏         | 12.6MB 2.0MB/s eta 0:00:03\r\u001b[K     |██████████████████████▏         | 12.6MB 2.0MB/s eta 0:00:03\r\u001b[K     |██████████████████████▏         | 12.6MB 2.0MB/s eta 0:00:03\r\u001b[K     |██████████████████████▏         | 12.6MB 2.0MB/s eta 0:00:03\r\u001b[K     |██████████████████████▏         | 12.6MB 2.0MB/s eta 0:00:03\r\u001b[K     |██████████████████████▏         | 12.6MB 2.0MB/s eta 0:00:03\r\u001b[K     |██████████████████████▎         | 12.6MB 2.0MB/s eta 0:00:03\r\u001b[K     |██████████████████████▎         | 12.7MB 2.0MB/s eta 0:00:03\r\u001b[K     |██████████████████████▎         | 12.7MB 2.0MB/s eta 0:00:03\r\u001b[K     |██████████████████████▎         | 12.7MB 2.0MB/s eta 0:00:03\r\u001b[K     |██████████████████████▎         | 12.7MB 2.0MB/s eta 0:00:03\r\u001b[K     |██████████████████████▎         | 12.7MB 2.0MB/s eta 0:00:03\r\u001b[K     |██████████████████████▎         | 12.7MB 2.0MB/s eta 0:00:03\r\u001b[K     |██████████████████████▍         | 12.7MB 2.0MB/s eta 0:00:03\r\u001b[K     |██████████████████████▍         | 12.7MB 2.0MB/s eta 0:00:03\r\u001b[K     |██████████████████████▍         | 12.7MB 2.0MB/s eta 0:00:03\r\u001b[K     |██████████████████████▍         | 12.7MB 2.0MB/s eta 0:00:03\r\u001b[K     |██████████████████████▍         | 12.8MB 2.0MB/s eta 0:00:03\r\u001b[K     |██████████████████████▍         | 12.8MB 2.0MB/s eta 0:00:03\r\u001b[K     |██████████████████████▌         | 12.8MB 2.0MB/s eta 0:00:03\r\u001b[K     |██████████████████████▌         | 12.8MB 2.0MB/s eta 0:00:03\r\u001b[K     |██████████████████████▌         | 12.8MB 2.0MB/s eta 0:00:03\r\u001b[K     |██████████████████████▌         | 12.8MB 2.0MB/s eta 0:00:03\r\u001b[K     |██████████████████████▌         | 12.8MB 2.0MB/s eta 0:00:03\r\u001b[K     |██████████████████████▌         | 12.8MB 2.0MB/s eta 0:00:03\r\u001b[K     |██████████████████████▋         | 12.8MB 2.0MB/s eta 0:00:03\r\u001b[K     |██████████████████████▋         | 12.9MB 2.0MB/s eta 0:00:03\r\u001b[K     |██████████████████████▋         | 12.9MB 2.0MB/s eta 0:00:03\r\u001b[K     |██████████████████████▋         | 12.9MB 2.0MB/s eta 0:00:03\r\u001b[K     |██████████████████████▋         | 12.9MB 2.0MB/s eta 0:00:03\r\u001b[K     |██████████████████████▋         | 12.9MB 2.0MB/s eta 0:00:03\r\u001b[K     |██████████████████████▊         | 12.9MB 2.0MB/s eta 0:00:03\r\u001b[K     |██████████████████████▊         | 12.9MB 2.0MB/s eta 0:00:03\r\u001b[K     |██████████████████████▊         | 12.9MB 2.0MB/s eta 0:00:03\r\u001b[K     |██████████████████████▊         | 12.9MB 2.0MB/s eta 0:00:03\r\u001b[K     |██████████████████████▊         | 12.9MB 2.0MB/s eta 0:00:03\r\u001b[K     |██████████████████████▊         | 13.0MB 2.0MB/s eta 0:00:03\r\u001b[K     |██████████████████████▉         | 13.0MB 2.0MB/s eta 0:00:03\r\u001b[K     |██████████████████████▉         | 13.0MB 2.0MB/s eta 0:00:03\r\u001b[K     |██████████████████████▉         | 13.0MB 2.0MB/s eta 0:00:03\r\u001b[K     |██████████████████████▉         | 13.0MB 2.0MB/s eta 0:00:03\r\u001b[K     |██████████████████████▉         | 13.0MB 2.0MB/s eta 0:00:03\r\u001b[K     |██████████████████████▉         | 13.0MB 2.0MB/s eta 0:00:03\r\u001b[K     |███████████████████████         | 13.0MB 2.0MB/s eta 0:00:03\r\u001b[K     |███████████████████████         | 13.0MB 2.0MB/s eta 0:00:03\r\u001b[K     |███████████████████████         | 13.0MB 2.0MB/s eta 0:00:03\r\u001b[K     |███████████████████████         | 13.1MB 2.0MB/s eta 0:00:03\r\u001b[K     |███████████████████████         | 13.1MB 2.0MB/s eta 0:00:03\r\u001b[K     |███████████████████████         | 13.1MB 2.0MB/s eta 0:00:03\r\u001b[K     |███████████████████████         | 13.1MB 2.0MB/s eta 0:00:03\r\u001b[K     |███████████████████████         | 13.1MB 2.0MB/s eta 0:00:03\r\u001b[K     |███████████████████████         | 13.1MB 2.0MB/s eta 0:00:03\r\u001b[K     |███████████████████████         | 13.1MB 2.0MB/s eta 0:00:03\r\u001b[K     |███████████████████████         | 13.1MB 2.0MB/s eta 0:00:03\r\u001b[K     |███████████████████████         | 13.1MB 2.0MB/s eta 0:00:03\r\u001b[K     |███████████████████████         | 13.1MB 2.0MB/s eta 0:00:03\r\u001b[K     |███████████████████████▏        | 13.2MB 2.0MB/s eta 0:00:03\r\u001b[K     |███████████████████████▏        | 13.2MB 2.0MB/s eta 0:00:03\r\u001b[K     |███████████████████████▏        | 13.2MB 2.0MB/s eta 0:00:03\r\u001b[K     |███████████████████████▏        | 13.2MB 2.0MB/s eta 0:00:03\r\u001b[K     |███████████████████████▏        | 13.2MB 2.0MB/s eta 0:00:03\r\u001b[K     |███████████████████████▏        | 13.2MB 2.0MB/s eta 0:00:03\r\u001b[K     |███████████████████████▎        | 13.2MB 2.0MB/s eta 0:00:03\r\u001b[K     |███████████████████████▎        | 13.2MB 2.0MB/s eta 0:00:03\r\u001b[K     |███████████████████████▎        | 13.2MB 2.0MB/s eta 0:00:03\r\u001b[K     |███████████████████████▎        | 13.3MB 2.0MB/s eta 0:00:03\r\u001b[K     |███████████████████████▎        | 13.3MB 2.0MB/s eta 0:00:03\r\u001b[K     |███████████████████████▎        | 13.3MB 2.0MB/s eta 0:00:03\r\u001b[K     |███████████████████████▍        | 13.3MB 2.0MB/s eta 0:00:03\r\u001b[K     |███████████████████████▍        | 13.3MB 2.0MB/s eta 0:00:03\r\u001b[K     |███████████████████████▍        | 13.3MB 2.0MB/s eta 0:00:03\r\u001b[K     |███████████████████████▍        | 13.3MB 2.0MB/s eta 0:00:03\r\u001b[K     |███████████████████████▍        | 13.3MB 2.0MB/s eta 0:00:03\r\u001b[K     |███████████████████████▍        | 13.3MB 2.0MB/s eta 0:00:03\r\u001b[K     |███████████████████████▌        | 13.3MB 2.0MB/s eta 0:00:03\r\u001b[K     |███████████████████████▌        | 13.4MB 2.0MB/s eta 0:00:03\r\u001b[K     |███████████████████████▌        | 13.4MB 2.0MB/s eta 0:00:03"
          ],
          "name": "stdout"
        },
        {
          "output_type": "stream",
          "text": [
            "Downloading:  34%|███▍      | 341M/1.00G [00:40<01:50, 5.97MB/s]\n",
            "Downloading:  14%|█▍        | 146M/1.03G [00:17<02:27, 5.99MB/s]\u001b[A"
          ],
          "name": "stderr"
        },
        {
          "output_type": "stream",
          "text": [
            "\r\u001b[K     |███████████████████████▌        | 13.4MB 2.0MB/s eta 0:00:03\r\u001b[K     |███████████████████████▌        | 13.4MB 2.0MB/s eta 0:00:03\r\u001b[K     |███████████████████████▌        | 13.4MB 2.0MB/s eta 0:00:03\r\u001b[K     |███████████████████████▋        | 13.4MB 2.0MB/s eta 0:00:03\r\u001b[K     |███████████████████████▋        | 13.4MB 2.0MB/s eta 0:00:03\r\u001b[K     |███████████████████████▋        | 13.4MB 2.0MB/s eta 0:00:03\r\u001b[K     |███████████████████████▋        | 13.4MB 2.0MB/s eta 0:00:03\r\u001b[K     |███████████████████████▋        | 13.4MB 2.0MB/s eta 0:00:03\r\u001b[K     |███████████████████████▋        | 13.5MB 2.0MB/s eta 0:00:03\r\u001b[K     |███████████████████████▋        | 13.5MB 2.0MB/s eta 0:00:03\r\u001b[K     |███████████████████████▊        | 13.5MB 2.0MB/s eta 0:00:03\r\u001b[K     |███████████████████████▊        | 13.5MB 2.0MB/s eta 0:00:03\r\u001b[K     |███████████████████████▊        | 13.5MB 2.0MB/s eta 0:00:03\r\u001b[K     |███████████████████████▊        | 13.5MB 2.0MB/s eta 0:00:03\r\u001b[K     |███████████████████████▊        | 13.5MB 2.0MB/s eta 0:00:03\r\u001b[K     |███████████████████████▊        | 13.5MB 2.0MB/s eta 0:00:03\r\u001b[K     |███████████████████████▉        | 13.5MB 2.0MB/s eta 0:00:03\r\u001b[K     |███████████████████████▉        | 13.5MB 2.0MB/s eta 0:00:03\r\u001b[K     |███████████████████████▉        | 13.6MB 2.0MB/s eta 0:00:03\r\u001b[K     |███████████████████████▉        | 13.6MB 2.0MB/s eta 0:00:03\r\u001b[K     |███████████████████████▉        | 13.6MB 2.0MB/s eta 0:00:03\r\u001b[K     |███████████████████████▉        | 13.6MB 2.0MB/s eta 0:00:03\r\u001b[K     |████████████████████████        | 13.6MB 2.0MB/s eta 0:00:03\r\u001b[K     |████████████████████████        | 13.6MB 2.0MB/s eta 0:00:03\r\u001b[K     |████████████████████████        | 13.6MB 2.0MB/s eta 0:00:03\r\u001b[K     |████████████████████████        | 13.6MB 2.0MB/s eta 0:00:03\r\u001b[K     |████████████████████████        | 13.6MB 2.0MB/s eta 0:00:03\r\u001b[K     |████████████████████████        | 13.6MB 2.0MB/s eta 0:00:03\r\u001b[K     |████████████████████████        | 13.7MB 2.0MB/s eta 0:00:03\r\u001b[K     |████████████████████████        | 13.7MB 2.0MB/s eta 0:00:03\r\u001b[K     |████████████████████████        | 13.7MB 2.0MB/s eta 0:00:03\r\u001b[K     |████████████████████████        | 13.7MB 2.0MB/s eta 0:00:03\r\u001b[K     |████████████████████████        | 13.7MB 2.0MB/s eta 0:00:03\r\u001b[K     |████████████████████████        | 13.7MB 2.0MB/s eta 0:00:03\r\u001b[K     |████████████████████████▏       | 13.7MB 2.0MB/s eta 0:00:03\r\u001b[K     |████████████████████████▏       | 13.7MB 2.0MB/s eta 0:00:03\r\u001b[K     |████████████████████████▏       | 13.7MB 2.0MB/s eta 0:00:03\r\u001b[K     |████████████████████████▏       | 13.8MB 2.0MB/s eta 0:00:03\r\u001b[K     |████████████████████████▏       | 13.8MB 2.0MB/s eta 0:00:03\r\u001b[K     |████████████████████████▏       | 13.8MB 2.0MB/s eta 0:00:03\r\u001b[K     |████████████████████████▏       | 13.8MB 2.0MB/s eta 0:00:03\r\u001b[K     |████████████████████████▎       | 13.8MB 2.0MB/s eta 0:00:03\r\u001b[K     |████████████████████████▎       | 13.8MB 2.0MB/s eta 0:00:03\r\u001b[K     |████████████████████████▎       | 13.8MB 2.0MB/s eta 0:00:03\r\u001b[K     |████████████████████████▎       | 13.8MB 2.0MB/s eta 0:00:03\r\u001b[K     |████████████████████████▎       | 13.8MB 2.0MB/s eta 0:00:03\r\u001b[K     |████████████████████████▎       | 13.8MB 2.0MB/s eta 0:00:03\r\u001b[K     |████████████████████████▍       | 13.9MB 2.0MB/s eta 0:00:03\r\u001b[K     |████████████████████████▍       | 13.9MB 2.0MB/s eta 0:00:03\r\u001b[K     |████████████████████████▍       | 13.9MB 2.0MB/s eta 0:00:03\r\u001b[K     |████████████████████████▍       | 13.9MB 2.0MB/s eta 0:00:03\r\u001b[K     |████████████████████████▍       | 13.9MB 2.0MB/s eta 0:00:03\r\u001b[K     |████████████████████████▍       | 13.9MB 2.0MB/s eta 0:00:03\r\u001b[K     |████████████████████████▌       | 13.9MB 2.0MB/s eta 0:00:03\r\u001b[K     |████████████████████████▌       | 13.9MB 2.0MB/s eta 0:00:03\r\u001b[K     |████████████████████████▌       | 13.9MB 2.0MB/s eta 0:00:03\r\u001b[K     |████████████████████████▌       | 13.9MB 2.0MB/s eta 0:00:03\r\u001b[K     |████████████████████████▌       | 14.0MB 2.0MB/s eta 0:00:03\r\u001b[K     |████████████████████████▌       | 14.0MB 2.0MB/s eta 0:00:03\r\u001b[K     |████████████████████████▋       | 14.0MB 2.0MB/s eta 0:00:03\r\u001b[K     |████████████████████████▋       | 14.0MB 2.0MB/s eta 0:00:03\r\u001b[K     |████████████████████████▋       | 14.0MB 2.0MB/s eta 0:00:03\r\u001b[K     |████████████████████████▋       | 14.0MB 2.0MB/s eta 0:00:03\r\u001b[K     |████████████████████████▋       | 14.0MB 2.0MB/s eta 0:00:03\r\u001b[K     |████████████████████████▋       | 14.0MB 2.0MB/s eta 0:00:03\r\u001b[K     |████████████████████████▊       | 14.0MB 2.0MB/s eta 0:00:03\r\u001b[K     |████████████████████████▊       | 14.0MB 2.0MB/s eta 0:00:03\r\u001b[K     |████████████████████████▊       | 14.1MB 2.0MB/s eta 0:00:03\r\u001b[K     |████████████████████████▊       | 14.1MB 2.0MB/s eta 0:00:03\r\u001b[K     |████████████████████████▊       | 14.1MB 2.0MB/s eta 0:00:03\r\u001b[K     |████████████████████████▊       | 14.1MB 2.0MB/s eta 0:00:03\r\u001b[K     |████████████████████████▉       | 14.1MB 2.0MB/s eta 0:00:03\r\u001b[K     |████████████████████████▉       | 14.1MB 2.0MB/s eta 0:00:02\r\u001b[K     |████████████████████████▉       | 14.1MB 2.0MB/s eta 0:00:02\r\u001b[K     |████████████████████████▉       | 14.1MB 2.0MB/s eta 0:00:02\r\u001b[K     |████████████████████████▉       | 14.1MB 2.0MB/s eta 0:00:02\r\u001b[K     |████████████████████████▉       | 14.2MB 2.0MB/s eta 0:00:02\r\u001b[K     |████████████████████████▉       | 14.2MB 2.0MB/s eta 0:00:02\r\u001b[K     |█████████████████████████       | 14.2MB 2.0MB/s eta 0:00:02\r\u001b[K     |█████████████████████████       | 14.2MB 2.0MB/s eta 0:00:02\r\u001b[K     |█████████████████████████       | 14.2MB 2.0MB/s eta 0:00:02\r\u001b[K     |█████████████████████████       | 14.2MB 2.0MB/s eta 0:00:02\r\u001b[K     |█████████████████████████       | 14.2MB 2.0MB/s eta 0:00:02\r\u001b[K     |█████████████████████████       | 14.2MB 2.0MB/s eta 0:00:02\r\u001b[K     |█████████████████████████       | 14.2MB 2.0MB/s eta 0:00:02\r\u001b[K     |█████████████████████████       | 14.2MB 2.0MB/s eta 0:00:02\r\u001b[K     |█████████████████████████       | 14.3MB 2.0MB/s eta 0:00:02\r\u001b[K     |█████████████████████████       | 14.3MB 2.0MB/s eta 0:00:02\r\u001b[K     |█████████████████████████       | 14.3MB 2.0MB/s eta 0:00:02\r\u001b[K     |█████████████████████████       | 14.3MB 2.0MB/s eta 0:00:02\r\u001b[K     |█████████████████████████▏      | 14.3MB 2.0MB/s eta 0:00:02\r\u001b[K     |█████████████████████████▏      | 14.3MB 2.0MB/s eta 0:00:02\r\u001b[K     |█████████████████████████▏      | 14.3MB 2.0MB/s eta 0:00:02\r\u001b[K     |█████████████████████████▏      | 14.3MB 2.0MB/s eta 0:00:02\r\u001b[K     |█████████████████████████▏      | 14.3MB 2.0MB/s eta 0:00:02\r\u001b[K     |█████████████████████████▏      | 14.3MB 2.0MB/s eta 0:00:02\r\u001b[K     |█████████████████████████▎      | 14.4MB 2.0MB/s eta 0:00:02\r\u001b[K     |█████████████████████████▎      | 14.4MB 2.0MB/s eta 0:00:02\r\u001b[K     |█████████████████████████▎      | 14.4MB 2.0MB/s eta 0:00:02\r\u001b[K     |█████████████████████████▎      | 14.4MB 2.0MB/s eta 0:00:02\r\u001b[K     |█████████████████████████▎      | 14.4MB 2.0MB/s eta 0:00:02\r\u001b[K     |█████████████████████████▎      | 14.4MB 2.0MB/s eta 0:00:02\r\u001b[K     |█████████████████████████▍      | 14.4MB 2.0MB/s eta 0:00:02\r\u001b[K     |█████████████████████████▍      | 14.4MB 2.0MB/s eta 0:00:02\r\u001b[K     |█████████████████████████▍      | 14.4MB 2.0MB/s eta 0:00:02\r\u001b[K     |█████████████████████████▍      | 14.4MB 2.0MB/s eta 0:00:02\r\u001b[K     |█████████████████████████▍      | 14.5MB 2.0MB/s eta 0:00:02\r\u001b[K     |█████████████████████████▍      | 14.5MB 2.0MB/s eta 0:00:02\r\u001b[K     |█████████████████████████▌      | 14.5MB 2.0MB/s eta 0:00:02\r\u001b[K     |█████████████████████████▌      | 14.5MB 2.0MB/s eta 0:00:02\r\u001b[K     |█████████████████████████▌      | 14.5MB 2.0MB/s eta 0:00:02\r\u001b[K     |█████████████████████████▌      | 14.5MB 2.0MB/s eta 0:00:02\r\u001b[K     |█████████████████████████▌      | 14.5MB 2.0MB/s eta 0:00:02\r\u001b[K     |█████████████████████████▌      | 14.5MB 2.0MB/s eta 0:00:02\r\u001b[K     |█████████████████████████▌      | 14.5MB 2.0MB/s eta 0:00:02\r\u001b[K     |█████████████████████████▋      | 14.6MB 2.0MB/s eta 0:00:02\r\u001b[K     |█████████████████████████▋      | 14.6MB 2.0MB/s eta 0:00:02\r\u001b[K     |█████████████████████████▋      | 14.6MB 2.0MB/s eta 0:00:02\r\u001b[K     |█████████████████████████▋      | 14.6MB 2.0MB/s eta 0:00:02\r\u001b[K     |█████████████████████████▋      | 14.6MB 2.0MB/s eta 0:00:02\r\u001b[K     |█████████████████████████▋      | 14.6MB 2.0MB/s eta 0:00:02\r\u001b[K     |█████████████████████████▊      | 14.6MB 2.0MB/s eta 0:00:02\r\u001b[K     |█████████████████████████▊      | 14.6MB 2.0MB/s eta 0:00:02\r\u001b[K     |█████████████████████████▊      | 14.6MB 2.0MB/s eta 0:00:02\r\u001b[K     |█████████████████████████▊      | 14.6MB 2.0MB/s eta 0:00:02\r\u001b[K     |█████████████████████████▊      | 14.7MB 2.0MB/s eta 0:00:02\r\u001b[K     |█████████████████████████▊      | 14.7MB 2.0MB/s eta 0:00:02\r\u001b[K     |█████████████████████████▉      | 14.7MB 2.0MB/s eta 0:00:02\r\u001b[K     |█████████████████████████▉      | 14.7MB 2.0MB/s eta 0:00:02\r\u001b[K     |█████████████████████████▉      | 14.7MB 2.0MB/s eta 0:00:02\r\u001b[K     |█████████████████████████▉      | 14.7MB 2.0MB/s eta 0:00:02\r\u001b[K     |█████████████████████████▉      | 14.7MB 2.0MB/s eta 0:00:02\r\u001b[K     |█████████████████████████▉      | 14.7MB 2.0MB/s eta 0:00:02\r\u001b[K     |██████████████████████████      | 14.7MB 2.0MB/s eta 0:00:02\r\u001b[K     |██████████████████████████      | 14.7MB 2.0MB/s eta 0:00:02\r\u001b[K     |██████████████████████████      | 14.8MB 2.0MB/s eta 0:00:02\r\u001b[K     |██████████████████████████      | 14.8MB 2.0MB/s eta 0:00:02\r\u001b[K     |██████████████████████████      | 14.8MB 2.0MB/s eta 0:00:02\r\u001b[K     |██████████████████████████      | 14.8MB 2.0MB/s eta 0:00:02\r\u001b[K     |██████████████████████████      | 14.8MB 2.0MB/s eta 0:00:02\r\u001b[K     |██████████████████████████      | 14.8MB 2.0MB/s eta 0:00:02\r\u001b[K     |██████████████████████████      | 14.8MB 2.0MB/s eta 0:00:02\r\u001b[K     |██████████████████████████      | 14.8MB 2.0MB/s eta 0:00:02\r\u001b[K     |██████████████████████████      | 14.8MB 2.0MB/s eta 0:00:02\r\u001b[K     |██████████████████████████      | 14.8MB 2.0MB/s eta 0:00:02\r\u001b[K     |██████████████████████████      | 14.9MB 2.0MB/s eta 0:00:02\r\u001b[K     |██████████████████████████▏     | 14.9MB 2.0MB/s eta 0:00:02\r\u001b[K     |██████████████████████████▏     | 14.9MB 2.0MB/s eta 0:00:02\r\u001b[K     |██████████████████████████▏     | 14.9MB 2.0MB/s eta 0:00:02\r\u001b[K     |██████████████████████████▏     | 14.9MB 2.0MB/s eta 0:00:02\r\u001b[K     |██████████████████████████▏     | 14.9MB 2.0MB/s eta 0:00:02\r\u001b[K     |██████████████████████████▏     | 14.9MB 2.0MB/s eta 0:00:02\r\u001b[K     |██████████████████████████▎     | 14.9MB 2.0MB/s eta 0:00:02\r\u001b[K     |██████████████████████████▎     | 14.9MB 2.0MB/s eta 0:00:02\r\u001b[K     |██████████████████████████▎     | 15.0MB 2.0MB/s eta 0:00:02\r\u001b[K     |██████████████████████████▎     | 15.0MB 2.0MB/s eta 0:00:02\r\u001b[K     |██████████████████████████▎     | 15.0MB 2.0MB/s eta 0:00:02\r\u001b[K     |██████████████████████████▎     | 15.0MB 2.0MB/s eta 0:00:02\r\u001b[K     |██████████████████████████▍     | 15.0MB 2.0MB/s eta 0:00:02\r\u001b[K     |██████████████████████████▍     | 15.0MB 2.0MB/s eta 0:00:02\r\u001b[K     |██████████████████████████▍     | 15.0MB 2.0MB/s eta 0:00:02\r\u001b[K     |██████████████████████████▍     | 15.0MB 2.0MB/s eta 0:00:02\r\u001b[K     |██████████████████████████▍     | 15.0MB 2.0MB/s eta 0:00:02\r\u001b[K     |██████████████████████████▍     | 15.0MB 2.0MB/s eta 0:00:02\r\u001b[K     |██████████████████████████▌     | 15.1MB 2.0MB/s eta 0:00:02\r\u001b[K     |██████████████████████████▌     | 15.1MB 2.0MB/s eta 0:00:02\r\u001b[K     |██████████████████████████▌     | 15.1MB 2.0MB/s eta 0:00:02\r\u001b[K     |██████████████████████████▌     | 15.1MB 2.0MB/s eta 0:00:02\r\u001b[K     |██████████████████████████▌     | 15.1MB 2.0MB/s eta 0:00:02\r\u001b[K     |██████████████████████████▌     | 15.1MB 2.0MB/s eta 0:00:02\r\u001b[K     |██████████████████████████▋     | 15.1MB 2.0MB/s eta 0:00:02\r\u001b[K     |██████████████████████████▋     | 15.1MB 2.0MB/s eta 0:00:02\r\u001b[K     |██████████████████████████▋     | 15.1MB 2.0MB/s eta 0:00:02\r\u001b[K     |██████████████████████████▋     | 15.1MB 2.0MB/s eta 0:00:02\r\u001b[K     |██████████████████████████▋     | 15.2MB 2.0MB/s eta 0:00:02\r\u001b[K     |██████████████████████████▋     | 15.2MB 2.0MB/s eta 0:00:02\r\u001b[K     |██████████████████████████▊     | 15.2MB 2.0MB/s eta 0:00:02\r\u001b[K     |██████████████████████████▊     | 15.2MB 2.0MB/s eta 0:00:02\r\u001b[K     |██████████████████████████▊     | 15.2MB 2.0MB/s eta 0:00:02\r\u001b[K     |██████████████████████████▊     | 15.2MB 2.0MB/s eta 0:00:02\r\u001b[K     |██████████████████████████▊     | 15.2MB 2.0MB/s eta 0:00:02\r\u001b[K     |██████████████████████████▊     | 15.2MB 2.0MB/s eta 0:00:02\r\u001b[K     |██████████████████████████▊     | 15.2MB 2.0MB/s eta 0:00:02\r\u001b[K     |██████████████████████████▉     | 15.2MB 2.0MB/s eta 0:00:02\r\u001b[K     |██████████████████████████▉     | 15.3MB 2.0MB/s eta 0:00:02\r\u001b[K     |██████████████████████████▉     | 15.3MB 2.0MB/s eta 0:00:02\r\u001b[K     |██████████████████████████▉     | 15.3MB 2.0MB/s eta 0:00:02\r\u001b[K     |██████████████████████████▉     | 15.3MB 2.0MB/s eta 0:00:02\r\u001b[K     |██████████████████████████▉     | 15.3MB 2.0MB/s eta 0:00:02\r\u001b[K     |███████████████████████████     | 15.3MB 2.0MB/s eta 0:00:02\r\u001b[K     |███████████████████████████     | 15.3MB 2.0MB/s eta 0:00:02\r\u001b[K     |███████████████████████████     | 15.3MB 2.0MB/s eta 0:00:02\r\u001b[K     |███████████████████████████     | 15.3MB 2.0MB/s eta 0:00:02\r\u001b[K     |███████████████████████████     | 15.3MB 2.0MB/s eta 0:00:02\r\u001b[K     |███████████████████████████     | 15.4MB 2.0MB/s eta 0:00:02\r\u001b[K     |███████████████████████████     | 15.4MB 2.0MB/s eta 0:00:02\r\u001b[K     |███████████████████████████     | 15.4MB 2.0MB/s eta 0:00:02\r\u001b[K     |███████████████████████████     | 15.4MB 2.0MB/s eta 0:00:02\r\u001b[K     |███████████████████████████     | 15.4MB 2.0MB/s eta 0:00:02\r\u001b[K     |███████████████████████████     | 15.4MB 2.0MB/s eta 0:00:02\r\u001b[K     |███████████████████████████     | 15.4MB 2.0MB/s eta 0:00:02\r\u001b[K     |███████████████████████████▏    | 15.4MB 2.0MB/s eta 0:00:02\r\u001b[K     |███████████████████████████▏    | 15.4MB 2.0MB/s eta 0:00:02\r\u001b[K     |███████████████████████████▏    | 15.5MB 2.0MB/s eta 0:00:02\r\u001b[K     |███████████████████████████▏    | 15.5MB 2.0MB/s eta 0:00:02\r\u001b[K     |███████████████████████████▏    | 15.5MB 2.0MB/s eta 0:00:02\r\u001b[K     |███████████████████████████▏    | 15.5MB 2.0MB/s eta 0:00:02\r\u001b[K     |███████████████████████████▎    | 15.5MB 2.0MB/s eta 0:00:02\r\u001b[K     |███████████████████████████▎    | 15.5MB 2.0MB/s eta 0:00:02\r\u001b[K     |███████████████████████████▎    | 15.5MB 2.0MB/s eta 0:00:02\r\u001b[K     |███████████████████████████▎    | 15.5MB 2.0MB/s eta 0:00:02\r\u001b[K     |███████████████████████████▎    | 15.5MB 2.0MB/s eta 0:00:02\r\u001b[K     |███████████████████████████▎    | 15.5MB 2.0MB/s eta 0:00:02\r\u001b[K     |███████████████████████████▍    | 15.6MB 2.0MB/s eta 0:00:02\r\u001b[K     |███████████████████████████▍    | 15.6MB 2.0MB/s eta 0:00:02\r\u001b[K     |███████████████████████████▍    | 15.6MB 2.0MB/s eta 0:00:02\r\u001b[K     |███████████████████████████▍    | 15.6MB 2.0MB/s eta 0:00:02\r\u001b[K     |███████████████████████████▍    | 15.6MB 2.0MB/s eta 0:00:02\r\u001b[K     |███████████████████████████▍    | 15.6MB 2.0MB/s eta 0:00:02\r\u001b[K     |███████████████████████████▍    | 15.6MB 2.0MB/s eta 0:00:02\r\u001b[K     |███████████████████████████▌    | 15.6MB 2.0MB/s eta 0:00:02\r\u001b[K     |███████████████████████████▌    | 15.6MB 2.0MB/s eta 0:00:02\r\u001b[K     |███████████████████████████▌    | 15.6MB 2.0MB/s eta 0:00:02\r\u001b[K     |███████████████████████████▌    | 15.7MB 2.0MB/s eta 0:00:02\r\u001b[K     |███████████████████████████▌    | 15.7MB 2.0MB/s eta 0:00:02\r\u001b[K     |███████████████████████████▌    | 15.7MB 2.0MB/s eta 0:00:02\r\u001b[K     |███████████████████████████▋    | 15.7MB 2.0MB/s eta 0:00:02\r\u001b[K     |███████████████████████████▋    | 15.7MB 2.0MB/s eta 0:00:02\r\u001b[K     |███████████████████████████▋    | 15.7MB 2.0MB/s eta 0:00:02\r\u001b[K     |███████████████████████████▋    | 15.7MB 2.0MB/s eta 0:00:02\r\u001b[K     |███████████████████████████▋    | 15.7MB 2.0MB/s eta 0:00:02\r\u001b[K     |███████████████████████████▋    | 15.7MB 2.0MB/s eta 0:00:02\r\u001b[K     |███████████████████████████▊    | 15.7MB 2.0MB/s eta 0:00:02\r\u001b[K     |███████████████████████████▊    | 15.8MB 2.0MB/s eta 0:00:02\r\u001b[K     |███████████████████████████▊    | 15.8MB 2.0MB/s eta 0:00:02\r\u001b[K     |███████████████████████████▊    | 15.8MB 2.0MB/s eta 0:00:02\r\u001b[K     |███████████████████████████▊    | 15.8MB 2.0MB/s eta 0:00:02\r\u001b[K     |███████████████████████████▊    | 15.8MB 2.0MB/s eta 0:00:02\r\u001b[K     |███████████████████████████▉    | 15.8MB 2.0MB/s eta 0:00:02\r\u001b[K     |███████████████████████████▉    | 15.8MB 2.0MB/s eta 0:00:02\r\u001b[K     |███████████████████████████▉    | 15.8MB 2.0MB/s eta 0:00:02\r\u001b[K     |███████████████████████████▉    | 15.8MB 2.0MB/s eta 0:00:02\r\u001b[K     |███████████████████████████▉    | 15.9MB 2.0MB/s eta 0:00:02\r\u001b[K     |███████████████████████████▉    | 15.9MB 2.0MB/s eta 0:00:02\r\u001b[K     |████████████████████████████    | 15.9MB 2.0MB/s eta 0:00:02\r\u001b[K     |████████████████████████████    | 15.9MB 2.0MB/s eta 0:00:02\r\u001b[K     |████████████████████████████    | 15.9MB 2.0MB/s eta 0:00:02\r\u001b[K     |████████████████████████████    | 15.9MB 2.0MB/s eta 0:00:02\r\u001b[K     |████████████████████████████    | 15.9MB 2.0MB/s eta 0:00:02\r\u001b[K     |████████████████████████████    | 15.9MB 2.0MB/s eta 0:00:02\r\u001b[K     |████████████████████████████    | 15.9MB 2.0MB/s eta 0:00:02\r\u001b[K     |████████████████████████████    | 15.9MB 2.0MB/s eta 0:00:02\r\u001b[K     |████████████████████████████    | 16.0MB 2.0MB/s eta 0:00:02\r\u001b[K     |████████████████████████████    | 16.0MB 2.0MB/s eta 0:00:02\r\u001b[K     |████████████████████████████    | 16.0MB 2.0MB/s eta 0:00:02\r\u001b[K     |████████████████████████████    | 16.0MB 2.0MB/s eta 0:00:02\r\u001b[K     |████████████████████████████    | 16.0MB 2.0MB/s eta 0:00:02\r\u001b[K     |████████████████████████████▏   | 16.0MB 2.0MB/s eta 0:00:02\r\u001b[K     |████████████████████████████▏   | 16.0MB 2.0MB/s eta 0:00:02\r\u001b[K     |████████████████████████████▏   | 16.0MB 2.0MB/s eta 0:00:02\r\u001b[K     |████████████████████████████▏   | 16.0MB 2.0MB/s eta 0:00:02\r\u001b[K     |████████████████████████████▏   | 16.0MB 2.0MB/s eta 0:00:02\r\u001b[K     |████████████████████████████▏   | 16.1MB 2.0MB/s eta 0:00:02\r\u001b[K     |████████████████████████████▎   | 16.1MB 2.0MB/s eta 0:00:02\r\u001b[K     |████████████████████████████▎   | 16.1MB 2.0MB/s eta 0:00:02\r\u001b[K     |████████████████████████████▎   | 16.1MB 2.0MB/s eta 0:00:02\r\u001b[K     |████████████████████████████▎   | 16.1MB 2.0MB/s eta 0:00:02\r\u001b[K     |████████████████████████████▎   | 16.1MB 2.0MB/s eta 0:00:02\r\u001b[K     |████████████████████████████▎   | 16.1MB 2.0MB/s eta 0:00:02\r\u001b[K     |████████████████████████████▍   | 16.1MB 2.0MB/s eta 0:00:02\r\u001b[K     |████████████████████████████▍   | 16.1MB 2.0MB/s eta 0:00:02\r\u001b[K     |████████████████████████████▍   | 16.1MB 2.0MB/s eta 0:00:02\r\u001b[K     |████████████████████████████▍   | 16.2MB 2.0MB/s eta 0:00:02\r\u001b[K     |████████████████████████████▍   | 16.2MB 2.0MB/s eta 0:00:01\r\u001b[K     |████████████████████████████▍   | 16.2MB 2.0MB/s eta 0:00:01\r\u001b[K     |████████████████████████████▌   | 16.2MB 2.0MB/s eta 0:00:01\r\u001b[K     |████████████████████████████▌   | 16.2MB 2.0MB/s eta 0:00:01\r\u001b[K     |████████████████████████████▌   | 16.2MB 2.0MB/s eta 0:00:01\r\u001b[K     |████████████████████████████▌   | 16.2MB 2.0MB/s eta 0:00:01\r\u001b[K     |████████████████████████████▌   | 16.2MB 2.0MB/s eta 0:00:01\r\u001b[K     |████████████████████████████▌   | 16.2MB 2.0MB/s eta 0:00:01\r\u001b[K     |████████████████████████████▋   | 16.3MB 2.0MB/s eta 0:00:01\r\u001b[K     |████████████████████████████▋   | 16.3MB 2.0MB/s eta 0:00:01\r\u001b[K     |████████████████████████████▋   | 16.3MB 2.0MB/s eta 0:00:01\r\u001b[K     |████████████████████████████▋   | 16.3MB 2.0MB/s eta 0:00:01\r\u001b[K     |████████████████████████████▋   | 16.3MB 2.0MB/s eta 0:00:01\r\u001b[K     |████████████████████████████▋   | 16.3MB 2.0MB/s eta 0:00:01\r\u001b[K     |████████████████████████████▋   | 16.3MB 2.0MB/s eta 0:00:01\r\u001b[K     |████████████████████████████▊   | 16.3MB 2.0MB/s eta 0:00:01\r\u001b[K     |████████████████████████████▊   | 16.3MB 2.0MB/s eta 0:00:01\r\u001b[K     |████████████████████████████▊   | 16.3MB 2.0MB/s eta 0:00:01\r\u001b[K     |████████████████████████████▊   | 16.4MB 2.0MB/s eta 0:00:01\r\u001b[K     |████████████████████████████▊   | 16.4MB 2.0MB/s eta 0:00:01\r\u001b[K     |████████████████████████████▊   | 16.4MB 2.0MB/s eta 0:00:01\r\u001b[K     |████████████████████████████▉   | 16.4MB 2.0MB/s eta 0:00:01\r\u001b[K     |████████████████████████████▉   | 16.4MB 2.0MB/s eta 0:00:01\r\u001b[K     |████████████████████████████▉   | 16.4MB 2.0MB/s eta 0:00:01\r\u001b[K     |████████████████████████████▉   | 16.4MB 2.0MB/s eta 0:00:01\r\u001b[K     |████████████████████████████▉   | 16.4MB 2.0MB/s eta 0:00:01\r\u001b[K     |████████████████████████████▉   | 16.4MB 2.0MB/s eta 0:00:01\r\u001b[K     |█████████████████████████████   | 16.4MB 2.0MB/s eta 0:00:01\r\u001b[K     |█████████████████████████████   | 16.5MB 2.0MB/s eta 0:00:01\r\u001b[K     |█████████████████████████████   | 16.5MB 2.0MB/s eta 0:00:01\r\u001b[K     |█████████████████████████████   | 16.5MB 2.0MB/s eta 0:00:01\r\u001b[K     |█████████████████████████████   | 16.5MB 2.0MB/s eta 0:00:01\r\u001b[K     |█████████████████████████████   | 16.5MB 2.0MB/s eta 0:00:01\r\u001b[K     |█████████████████████████████   | 16.5MB 2.0MB/s eta 0:00:01\r\u001b[K     |█████████████████████████████   | 16.5MB 2.0MB/s eta 0:00:01\r\u001b[K     |█████████████████████████████   | 16.5MB 2.0MB/s eta 0:00:01\r\u001b[K     |█████████████████████████████   | 16.5MB 2.0MB/s eta 0:00:01\r\u001b[K     |█████████████████████████████   | 16.5MB 2.0MB/s eta 0:00:01\r\u001b[K     |█████████████████████████████   | 16.6MB 2.0MB/s eta 0:00:01\r\u001b[K     |█████████████████████████████▏  | 16.6MB 2.0MB/s eta 0:00:01\r\u001b[K     |█████████████████████████████▏  | 16.6MB 2.0MB/s eta 0:00:01\r\u001b[K     |█████████████████████████████▏  | 16.6MB 2.0MB/s eta 0:00:01\r\u001b[K     |█████████████████████████████▏  | 16.6MB 2.0MB/s eta 0:00:01\r\u001b[K     |█████████████████████████████▏  | 16.6MB 2.0MB/s eta 0:00:01\r\u001b[K     |█████████████████████████████▏  | 16.6MB 2.0MB/s eta 0:00:01\r\u001b[K     |█████████████████████████████▎  | 16.6MB 2.0MB/s eta 0:00:01\r\u001b[K     |█████████████████████████████▎  | 16.6MB 2.0MB/s eta 0:00:01\r\u001b[K     |█████████████████████████████▎  | 16.7MB 2.0MB/s eta 0:00:01\r\u001b[K     |█████████████████████████████▎  | 16.7MB 2.0MB/s eta 0:00:01\r\u001b[K     |█████████████████████████████▎  | 16.7MB 2.0MB/s eta 0:00:01"
          ],
          "name": "stdout"
        },
        {
          "output_type": "stream",
          "text": [
            "\n",
            "Downloading:  14%|█▍        | 148M/1.03G [00:18<02:10, 6.73MB/s]\u001b[A\n",
            "Downloading:  34%|███▍      | 342M/1.00G [00:40<02:23, 4.60MB/s]"
          ],
          "name": "stderr"
        },
        {
          "output_type": "stream",
          "text": [
            "\r\u001b[K     |█████████████████████████████▎  | 16.7MB 2.0MB/s eta 0:00:01\r\u001b[K     |█████████████████████████████▎  | 16.7MB 2.0MB/s eta 0:00:01\r\u001b[K     |█████████████████████████████▍  | 16.7MB 2.0MB/s eta 0:00:01\r\u001b[K     |█████████████████████████████▍  | 16.7MB 2.0MB/s eta 0:00:01\r\u001b[K     |█████████████████████████████▍  | 16.7MB 2.0MB/s eta 0:00:01\r\u001b[K     |█████████████████████████████▍  | 16.7MB 2.0MB/s eta 0:00:01\r\u001b[K     |█████████████████████████████▍  | 16.7MB 2.0MB/s eta 0:00:01\r\u001b[K     |█████████████████████████████▍  | 16.8MB 2.0MB/s eta 0:00:01\r\u001b[K     |█████████████████████████████▌  | 16.8MB 2.0MB/s eta 0:00:01\r\u001b[K     |█████████████████████████████▌  | 16.8MB 2.0MB/s eta 0:00:01\r\u001b[K     |█████████████████████████████▌  | 16.8MB 2.0MB/s eta 0:00:01\r\u001b[K     |█████████████████████████████▌  | 16.8MB 2.0MB/s eta 0:00:01\r\u001b[K     |█████████████████████████████▌  | 16.8MB 2.0MB/s eta 0:00:01\r\u001b[K     |█████████████████████████████▌  | 16.8MB 2.0MB/s eta 0:00:01\r\u001b[K     |█████████████████████████████▋  | 16.8MB 2.0MB/s eta 0:00:01\r\u001b[K     |█████████████████████████████▋  | 16.8MB 2.0MB/s eta 0:00:01\r\u001b[K     |█████████████████████████████▋  | 16.8MB 2.0MB/s eta 0:00:01\r\u001b[K     |█████████████████████████████▋  | 16.9MB 2.0MB/s eta 0:00:01\r\u001b[K     |█████████████████████████████▋  | 16.9MB 2.0MB/s eta 0:00:01\r\u001b[K     |█████████████████████████████▋  | 16.9MB 2.0MB/s eta 0:00:01\r\u001b[K     |█████████████████████████████▊  | 16.9MB 2.0MB/s eta 0:00:01\r\u001b[K     |█████████████████████████████▊  | 16.9MB 2.0MB/s eta 0:00:01\r\u001b[K     |█████████████████████████████▊  | 16.9MB 2.0MB/s eta 0:00:01\r\u001b[K     |█████████████████████████████▊  | 16.9MB 2.0MB/s eta 0:00:01\r\u001b[K     |█████████████████████████████▊  | 16.9MB 2.0MB/s eta 0:00:01\r\u001b[K     |█████████████████████████████▊  | 16.9MB 2.0MB/s eta 0:00:01\r\u001b[K     |█████████████████████████████▉  | 16.9MB 2.0MB/s eta 0:00:01\r\u001b[K     |█████████████████████████████▉  | 17.0MB 2.0MB/s eta 0:00:01\r\u001b[K     |█████████████████████████████▉  | 17.0MB 2.0MB/s eta 0:00:01\r\u001b[K     |█████████████████████████████▉  | 17.0MB 2.0MB/s eta 0:00:01\r\u001b[K     |█████████████████████████████▉  | 17.0MB 2.0MB/s eta 0:00:01\r\u001b[K     |█████████████████████████████▉  | 17.0MB 2.0MB/s eta 0:00:01\r\u001b[K     |██████████████████████████████  | 17.0MB 2.0MB/s eta 0:00:01\r\u001b[K     |██████████████████████████████  | 17.0MB 2.0MB/s eta 0:00:01\r\u001b[K     |██████████████████████████████  | 17.0MB 2.0MB/s eta 0:00:01\r\u001b[K     |██████████████████████████████  | 17.0MB 2.0MB/s eta 0:00:01\r\u001b[K     |██████████████████████████████  | 17.0MB 2.0MB/s eta 0:00:01\r\u001b[K     |██████████████████████████████  | 17.1MB 2.0MB/s eta 0:00:01\r\u001b[K     |██████████████████████████████  | 17.1MB 2.0MB/s eta 0:00:01\r\u001b[K     |██████████████████████████████  | 17.1MB 2.0MB/s eta 0:00:01\r\u001b[K     |██████████████████████████████  | 17.1MB 2.0MB/s eta 0:00:01\r\u001b[K     |██████████████████████████████  | 17.1MB 2.0MB/s eta 0:00:01\r\u001b[K     |██████████████████████████████  | 17.1MB 2.0MB/s eta 0:00:01\r\u001b[K     |██████████████████████████████  | 17.1MB 2.0MB/s eta 0:00:01\r\u001b[K     |██████████████████████████████  | 17.1MB 2.0MB/s eta 0:00:01\r\u001b[K     |██████████████████████████████▏ | 17.1MB 2.0MB/s eta 0:00:01\r\u001b[K     |██████████████████████████████▏ | 17.2MB 2.0MB/s eta 0:00:01\r\u001b[K     |██████████████████████████████▏ | 17.2MB 2.0MB/s eta 0:00:01\r\u001b[K     |██████████████████████████████▏ | 17.2MB 2.0MB/s eta 0:00:01\r\u001b[K     |██████████████████████████████▏ | 17.2MB 2.0MB/s eta 0:00:01\r\u001b[K     |██████████████████████████████▏ | 17.2MB 2.0MB/s eta 0:00:01\r\u001b[K     |██████████████████████████████▎ | 17.2MB 2.0MB/s eta 0:00:01\r\u001b[K     |██████████████████████████████▎ | 17.2MB 2.0MB/s eta 0:00:01\r\u001b[K     |██████████████████████████████▎ | 17.2MB 2.0MB/s eta 0:00:01\r\u001b[K     |██████████████████████████████▎ | 17.2MB 2.0MB/s eta 0:00:01\r\u001b[K     |██████████████████████████████▎ | 17.2MB 2.0MB/s eta 0:00:01\r\u001b[K     |██████████████████████████████▎ | 17.3MB 2.0MB/s eta 0:00:01\r\u001b[K     |██████████████████████████████▍ | 17.3MB 2.0MB/s eta 0:00:01\r\u001b[K     |██████████████████████████████▍ | 17.3MB 2.0MB/s eta 0:00:01\r\u001b[K     |██████████████████████████████▍ | 17.3MB 2.0MB/s eta 0:00:01\r\u001b[K     |██████████████████████████████▍ | 17.3MB 2.0MB/s eta 0:00:01\r\u001b[K     |██████████████████████████████▍ | 17.3MB 2.0MB/s eta 0:00:01\r\u001b[K     |██████████████████████████████▍ | 17.3MB 2.0MB/s eta 0:00:01\r\u001b[K     |██████████████████████████████▌ | 17.3MB 2.0MB/s eta 0:00:01\r\u001b[K     |██████████████████████████████▌ | 17.3MB 2.0MB/s eta 0:00:01\r\u001b[K     |██████████████████████████████▌ | 17.3MB 2.0MB/s eta 0:00:01\r\u001b[K     |██████████████████████████████▌ | 17.4MB 2.0MB/s eta 0:00:01\r\u001b[K     |██████████████████████████████▌ | 17.4MB 2.0MB/s eta 0:00:01\r\u001b[K     |██████████████████████████████▌ | 17.4MB 2.0MB/s eta 0:00:01\r\u001b[K     |██████████████████████████████▋ | 17.4MB 2.0MB/s eta 0:00:01\r\u001b[K     |██████████████████████████████▋ | 17.4MB 2.0MB/s eta 0:00:01\r\u001b[K     |██████████████████████████████▋ | 17.4MB 2.0MB/s eta 0:00:01\r\u001b[K     |██████████████████████████████▋ | 17.4MB 2.0MB/s eta 0:00:01\r\u001b[K     |██████████████████████████████▋ | 17.4MB 2.0MB/s eta 0:00:01\r\u001b[K     |██████████████████████████████▋ | 17.4MB 2.0MB/s eta 0:00:01\r\u001b[K     |██████████████████████████████▋ | 17.4MB 2.0MB/s eta 0:00:01\r\u001b[K     |██████████████████████████████▊ | 17.5MB 2.0MB/s eta 0:00:01\r\u001b[K     |██████████████████████████████▊ | 17.5MB 2.0MB/s eta 0:00:01\r\u001b[K     |██████████████████████████████▊ | 17.5MB 2.0MB/s eta 0:00:01\r\u001b[K     |██████████████████████████████▊ | 17.5MB 2.0MB/s eta 0:00:01\r\u001b[K     |██████████████████████████████▊ | 17.5MB 2.0MB/s eta 0:00:01\r\u001b[K     |██████████████████████████████▊ | 17.5MB 2.0MB/s eta 0:00:01\r\u001b[K     |██████████████████████████████▉ | 17.5MB 2.0MB/s eta 0:00:01\r\u001b[K     |██████████████████████████████▉ | 17.5MB 2.0MB/s eta 0:00:01\r\u001b[K     |██████████████████████████████▉ | 17.5MB 2.0MB/s eta 0:00:01\r\u001b[K     |██████████████████████████████▉ | 17.6MB 2.0MB/s eta 0:00:01\r\u001b[K     |██████████████████████████████▉ | 17.6MB 2.0MB/s eta 0:00:01\r\u001b[K     |██████████████████████████████▉ | 17.6MB 2.0MB/s eta 0:00:01\r\u001b[K     |███████████████████████████████ | 17.6MB 2.0MB/s eta 0:00:01\r\u001b[K     |███████████████████████████████ | 17.6MB 2.0MB/s eta 0:00:01\r\u001b[K     |███████████████████████████████ | 17.6MB 2.0MB/s eta 0:00:01\r\u001b[K     |███████████████████████████████ | 17.6MB 2.0MB/s eta 0:00:01\r\u001b[K     |███████████████████████████████ | 17.6MB 2.0MB/s eta 0:00:01\r\u001b[K     |███████████████████████████████ | 17.6MB 2.0MB/s eta 0:00:01\r\u001b[K     |███████████████████████████████ | 17.6MB 2.0MB/s eta 0:00:01\r\u001b[K     |███████████████████████████████ | 17.7MB 2.0MB/s eta 0:00:01\r\u001b[K     |███████████████████████████████ | 17.7MB 2.0MB/s eta 0:00:01\r\u001b[K     |███████████████████████████████ | 17.7MB 2.0MB/s eta 0:00:01\r\u001b[K     |███████████████████████████████ | 17.7MB 2.0MB/s eta 0:00:01\r\u001b[K     |███████████████████████████████ | 17.7MB 2.0MB/s eta 0:00:01\r\u001b[K     |███████████████████████████████▏| 17.7MB 2.0MB/s eta 0:00:01\r\u001b[K     |███████████████████████████████▏| 17.7MB 2.0MB/s eta 0:00:01\r\u001b[K     |███████████████████████████████▏| 17.7MB 2.0MB/s eta 0:00:01\r\u001b[K     |███████████████████████████████▏| 17.7MB 2.0MB/s eta 0:00:01\r\u001b[K     |███████████████████████████████▏| 17.7MB 2.0MB/s eta 0:00:01\r\u001b[K     |███████████████████████████████▏| 17.8MB 2.0MB/s eta 0:00:01\r\u001b[K     |███████████████████████████████▏| 17.8MB 2.0MB/s eta 0:00:01\r\u001b[K     |███████████████████████████████▎| 17.8MB 2.0MB/s eta 0:00:01\r\u001b[K     |███████████████████████████████▎| 17.8MB 2.0MB/s eta 0:00:01\r\u001b[K     |███████████████████████████████▎| 17.8MB 2.0MB/s eta 0:00:01\r\u001b[K     |███████████████████████████████▎| 17.8MB 2.0MB/s eta 0:00:01\r\u001b[K     |███████████████████████████████▎| 17.8MB 2.0MB/s eta 0:00:01\r\u001b[K     |███████████████████████████████▎| 17.8MB 2.0MB/s eta 0:00:01\r\u001b[K     |███████████████████████████████▍| 17.8MB 2.0MB/s eta 0:00:01\r\u001b[K     |███████████████████████████████▍| 17.8MB 2.0MB/s eta 0:00:01\r\u001b[K     |███████████████████████████████▍| 17.9MB 2.0MB/s eta 0:00:01\r\u001b[K     |███████████████████████████████▍| 17.9MB 2.0MB/s eta 0:00:01\r\u001b[K     |███████████████████████████████▍| 17.9MB 2.0MB/s eta 0:00:01\r\u001b[K     |███████████████████████████████▍| 17.9MB 2.0MB/s eta 0:00:01\r\u001b[K     |███████████████████████████████▌| 17.9MB 2.0MB/s eta 0:00:01\r\u001b[K     |███████████████████████████████▌| 17.9MB 2.0MB/s eta 0:00:01\r\u001b[K     |███████████████████████████████▌| 17.9MB 2.0MB/s eta 0:00:01\r\u001b[K     |███████████████████████████████▌| 17.9MB 2.0MB/s eta 0:00:01\r\u001b[K     |███████████████████████████████▌| 17.9MB 2.0MB/s eta 0:00:01\r\u001b[K     |███████████████████████████████▌| 18.0MB 2.0MB/s eta 0:00:01\r\u001b[K     |███████████████████████████████▋| 18.0MB 2.0MB/s eta 0:00:01\r\u001b[K     |███████████████████████████████▋| 18.0MB 2.0MB/s eta 0:00:01\r\u001b[K     |███████████████████████████████▋| 18.0MB 2.0MB/s eta 0:00:01\r\u001b[K     |███████████████████████████████▋| 18.0MB 2.0MB/s eta 0:00:01\r\u001b[K     |███████████████████████████████▋| 18.0MB 2.0MB/s eta 0:00:01\r\u001b[K     |███████████████████████████████▋| 18.0MB 2.0MB/s eta 0:00:01\r\u001b[K     |███████████████████████████████▊| 18.0MB 2.0MB/s eta 0:00:01\r\u001b[K     |███████████████████████████████▊| 18.0MB 2.0MB/s eta 0:00:01\r\u001b[K     |███████████████████████████████▊| 18.0MB 2.0MB/s eta 0:00:01\r\u001b[K     |███████████████████████████████▊| 18.1MB 2.0MB/s eta 0:00:01\r\u001b[K     |███████████████████████████████▊| 18.1MB 2.0MB/s eta 0:00:01\r\u001b[K     |███████████████████████████████▊| 18.1MB 2.0MB/s eta 0:00:01\r\u001b[K     |███████████████████████████████▉| 18.1MB 2.0MB/s eta 0:00:01\r\u001b[K     |███████████████████████████████▉| 18.1MB 2.0MB/s eta 0:00:01\r\u001b[K     |███████████████████████████████▉| 18.1MB 2.0MB/s eta 0:00:01\r\u001b[K     |███████████████████████████████▉| 18.1MB 2.0MB/s eta 0:00:01\r\u001b[K     |███████████████████████████████▉| 18.1MB 2.0MB/s eta 0:00:01\r\u001b[K     |███████████████████████████████▉| 18.1MB 2.0MB/s eta 0:00:01\r\u001b[K     |███████████████████████████████▉| 18.1MB 2.0MB/s eta 0:00:01\r\u001b[K     |████████████████████████████████| 18.2MB 2.0MB/s eta 0:00:01\r\u001b[K     |████████████████████████████████| 18.2MB 2.0MB/s eta 0:00:01\r\u001b[K     |████████████████████████████████| 18.2MB 2.0MB/s eta 0:00:01\r\u001b[K     |████████████████████████████████| 18.2MB 2.0MB/s eta 0:00:01\r\u001b[K     |████████████████████████████████| 18.2MB 2.0MB/s eta 0:00:01\r\u001b[K     |████████████████████████████████| 18.2MB 2.0MB/s eta 0:00:01"
          ],
          "name": "stdout"
        },
        {
          "output_type": "stream",
          "text": [
            "\n",
            "Downloading:  34%|███▍      | 345M/1.00G [00:40<01:56, 5.62MB/s]\n",
            "Downloading:  35%|███▍      | 346M/1.00G [00:40<01:55, 5.66MB/s]\n",
            "Downloading:  35%|███▍      | 347M/1.00G [00:40<01:53, 5.76MB/s]"
          ],
          "name": "stderr"
        },
        {
          "output_type": "stream",
          "text": [
            "\r\u001b[K     |████████████████████████████████| 18.2MB 2.0MB/s \n"
          ],
          "name": "stdout"
        },
        {
          "output_type": "stream",
          "text": [
            "\n",
            "Downloading:  35%|███▍      | 349M/1.00G [00:41<01:44, 6.21MB/s]\n",
            "Downloading:  15%|█▌        | 156M/1.03G [00:19<02:39, 5.45MB/s]\u001b[A\n",
            "Downloading:  15%|█▌        | 157M/1.03G [00:19<02:19, 6.23MB/s]\u001b[A\n",
            "Downloading:  15%|█▌        | 158M/1.03G [00:19<02:19, 6.24MB/s]\u001b[A"
          ],
          "name": "stderr"
        },
        {
          "output_type": "stream",
          "text": [
            "\u001b[?25hRequirement already satisfied: numpy in /usr/local/lib/python3.6/dist-packages (from rasterio) (1.18.5)\n",
            "Requirement already satisfied: click<8,>=4.0 in /usr/local/lib/python3.6/dist-packages (from rasterio) (7.1.2)\n",
            "Collecting snuggs>=1.4.1\n"
          ],
          "name": "stdout"
        },
        {
          "output_type": "stream",
          "text": [
            "Downloading:  35%|███▌      | 350M/1.00G [00:41<02:34, 4.22MB/s]\n",
            "Downloading:  16%|█▌        | 159M/1.03G [00:19<02:15, 6.43MB/s]\u001b[A"
          ],
          "name": "stderr"
        },
        {
          "output_type": "stream",
          "text": [
            "  Downloading https://files.pythonhosted.org/packages/cc/0e/d27d6e806d6c0d1a2cfdc5d1f088e42339a0a54a09c3343f7f81ec8947ea/snuggs-1.4.7-py3-none-any.whl\n",
            "Requirement already satisfied: cligj>=0.5 in /usr/local/lib/python3.6/dist-packages (from rasterio) (0.5.0)\n",
            "Requirement already satisfied: click-plugins in /usr/local/lib/python3.6/dist-packages (from rasterio) (1.1.1)\n",
            "Collecting affine\n",
            "  Downloading https://files.pythonhosted.org/packages/ac/a6/1a39a1ede71210e3ddaf623982b06ecfc5c5c03741ae659073159184cd3e/affine-2.3.0-py2.py3-none-any.whl\n"
          ],
          "name": "stdout"
        },
        {
          "output_type": "stream",
          "text": [
            "Downloading:  35%|███▌      | 352M/1.00G [00:41<02:08, 5.05MB/s]\n",
            "Downloading:  35%|███▌      | 353M/1.00G [00:42<01:55, 5.58MB/s]\n",
            "Downloading:  16%|█▌        | 163M/1.03G [00:19<01:55, 7.51MB/s]\u001b[A"
          ],
          "name": "stderr"
        },
        {
          "output_type": "stream",
          "text": [
            "Requirement already satisfied: attrs in /usr/local/lib/python3.6/dist-packages (from rasterio) (19.3.0)\n",
            "Requirement already satisfied: pyparsing>=2.1.6 in /usr/local/lib/python3.6/dist-packages (from snuggs>=1.4.1->rasterio) (2.4.7)\n"
          ],
          "name": "stdout"
        },
        {
          "output_type": "stream",
          "text": [
            "Downloading:  35%|███▌      | 354M/1.00G [00:42<01:40, 6.40MB/s]\n",
            "Downloading:  16%|█▌        | 165M/1.03G [00:20<01:45, 8.20MB/s]\u001b[A\n",
            "Downloading:  36%|███▌      | 357M/1.00G [00:42<01:34, 6.82MB/s]\n",
            "Downloading:  36%|███▌      | 359M/1.00G [00:42<01:24, 7.59MB/s]\n",
            "Downloading:  16%|█▋        | 169M/1.03G [00:20<01:33, 9.20MB/s]\u001b[A\n",
            "Downloading:  36%|███▌      | 360M/1.00G [00:43<01:55, 5.55MB/s]\n",
            "Downloading:  36%|███▌      | 362M/1.00G [00:43<01:36, 6.61MB/s]\n",
            "Downloading:  36%|███▋      | 365M/1.00G [00:43<01:24, 7.48MB/s]\n",
            "Downloading:  17%|█▋        | 176M/1.03G [00:21<01:39, 8.56MB/s]\u001b[A\n",
            "Downloading:  37%|███▋      | 366M/1.00G [00:43<01:20, 7.83MB/s]\n",
            "Downloading:  37%|███▋      | 368M/1.00G [00:43<01:15, 8.33MB/s]\n",
            "Downloading:  17%|█▋        | 179M/1.03G [00:21<01:38, 8.58MB/s]\u001b[A\n",
            "Downloading:  37%|███▋      | 369M/1.00G [00:44<01:19, 7.94MB/s]\n",
            "Downloading:  37%|███▋      | 371M/1.00G [00:44<01:11, 8.80MB/s]\n",
            "Downloading:  37%|███▋      | 373M/1.00G [00:44<01:07, 9.30MB/s]\n",
            "Downloading:  38%|███▊      | 375M/1.00G [00:44<01:02, 10.0MB/s]"
          ],
          "name": "stderr"
        },
        {
          "output_type": "stream",
          "text": [
            "Installing collected packages: snuggs, affine, rasterio\n"
          ],
          "name": "stdout"
        },
        {
          "output_type": "stream",
          "text": [
            "\n",
            "Downloading:  38%|███▊      | 377M/1.00G [00:44<01:00, 10.3MB/s]\n",
            "Downloading:  38%|███▊      | 380M/1.00G [00:44<00:57, 10.7MB/s]"
          ],
          "name": "stderr"
        },
        {
          "output_type": "stream",
          "text": [
            "Successfully installed affine-2.3.0 rasterio-1.1.5 snuggs-1.4.7\n"
          ],
          "name": "stdout"
        },
        {
          "output_type": "stream",
          "text": [
            "\n",
            "Downloading:  38%|███▊      | 384M/1.00G [00:45<00:55, 11.1MB/s]\n",
            "Downloading:  19%|█▉        | 194M/1.03G [00:23<01:21, 10.2MB/s]\u001b[A\n",
            "Downloading:  39%|███▊      | 386M/1.00G [00:45<00:54, 11.4MB/s]\n",
            "Downloading:  39%|███▉      | 390M/1.00G [00:45<00:52, 11.5MB/s]\n",
            "Downloading:  39%|███▉      | 392M/1.00G [00:46<00:51, 11.7MB/s]\n",
            "Downloading:  40%|███▉      | 396M/1.00G [00:46<00:57, 10.5MB/s]\n",
            "Downloading:  40%|███▉      | 400M/1.00G [00:46<00:55, 10.8MB/s]\n",
            "Downloading:  40%|████      | 403M/1.00G [00:47<00:53, 11.1MB/s]\n",
            "Downloading:  41%|████      | 406M/1.00G [00:47<00:52, 11.3MB/s]\n",
            "Downloading:  21%|██        | 216M/1.03G [00:25<01:13, 11.1MB/s]\u001b[A"
          ],
          "name": "stderr"
        }
      ]
    },
    {
      "cell_type": "code",
      "metadata": {
        "id": "V1wJ1rbpmeOy",
        "colab_type": "code",
        "colab": {}
      },
      "source": [
        "from sentinelsat import SentinelAPI\n",
        "user =''\n",
        "password = ''\n",
        "api = SentinelAPI(user,password,'https://scihub.copernicus.eu/dhus')"
      ],
      "execution_count": 4,
      "outputs": []
    },
    {
      "cell_type": "code",
      "metadata": {
        "id": "NvmvmPdKnnON",
        "colab_type": "code",
        "colab": {}
      },
      "source": [
        "import geopandas as gpd\n",
        "import folium"
      ],
      "execution_count": 8,
      "outputs": []
    },
    {
      "cell_type": "code",
      "metadata": {
        "id": "w7bvFcw8oWi-",
        "colab_type": "code",
        "colab": {
          "base_uri": "https://localhost:8080/",
          "height": 464
        },
        "outputId": "8d93be06-5e2c-4f40-9031-071056092450"
      },
      "source": [
        "!wget https://www.dropbox.com/s/ymxuxpcnj88mlz2/NReserve.zip"
      ],
      "execution_count": 9,
      "outputs": [
        {
          "output_type": "stream",
          "text": [
            "--2020-07-28 13:34:24--  https://www.dropbox.com/s/ymxuxpcnj88mlz2/NReserve.zip\n",
            "Resolving www.dropbox.com (www.dropbox.com)... 162.125.80.1, 2620:100:6030:1::a27d:5001\n",
            "Connecting to www.dropbox.com (www.dropbox.com)|162.125.80.1|:443... connected.\n",
            "HTTP request sent, awaiting response... 301 Moved Permanently\n",
            "Location: /s/raw/ymxuxpcnj88mlz2/NReserve.zip [following]\n",
            "--2020-07-28 13:34:24--  https://www.dropbox.com/s/raw/ymxuxpcnj88mlz2/NReserve.zip\n",
            "Reusing existing connection to www.dropbox.com:443.\n",
            "HTTP request sent, awaiting response... 302 Found\n",
            "Location: https://uc0575796807ba3fef40e199a328.dl.dropboxusercontent.com/cd/0/inline/A8YOZEIJEfdBXRq_l6r3Zv4qqwozltML4NUkLzA6a6rh5us5KA1LmIvUzCz4CoYXmDK8D4-x9blQaRP0GcC0Tu_4hbjkwL_d2a4UY6pgmZtJ1A/file# [following]\n",
            "--2020-07-28 13:34:25--  https://uc0575796807ba3fef40e199a328.dl.dropboxusercontent.com/cd/0/inline/A8YOZEIJEfdBXRq_l6r3Zv4qqwozltML4NUkLzA6a6rh5us5KA1LmIvUzCz4CoYXmDK8D4-x9blQaRP0GcC0Tu_4hbjkwL_d2a4UY6pgmZtJ1A/file\n",
            "Resolving uc0575796807ba3fef40e199a328.dl.dropboxusercontent.com (uc0575796807ba3fef40e199a328.dl.dropboxusercontent.com)... 162.125.80.15, 2620:100:6030:15::a27d:500f\n",
            "Connecting to uc0575796807ba3fef40e199a328.dl.dropboxusercontent.com (uc0575796807ba3fef40e199a328.dl.dropboxusercontent.com)|162.125.80.15|:443... connected.\n",
            "HTTP request sent, awaiting response... 302 Found\n",
            "Location: /cd/0/inline2/A8Zk9mKBrHDTKEzA97DgmhQ0xLM4rAoe1ph2jsw9laJ-EW6oQz7URCMn_Ue-b3YOZeYCQ6UlV3zOiOrgt9FV-iPGszz2x2CQz79IWUg4inxYt1etE1am2RW_AKa6bEHVOlhBrq7pHepoOLBaVI26F8hjGarQmgIihfudtsu238-pi-pxrDiHnzOu8pe5eCdLYATNNasX8SkBAt3nriSkoBXu6eoNMfXtFla4j69uJXfNDg0HDMdkRyHQXb2aCR8o7cQ2jJ6CWl_d1wdhivrh9DIv6L1zNg_JCmhiwBF304JWFRhVS1V8p3yD5tWTtQAhoTEK6NZWDnuCSug6uLRkpVF2/file [following]\n",
            "--2020-07-28 13:34:25--  https://uc0575796807ba3fef40e199a328.dl.dropboxusercontent.com/cd/0/inline2/A8Zk9mKBrHDTKEzA97DgmhQ0xLM4rAoe1ph2jsw9laJ-EW6oQz7URCMn_Ue-b3YOZeYCQ6UlV3zOiOrgt9FV-iPGszz2x2CQz79IWUg4inxYt1etE1am2RW_AKa6bEHVOlhBrq7pHepoOLBaVI26F8hjGarQmgIihfudtsu238-pi-pxrDiHnzOu8pe5eCdLYATNNasX8SkBAt3nriSkoBXu6eoNMfXtFla4j69uJXfNDg0HDMdkRyHQXb2aCR8o7cQ2jJ6CWl_d1wdhivrh9DIv6L1zNg_JCmhiwBF304JWFRhVS1V8p3yD5tWTtQAhoTEK6NZWDnuCSug6uLRkpVF2/file\n",
            "Reusing existing connection to uc0575796807ba3fef40e199a328.dl.dropboxusercontent.com:443.\n",
            "HTTP request sent, awaiting response... 200 OK\n",
            "Length: 2040 (2.0K) [application/zip]\n",
            "Saving to: ‘NReserve.zip’\n",
            "\n",
            "NReserve.zip        100%[===================>]   1.99K  --.-KB/s    in 0s      \n",
            "\n",
            "2020-07-28 13:34:26 (248 MB/s) - ‘NReserve.zip’ saved [2040/2040]\n",
            "\n"
          ],
          "name": "stdout"
        }
      ]
    },
    {
      "cell_type": "code",
      "metadata": {
        "id": "G4wTg0HlobKe",
        "colab_type": "code",
        "colab": {
          "base_uri": "https://localhost:8080/",
          "height": 159
        },
        "outputId": "45aec58c-7858-4a74-89cd-14129d25ff82"
      },
      "source": [
        "!unzip 'NReserve.zip'"
      ],
      "execution_count": 10,
      "outputs": [
        {
          "output_type": "stream",
          "text": [
            "Archive:  NReserve.zip\n",
            "   creating: NReserve/\n",
            " extracting: NReserve/NaturalReserve_Polygon.cpg  \n",
            "  inflating: NReserve/NaturalReserve_Polygon.dbf  \n",
            "  inflating: NReserve/NaturalReserve_Polygon.prj  \n",
            "  inflating: NReserve/NaturalReserve_Polygon.qpj  \n",
            "  inflating: NReserve/NaturalReserve_Polygon.shp  \n",
            "  inflating: NReserve/NaturalReserve_Polygon.shx  \n"
          ],
          "name": "stdout"
        }
      ]
    },
    {
      "cell_type": "code",
      "metadata": {
        "id": "xIupDXVHoeo5",
        "colab_type": "code",
        "colab": {
          "base_uri": "https://localhost:8080/",
          "height": 35
        },
        "outputId": "75e7973b-ebf3-4e61-eecf-1bd9d711c4db"
      },
      "source": [
        "nReserve = gpd.read_file('/content/NReserve/NaturalReserve_Polygon.shp')\n",
        "\n",
        "m = folium.Map([41.7023292727353, 12.34697305914639], zoom_start=12)\n",
        "folium.GeoJson(nReserve).add_to(m)"
      ],
      "execution_count": 11,
      "outputs": [
        {
          "output_type": "execute_result",
          "data": {
            "text/plain": [
              "<folium.features.GeoJson at 0x7f0f13f859e8>"
            ]
          },
          "metadata": {
            "tags": []
          },
          "execution_count": 11
        }
      ]
    },
    {
      "cell_type": "code",
      "metadata": {
        "id": "KTbgyT7mor3Z",
        "colab_type": "code",
        "colab": {
          "base_uri": "https://localhost:8080/",
          "height": 669
        },
        "outputId": "c65d5fc4-1fe0-4e66-95bb-e776f0c1a804"
      },
      "source": [
        "m"
      ],
      "execution_count": 13,
      "outputs": [
        {
          "output_type": "execute_result",
          "data": {
            "text/html": [
              "<div style=\"width:100%;\"><div style=\"position:relative;width:100%;height:0;padding-bottom:60%;\"><span style=\"color:#565656\">Make this Notebook Trusted to load map: File -> Trust Notebook</span><iframe src=\"about:blank\" style=\"position:absolute;width:100%;height:100%;left:0;top:0;border:none !important;\" data-html=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 onload=\"this.contentDocument.open();this.contentDocument.write(atob(this.getAttribute('data-html')));this.contentDocument.close();\" allowfullscreen webkitallowfullscreen mozallowfullscreen></iframe></div></div>"
            ],
            "text/plain": [
              "<folium.folium.Map at 0x7f0f384ff9e8>"
            ]
          },
          "metadata": {
            "tags": []
          },
          "execution_count": 13
        }
      ]
    },
    {
      "cell_type": "code",
      "metadata": {
        "id": "VOX6b1Gqo5-E",
        "colab_type": "code",
        "colab": {}
      },
      "source": [
        "from shapely.geometry import MultiPolygon,Polygon\n",
        "\n",
        "footp = None\n",
        "for i in nReserve['geometry']:\n",
        "  footp = i"
      ],
      "execution_count": 15,
      "outputs": []
    },
    {
      "cell_type": "code",
      "metadata": {
        "id": "5dYSLOdLpant",
        "colab_type": "code",
        "colab": {
          "base_uri": "https://localhost:8080/",
          "height": 35
        },
        "outputId": "0b9fb939-6db6-4d44-c6bd-fdf81d34bb28"
      },
      "source": [
        "# by not providing date parameter, the api queries recent most image by default.\n",
        "products = api.query(footp,\n",
        "                     platformname = 'Sentinel-2',\n",
        "                     processinglevel = 'Level-2A',\n",
        "                     cloudcoverpercentage = (0,10)\n",
        "                    )"
      ],
      "execution_count": 19,
      "outputs": [
        {
          "output_type": "stream",
          "text": [
            "Querying products: 100%|██████████| 145/145 [00:01<00:00, 77.95 products/s]\n"
          ],
          "name": "stderr"
        }
      ]
    },
    {
      "cell_type": "code",
      "metadata": {
        "id": "juhHmNzsrlbG",
        "colab_type": "code",
        "colab": {
          "base_uri": "https://localhost:8080/",
          "height": 72
        },
        "outputId": "1804a7fb-7d88-47db-d122-18b953602041"
      },
      "source": [
        "#converting product dictionary into a geodataframe/dataframe\n",
        "product_gdf = api.to_geodataframe(products)\n",
        "product_gdf_sorted = product_gdf.sort_values(['cloudcoverpercentage'],ascending =[True])"
      ],
      "execution_count": 20,
      "outputs": [
        {
          "output_type": "stream",
          "text": [
            "/usr/local/lib/python3.6/dist-packages/pyproj/crs/crs.py:53: FutureWarning: '+init=<authority>:<code>' syntax is deprecated. '<authority>:<code>' is the preferred initialization method. When making the change, be mindful of axis order changes: https://pyproj4.github.io/pyproj/stable/gotchas.html#axis-order-changes-in-proj-6\n",
            "  return _prepare_from_string(\" \".join(pjargs))\n"
          ],
          "name": "stderr"
        }
      ]
    },
    {
      "cell_type": "code",
      "metadata": {
        "id": "MaqB8Du0sdl1",
        "colab_type": "code",
        "colab": {
          "base_uri": "https://localhost:8080/",
          "height": 1000
        },
        "outputId": "586681b7-7367-4a3e-e421-457eb4bb9fe1"
      },
      "source": [
        "product_gdf_sorted"
      ],
      "execution_count": 27,
      "outputs": [
        {
          "output_type": "execute_result",
          "data": {
            "text/html": [
              "<div>\n",
              "<style scoped>\n",
              "    .dataframe tbody tr th:only-of-type {\n",
              "        vertical-align: middle;\n",
              "    }\n",
              "\n",
              "    .dataframe tbody tr th {\n",
              "        vertical-align: top;\n",
              "    }\n",
              "\n",
              "    .dataframe thead th {\n",
              "        text-align: right;\n",
              "    }\n",
              "</style>\n",
              "<table border=\"1\" class=\"dataframe\">\n",
              "  <thead>\n",
              "    <tr style=\"text-align: right;\">\n",
              "      <th></th>\n",
              "      <th>title</th>\n",
              "      <th>link</th>\n",
              "      <th>link_alternative</th>\n",
              "      <th>link_icon</th>\n",
              "      <th>summary</th>\n",
              "      <th>beginposition</th>\n",
              "      <th>endposition</th>\n",
              "      <th>ingestiondate</th>\n",
              "      <th>orbitnumber</th>\n",
              "      <th>relativeorbitnumber</th>\n",
              "      <th>vegetationpercentage</th>\n",
              "      <th>notvegetatedpercentage</th>\n",
              "      <th>waterpercentage</th>\n",
              "      <th>unclassifiedpercentage</th>\n",
              "      <th>mediumprobacloudspercentage</th>\n",
              "      <th>highprobacloudspercentage</th>\n",
              "      <th>snowicepercentage</th>\n",
              "      <th>cloudcoverpercentage</th>\n",
              "      <th>level1cpdiidentifier</th>\n",
              "      <th>format</th>\n",
              "      <th>processingbaseline</th>\n",
              "      <th>platformname</th>\n",
              "      <th>filename</th>\n",
              "      <th>instrumentname</th>\n",
              "      <th>instrumentshortname</th>\n",
              "      <th>size</th>\n",
              "      <th>s2datatakeid</th>\n",
              "      <th>producttype</th>\n",
              "      <th>platformidentifier</th>\n",
              "      <th>orbitdirection</th>\n",
              "      <th>platformserialidentifier</th>\n",
              "      <th>processinglevel</th>\n",
              "      <th>identifier</th>\n",
              "      <th>uuid</th>\n",
              "      <th>geometry</th>\n",
              "    </tr>\n",
              "  </thead>\n",
              "  <tbody>\n",
              "    <tr>\n",
              "      <th>1b0ee27e-c51a-49d9-b2a4-78db128a49f9</th>\n",
              "      <td>S2B_MSIL2A_20181227T100419_N0211_R122_T33TTG_2...</td>\n",
              "      <td>https://scihub.copernicus.eu/dhus/odata/v1/Pro...</td>\n",
              "      <td>https://scihub.copernicus.eu/dhus/odata/v1/Pro...</td>\n",
              "      <td>https://scihub.copernicus.eu/dhus/odata/v1/Pro...</td>\n",
              "      <td>Date: 2018-12-27T10:04:19.024Z, Instrument: MS...</td>\n",
              "      <td>2018-12-27 10:04:19.024</td>\n",
              "      <td>2018-12-27 10:04:19.024</td>\n",
              "      <td>2018-12-27 21:34:04.656</td>\n",
              "      <td>9443</td>\n",
              "      <td>122</td>\n",
              "      <td>30.347139</td>\n",
              "      <td>7.822927</td>\n",
              "      <td>52.680665</td>\n",
              "      <td>3.583193</td>\n",
              "      <td>0.046367</td>\n",
              "      <td>0.034353</td>\n",
              "      <td>0.000289</td>\n",
              "      <td>0.087740</td>\n",
              "      <td>NaN</td>\n",
              "      <td>SAFE</td>\n",
              "      <td>02.11</td>\n",
              "      <td>Sentinel-2</td>\n",
              "      <td>S2B_MSIL2A_20181227T100419_N0211_R122_T33TTG_2...</td>\n",
              "      <td>Multi-Spectral Instrument</td>\n",
              "      <td>MSI</td>\n",
              "      <td>954.17 MB</td>\n",
              "      <td>GS2B_20181227T100419_009443_N02.11</td>\n",
              "      <td>S2MSI2A</td>\n",
              "      <td>2017-013A</td>\n",
              "      <td>DESCENDING</td>\n",
              "      <td>Sentinel-2B</td>\n",
              "      <td>Level-2A</td>\n",
              "      <td>S2B_MSIL2A_20181227T100419_N0211_R122_T33TTG_2...</td>\n",
              "      <td>1b0ee27e-c51a-49d9-b2a4-78db128a49f9</td>\n",
              "      <td>POLYGON ((11.35495 42.39470, 12.68759 42.42936...</td>\n",
              "    </tr>\n",
              "    <tr>\n",
              "      <th>17e9d4d2-6544-4472-ad96-642cb46fed38</th>\n",
              "      <td>S2A_MSIL2A_20190302T100021_N0211_R122_T33TTG_2...</td>\n",
              "      <td>https://scihub.copernicus.eu/dhus/odata/v1/Pro...</td>\n",
              "      <td>https://scihub.copernicus.eu/dhus/odata/v1/Pro...</td>\n",
              "      <td>https://scihub.copernicus.eu/dhus/odata/v1/Pro...</td>\n",
              "      <td>Date: 2019-03-02T10:00:21.024Z, Instrument: MS...</td>\n",
              "      <td>2019-03-02 10:00:21.024</td>\n",
              "      <td>2019-03-02 10:00:21.024</td>\n",
              "      <td>2019-03-05 02:50:28.306</td>\n",
              "      <td>19281</td>\n",
              "      <td>122</td>\n",
              "      <td>30.096206</td>\n",
              "      <td>14.500791</td>\n",
              "      <td>52.628636</td>\n",
              "      <td>1.599719</td>\n",
              "      <td>0.048533</td>\n",
              "      <td>0.038872</td>\n",
              "      <td>0.000176</td>\n",
              "      <td>0.088842</td>\n",
              "      <td>NaN</td>\n",
              "      <td>SAFE</td>\n",
              "      <td>02.11</td>\n",
              "      <td>Sentinel-2</td>\n",
              "      <td>S2A_MSIL2A_20190302T100021_N0211_R122_T33TTG_2...</td>\n",
              "      <td>Multi-Spectral Instrument</td>\n",
              "      <td>MSI</td>\n",
              "      <td>960.86 MB</td>\n",
              "      <td>GS2A_20190302T100021_019281_N02.11</td>\n",
              "      <td>S2MSI2A</td>\n",
              "      <td>2015-028A</td>\n",
              "      <td>DESCENDING</td>\n",
              "      <td>Sentinel-2A</td>\n",
              "      <td>Level-2A</td>\n",
              "      <td>S2A_MSIL2A_20190302T100021_N0211_R122_T33TTG_2...</td>\n",
              "      <td>17e9d4d2-6544-4472-ad96-642cb46fed38</td>\n",
              "      <td>POLYGON ((11.35495 42.39470, 12.68759 42.42936...</td>\n",
              "    </tr>\n",
              "    <tr>\n",
              "      <th>34a2c40b-a234-479e-8456-5d852c74f1e9</th>\n",
              "      <td>S2A_MSIL2A_20200215T100111_N0214_R122_T33TTG_2...</td>\n",
              "      <td>https://scihub.copernicus.eu/dhus/odata/v1/Pro...</td>\n",
              "      <td>https://scihub.copernicus.eu/dhus/odata/v1/Pro...</td>\n",
              "      <td>https://scihub.copernicus.eu/dhus/odata/v1/Pro...</td>\n",
              "      <td>Date: 2020-02-15T10:01:11.024Z, Instrument: MS...</td>\n",
              "      <td>2020-02-15 10:01:11.024</td>\n",
              "      <td>2020-02-15 10:01:11.024</td>\n",
              "      <td>2020-02-15 17:50:40.654</td>\n",
              "      <td>24286</td>\n",
              "      <td>122</td>\n",
              "      <td>33.264631</td>\n",
              "      <td>10.639039</td>\n",
              "      <td>52.641213</td>\n",
              "      <td>1.507337</td>\n",
              "      <td>0.037750</td>\n",
              "      <td>0.041911</td>\n",
              "      <td>0.000073</td>\n",
              "      <td>0.089247</td>\n",
              "      <td>S2A_OPER_MSI_L1C_TL_SGS__20200215T120525_A0242...</td>\n",
              "      <td>SAFE</td>\n",
              "      <td>02.14</td>\n",
              "      <td>Sentinel-2</td>\n",
              "      <td>S2A_MSIL2A_20200215T100111_N0214_R122_T33TTG_2...</td>\n",
              "      <td>Multi-Spectral Instrument</td>\n",
              "      <td>MSI</td>\n",
              "      <td>927.22 MB</td>\n",
              "      <td>GS2A_20200215T100111_024286_N02.14</td>\n",
              "      <td>S2MSI2A</td>\n",
              "      <td>2015-028A</td>\n",
              "      <td>DESCENDING</td>\n",
              "      <td>Sentinel-2A</td>\n",
              "      <td>Level-2A</td>\n",
              "      <td>S2A_MSIL2A_20200215T100111_N0214_R122_T33TTG_2...</td>\n",
              "      <td>34a2c40b-a234-479e-8456-5d852c74f1e9</td>\n",
              "      <td>MULTIPOLYGON (((11.41073 41.40773, 12.72303 41...</td>\n",
              "    </tr>\n",
              "    <tr>\n",
              "      <th>1ab5dd20-4845-4325-bd71-5d0596f4d11d</th>\n",
              "      <td>S2B_MSIL2A_20181227T100419_N0211_R122_T32TQM_2...</td>\n",
              "      <td>https://scihub.copernicus.eu/dhus/odata/v1/Pro...</td>\n",
              "      <td>https://scihub.copernicus.eu/dhus/odata/v1/Pro...</td>\n",
              "      <td>https://scihub.copernicus.eu/dhus/odata/v1/Pro...</td>\n",
              "      <td>Date: 2018-12-27T10:04:19.024Z, Instrument: MS...</td>\n",
              "      <td>2018-12-27 10:04:19.024</td>\n",
              "      <td>2018-12-27 10:04:19.024</td>\n",
              "      <td>2018-12-27 21:29:15.691</td>\n",
              "      <td>9443</td>\n",
              "      <td>122</td>\n",
              "      <td>31.600326</td>\n",
              "      <td>8.069665</td>\n",
              "      <td>50.863224</td>\n",
              "      <td>3.688292</td>\n",
              "      <td>0.047326</td>\n",
              "      <td>0.035282</td>\n",
              "      <td>0.000302</td>\n",
              "      <td>0.089996</td>\n",
              "      <td>NaN</td>\n",
              "      <td>SAFE</td>\n",
              "      <td>02.11</td>\n",
              "      <td>Sentinel-2</td>\n",
              "      <td>S2B_MSIL2A_20181227T100419_N0211_R122_T32TQM_2...</td>\n",
              "      <td>Multi-Spectral Instrument</td>\n",
              "      <td>MSI</td>\n",
              "      <td>961.16 MB</td>\n",
              "      <td>GS2B_20181227T100419_009443_N02.11</td>\n",
              "      <td>S2MSI2A</td>\n",
              "      <td>2017-013A</td>\n",
              "      <td>DESCENDING</td>\n",
              "      <td>Sentinel-2B</td>\n",
              "      <td>Level-2A</td>\n",
              "      <td>S2B_MSIL2A_20181227T100419_N0211_R122_T32TQM_2...</td>\n",
              "      <td>1ab5dd20-4845-4325-bd71-5d0596f4d11d</td>\n",
              "      <td>POLYGON ((11.43071 42.42691, 12.76314 42.39088...</td>\n",
              "    </tr>\n",
              "    <tr>\n",
              "      <th>2d7c6756-2d78-4622-ad5d-84a4b04807ac</th>\n",
              "      <td>S2A_MSIL2A_20190302T100021_N0211_R122_T32TQM_2...</td>\n",
              "      <td>https://scihub.copernicus.eu/dhus/odata/v1/Pro...</td>\n",
              "      <td>https://scihub.copernicus.eu/dhus/odata/v1/Pro...</td>\n",
              "      <td>https://scihub.copernicus.eu/dhus/odata/v1/Pro...</td>\n",
              "      <td>Date: 2019-03-02T10:00:21.024Z, Instrument: MS...</td>\n",
              "      <td>2019-03-02 10:00:21.024</td>\n",
              "      <td>2019-03-02 10:00:21.024</td>\n",
              "      <td>2019-03-05 02:43:17.615</td>\n",
              "      <td>19281</td>\n",
              "      <td>122</td>\n",
              "      <td>31.220224</td>\n",
              "      <td>15.048106</td>\n",
              "      <td>50.808054</td>\n",
              "      <td>1.663787</td>\n",
              "      <td>0.048882</td>\n",
              "      <td>0.040219</td>\n",
              "      <td>0.000133</td>\n",
              "      <td>0.090723</td>\n",
              "      <td>NaN</td>\n",
              "      <td>SAFE</td>\n",
              "      <td>02.11</td>\n",
              "      <td>Sentinel-2</td>\n",
              "      <td>S2A_MSIL2A_20190302T100021_N0211_R122_T32TQM_2...</td>\n",
              "      <td>Multi-Spectral Instrument</td>\n",
              "      <td>MSI</td>\n",
              "      <td>967.42 MB</td>\n",
              "      <td>GS2A_20190302T100021_019281_N02.11</td>\n",
              "      <td>S2MSI2A</td>\n",
              "      <td>2015-028A</td>\n",
              "      <td>DESCENDING</td>\n",
              "      <td>Sentinel-2A</td>\n",
              "      <td>Level-2A</td>\n",
              "      <td>S2A_MSIL2A_20190302T100021_N0211_R122_T32TQM_2...</td>\n",
              "      <td>2d7c6756-2d78-4622-ad5d-84a4b04807ac</td>\n",
              "      <td>POLYGON ((11.43071 42.42691, 12.76314 42.39088...</td>\n",
              "    </tr>\n",
              "    <tr>\n",
              "      <th>...</th>\n",
              "      <td>...</td>\n",
              "      <td>...</td>\n",
              "      <td>...</td>\n",
              "      <td>...</td>\n",
              "      <td>...</td>\n",
              "      <td>...</td>\n",
              "      <td>...</td>\n",
              "      <td>...</td>\n",
              "      <td>...</td>\n",
              "      <td>...</td>\n",
              "      <td>...</td>\n",
              "      <td>...</td>\n",
              "      <td>...</td>\n",
              "      <td>...</td>\n",
              "      <td>...</td>\n",
              "      <td>...</td>\n",
              "      <td>...</td>\n",
              "      <td>...</td>\n",
              "      <td>...</td>\n",
              "      <td>...</td>\n",
              "      <td>...</td>\n",
              "      <td>...</td>\n",
              "      <td>...</td>\n",
              "      <td>...</td>\n",
              "      <td>...</td>\n",
              "      <td>...</td>\n",
              "      <td>...</td>\n",
              "      <td>...</td>\n",
              "      <td>...</td>\n",
              "      <td>...</td>\n",
              "      <td>...</td>\n",
              "      <td>...</td>\n",
              "      <td>...</td>\n",
              "      <td>...</td>\n",
              "      <td>...</td>\n",
              "    </tr>\n",
              "    <tr>\n",
              "      <th>01892833-11f8-4345-b988-c3a120cc33dd</th>\n",
              "      <td>S2B_MSIL2A_20180710T100029_N0208_R122_T33TTG_2...</td>\n",
              "      <td>https://scihub.copernicus.eu/dhus/odata/v1/Pro...</td>\n",
              "      <td>https://scihub.copernicus.eu/dhus/odata/v1/Pro...</td>\n",
              "      <td>https://scihub.copernicus.eu/dhus/odata/v1/Pro...</td>\n",
              "      <td>Date: 2018-07-10T10:00:29.024Z, Instrument: MS...</td>\n",
              "      <td>2018-07-10 10:00:29.024</td>\n",
              "      <td>2018-07-10 10:00:29.024</td>\n",
              "      <td>2018-07-10 17:14:39.346</td>\n",
              "      <td>7012</td>\n",
              "      <td>122</td>\n",
              "      <td>25.873551</td>\n",
              "      <td>18.446562</td>\n",
              "      <td>42.385599</td>\n",
              "      <td>0.886540</td>\n",
              "      <td>5.038460</td>\n",
              "      <td>1.003557</td>\n",
              "      <td>0.000106</td>\n",
              "      <td>9.524385</td>\n",
              "      <td>NaN</td>\n",
              "      <td>SAFE</td>\n",
              "      <td>02.08</td>\n",
              "      <td>Sentinel-2</td>\n",
              "      <td>S2B_MSIL2A_20180710T100029_N0208_R122_T33TTG_2...</td>\n",
              "      <td>Multi-Spectral Instrument</td>\n",
              "      <td>MSI</td>\n",
              "      <td>960.46 MB</td>\n",
              "      <td>GS2B_20180710T100029_007012_N02.08</td>\n",
              "      <td>S2MSI2A</td>\n",
              "      <td>2017-013A</td>\n",
              "      <td>DESCENDING</td>\n",
              "      <td>Sentinel-2B</td>\n",
              "      <td>Level-2A</td>\n",
              "      <td>S2B_MSIL2A_20180710T100029_N0208_R122_T33TTG_2...</td>\n",
              "      <td>01892833-11f8-4345-b988-c3a120cc33dd</td>\n",
              "      <td>POLYGON ((11.35495 42.39470, 12.68759 42.42936...</td>\n",
              "    </tr>\n",
              "    <tr>\n",
              "      <th>6fc240bf-486b-4220-a2e9-23f477255104</th>\n",
              "      <td>S2B_MSIL2A_20181018T100029_N0209_R122_T32TQM_2...</td>\n",
              "      <td>https://scihub.copernicus.eu/dhus/odata/v1/Pro...</td>\n",
              "      <td>https://scihub.copernicus.eu/dhus/odata/v1/Pro...</td>\n",
              "      <td>https://scihub.copernicus.eu/dhus/odata/v1/Pro...</td>\n",
              "      <td>Date: 2018-10-18T10:00:29.024Z, Instrument: MS...</td>\n",
              "      <td>2018-10-18 10:00:29.024</td>\n",
              "      <td>2018-10-18 10:00:29.024</td>\n",
              "      <td>2018-10-18 18:56:48.012</td>\n",
              "      <td>8442</td>\n",
              "      <td>122</td>\n",
              "      <td>33.869332</td>\n",
              "      <td>12.275590</td>\n",
              "      <td>42.368385</td>\n",
              "      <td>0.979356</td>\n",
              "      <td>0.058845</td>\n",
              "      <td>0.178835</td>\n",
              "      <td>0.000342</td>\n",
              "      <td>9.526352</td>\n",
              "      <td>NaN</td>\n",
              "      <td>SAFE</td>\n",
              "      <td>02.09</td>\n",
              "      <td>Sentinel-2</td>\n",
              "      <td>S2B_MSIL2A_20181018T100029_N0209_R122_T32TQM_2...</td>\n",
              "      <td>Multi-Spectral Instrument</td>\n",
              "      <td>MSI</td>\n",
              "      <td>955.84 MB</td>\n",
              "      <td>GS2B_20181018T100029_008442_N02.09</td>\n",
              "      <td>S2MSI2A</td>\n",
              "      <td>2017-013A</td>\n",
              "      <td>DESCENDING</td>\n",
              "      <td>Sentinel-2B</td>\n",
              "      <td>Level-2A</td>\n",
              "      <td>S2B_MSIL2A_20181018T100029_N0209_R122_T32TQM_2...</td>\n",
              "      <td>6fc240bf-486b-4220-a2e9-23f477255104</td>\n",
              "      <td>POLYGON ((11.43071 42.42691, 12.76314 42.39088...</td>\n",
              "    </tr>\n",
              "    <tr>\n",
              "      <th>4204b010-2754-4344-b8b7-a8bf61094cf9</th>\n",
              "      <td>S2A_MSIL2A_20200205T100211_N0214_R122_T33TTG_2...</td>\n",
              "      <td>https://scihub.copernicus.eu/dhus/odata/v1/Pro...</td>\n",
              "      <td>https://scihub.copernicus.eu/dhus/odata/v1/Pro...</td>\n",
              "      <td>https://scihub.copernicus.eu/dhus/odata/v1/Pro...</td>\n",
              "      <td>Date: 2020-02-05T10:02:11.024Z, Instrument: MS...</td>\n",
              "      <td>2020-02-05 10:02:11.024</td>\n",
              "      <td>2020-02-05 10:02:11.024</td>\n",
              "      <td>2020-02-05 17:36:20.416</td>\n",
              "      <td>24143</td>\n",
              "      <td>122</td>\n",
              "      <td>29.544160</td>\n",
              "      <td>8.626833</td>\n",
              "      <td>47.153327</td>\n",
              "      <td>2.029748</td>\n",
              "      <td>1.547885</td>\n",
              "      <td>0.637523</td>\n",
              "      <td>0.001894</td>\n",
              "      <td>9.584762</td>\n",
              "      <td>S2A_OPER_MSI_L1C_TL_MTI__20200205T104343_A0241...</td>\n",
              "      <td>SAFE</td>\n",
              "      <td>02.14</td>\n",
              "      <td>Sentinel-2</td>\n",
              "      <td>S2A_MSIL2A_20200205T100211_N0214_R122_T33TTG_2...</td>\n",
              "      <td>Multi-Spectral Instrument</td>\n",
              "      <td>MSI</td>\n",
              "      <td>1006.31 MB</td>\n",
              "      <td>GS2A_20200205T100211_024143_N02.14</td>\n",
              "      <td>S2MSI2A</td>\n",
              "      <td>2015-028A</td>\n",
              "      <td>DESCENDING</td>\n",
              "      <td>Sentinel-2A</td>\n",
              "      <td>Level-2A</td>\n",
              "      <td>S2A_MSIL2A_20200205T100211_N0214_R122_T33TTG_2...</td>\n",
              "      <td>4204b010-2754-4344-b8b7-a8bf61094cf9</td>\n",
              "      <td>MULTIPOLYGON (((11.41073 41.40773, 12.72303 41...</td>\n",
              "    </tr>\n",
              "    <tr>\n",
              "      <th>0e460f85-0489-4ea3-8672-9843e13e22f9</th>\n",
              "      <td>S2B_MSIL2A_20181018T100029_N0209_R122_T33TTG_2...</td>\n",
              "      <td>https://scihub.copernicus.eu/dhus/odata/v1/Pro...</td>\n",
              "      <td>https://scihub.copernicus.eu/dhus/odata/v1/Pro...</td>\n",
              "      <td>https://scihub.copernicus.eu/dhus/odata/v1/Pro...</td>\n",
              "      <td>Date: 2018-10-18T10:00:29.024Z, Instrument: MS...</td>\n",
              "      <td>2018-10-18 10:00:29.024</td>\n",
              "      <td>2018-10-18 10:00:29.024</td>\n",
              "      <td>2018-10-18 18:40:48.620</td>\n",
              "      <td>8442</td>\n",
              "      <td>122</td>\n",
              "      <td>32.600501</td>\n",
              "      <td>11.959556</td>\n",
              "      <td>43.941930</td>\n",
              "      <td>0.937326</td>\n",
              "      <td>0.037083</td>\n",
              "      <td>0.080783</td>\n",
              "      <td>0.000156</td>\n",
              "      <td>9.658054</td>\n",
              "      <td>NaN</td>\n",
              "      <td>SAFE</td>\n",
              "      <td>02.09</td>\n",
              "      <td>Sentinel-2</td>\n",
              "      <td>S2B_MSIL2A_20181018T100029_N0209_R122_T33TTG_2...</td>\n",
              "      <td>Multi-Spectral Instrument</td>\n",
              "      <td>MSI</td>\n",
              "      <td>946.83 MB</td>\n",
              "      <td>GS2B_20181018T100029_008442_N02.09</td>\n",
              "      <td>S2MSI2A</td>\n",
              "      <td>2017-013A</td>\n",
              "      <td>DESCENDING</td>\n",
              "      <td>Sentinel-2B</td>\n",
              "      <td>Level-2A</td>\n",
              "      <td>S2B_MSIL2A_20181018T100029_N0209_R122_T33TTG_2...</td>\n",
              "      <td>0e460f85-0489-4ea3-8672-9843e13e22f9</td>\n",
              "      <td>POLYGON ((11.35495 42.39470, 12.68759 42.42936...</td>\n",
              "    </tr>\n",
              "    <tr>\n",
              "      <th>d94b7a9b-4522-47f7-b43d-0d8aa25c8c17</th>\n",
              "      <td>S2B_MSIL2A_20190106T100409_N0211_R122_T33TTG_2...</td>\n",
              "      <td>https://scihub.copernicus.eu/dhus/odata/v1/Pro...</td>\n",
              "      <td>https://scihub.copernicus.eu/dhus/odata/v1/Pro...</td>\n",
              "      <td>https://scihub.copernicus.eu/dhus/odata/v1/Pro...</td>\n",
              "      <td>Date: 2019-01-06T10:04:09.024Z, Instrument: MS...</td>\n",
              "      <td>2019-01-06 10:04:09.024</td>\n",
              "      <td>2019-01-06 10:04:09.024</td>\n",
              "      <td>2019-01-06 20:50:35.094</td>\n",
              "      <td>9586</td>\n",
              "      <td>122</td>\n",
              "      <td>27.942646</td>\n",
              "      <td>10.178067</td>\n",
              "      <td>42.819798</td>\n",
              "      <td>3.898180</td>\n",
              "      <td>2.246775</td>\n",
              "      <td>7.602355</td>\n",
              "      <td>0.000109</td>\n",
              "      <td>9.913054</td>\n",
              "      <td>NaN</td>\n",
              "      <td>SAFE</td>\n",
              "      <td>02.11</td>\n",
              "      <td>Sentinel-2</td>\n",
              "      <td>S2B_MSIL2A_20190106T100409_N0211_R122_T33TTG_2...</td>\n",
              "      <td>Multi-Spectral Instrument</td>\n",
              "      <td>MSI</td>\n",
              "      <td>1.00 GB</td>\n",
              "      <td>GS2B_20190106T100409_009586_N02.11</td>\n",
              "      <td>S2MSI2A</td>\n",
              "      <td>2017-013A</td>\n",
              "      <td>DESCENDING</td>\n",
              "      <td>Sentinel-2B</td>\n",
              "      <td>Level-2A</td>\n",
              "      <td>S2B_MSIL2A_20190106T100409_N0211_R122_T33TTG_2...</td>\n",
              "      <td>d94b7a9b-4522-47f7-b43d-0d8aa25c8c17</td>\n",
              "      <td>POLYGON ((11.35495 42.39470, 12.68759 42.42936...</td>\n",
              "    </tr>\n",
              "  </tbody>\n",
              "</table>\n",
              "<p>145 rows × 35 columns</p>\n",
              "</div>"
            ],
            "text/plain": [
              "                                                                                  title  ...                                           geometry\n",
              "1b0ee27e-c51a-49d9-b2a4-78db128a49f9  S2B_MSIL2A_20181227T100419_N0211_R122_T33TTG_2...  ...  POLYGON ((11.35495 42.39470, 12.68759 42.42936...\n",
              "17e9d4d2-6544-4472-ad96-642cb46fed38  S2A_MSIL2A_20190302T100021_N0211_R122_T33TTG_2...  ...  POLYGON ((11.35495 42.39470, 12.68759 42.42936...\n",
              "34a2c40b-a234-479e-8456-5d852c74f1e9  S2A_MSIL2A_20200215T100111_N0214_R122_T33TTG_2...  ...  MULTIPOLYGON (((11.41073 41.40773, 12.72303 41...\n",
              "1ab5dd20-4845-4325-bd71-5d0596f4d11d  S2B_MSIL2A_20181227T100419_N0211_R122_T32TQM_2...  ...  POLYGON ((11.43071 42.42691, 12.76314 42.39088...\n",
              "2d7c6756-2d78-4622-ad5d-84a4b04807ac  S2A_MSIL2A_20190302T100021_N0211_R122_T32TQM_2...  ...  POLYGON ((11.43071 42.42691, 12.76314 42.39088...\n",
              "...                                                                                 ...  ...                                                ...\n",
              "01892833-11f8-4345-b988-c3a120cc33dd  S2B_MSIL2A_20180710T100029_N0208_R122_T33TTG_2...  ...  POLYGON ((11.35495 42.39470, 12.68759 42.42936...\n",
              "6fc240bf-486b-4220-a2e9-23f477255104  S2B_MSIL2A_20181018T100029_N0209_R122_T32TQM_2...  ...  POLYGON ((11.43071 42.42691, 12.76314 42.39088...\n",
              "4204b010-2754-4344-b8b7-a8bf61094cf9  S2A_MSIL2A_20200205T100211_N0214_R122_T33TTG_2...  ...  MULTIPOLYGON (((11.41073 41.40773, 12.72303 41...\n",
              "0e460f85-0489-4ea3-8672-9843e13e22f9  S2B_MSIL2A_20181018T100029_N0209_R122_T33TTG_2...  ...  POLYGON ((11.35495 42.39470, 12.68759 42.42936...\n",
              "d94b7a9b-4522-47f7-b43d-0d8aa25c8c17  S2B_MSIL2A_20190106T100409_N0211_R122_T33TTG_2...  ...  POLYGON ((11.35495 42.39470, 12.68759 42.42936...\n",
              "\n",
              "[145 rows x 35 columns]"
            ]
          },
          "metadata": {
            "tags": []
          },
          "execution_count": 27
        }
      ]
    },
    {
      "cell_type": "code",
      "metadata": {
        "id": "tVoso1Its6aj",
        "colab_type": "code",
        "colab": {
          "base_uri": "https://localhost:8080/",
          "height": 459
        },
        "outputId": "009ce8f3-cbd6-473a-eba3-1c1cd53fe746"
      },
      "source": [
        "#download a image:\n",
        "\n",
        "api.download_all(\"1b0ee27e-c51a-49d9-b2a4-78db128a49f9\")"
      ],
      "execution_count": 38,
      "outputs": [
        {
          "output_type": "stream",
          "text": [
            "\n",
            "Downloading:  73%|███████▎  | 722M/984M [01:16<00:32, 8.05MB/s]\u001b[A\n",
            "Downloading:  80%|████████  | 784M/975M [01:20<00:19, 9.69MB/s]"
          ],
          "name": "stderr"
        },
        {
          "output_type": "error",
          "ename": "SentinelAPIError",
          "evalue": "ignored",
          "traceback": [
            "\u001b[0;31m---------------------------------------------------------------------------\u001b[0m",
            "\u001b[0;31mSentinelAPIError\u001b[0m                          Traceback (most recent call last)",
            "\u001b[0;32m<ipython-input-38-f7ce23ed29d3>\u001b[0m in \u001b[0;36m<module>\u001b[0;34m()\u001b[0m\n\u001b[1;32m      1\u001b[0m \u001b[0;31m#download a image:\u001b[0m\u001b[0;34m\u001b[0m\u001b[0;34m\u001b[0m\u001b[0;34m\u001b[0m\u001b[0m\n\u001b[1;32m      2\u001b[0m \u001b[0;34m\u001b[0m\u001b[0m\n\u001b[0;32m----> 3\u001b[0;31m \u001b[0mapi\u001b[0m\u001b[0;34m.\u001b[0m\u001b[0mdownload_all\u001b[0m\u001b[0;34m(\u001b[0m\u001b[0;34m\"1b0ee27e-c51a-49d9-b2a4-78db128a49f9\"\u001b[0m\u001b[0;34m)\u001b[0m\u001b[0;34m\u001b[0m\u001b[0;34m\u001b[0m\u001b[0m\n\u001b[0m",
            "\u001b[0;32m/usr/local/lib/python3.6/dist-packages/sentinelsat/sentinel.py\u001b[0m in \u001b[0;36mdownload_all\u001b[0;34m(self, products, directory_path, max_attempts, checksum, n_concurrent_dl, lta_retry_delay)\u001b[0m\n\u001b[1;32m    730\u001b[0m         )\n\u001b[1;32m    731\u001b[0m \u001b[0;34m\u001b[0m\u001b[0m\n\u001b[0;32m--> 732\u001b[0;31m         \u001b[0mproduct_infos\u001b[0m \u001b[0;34m=\u001b[0m \u001b[0;34m{\u001b[0m\u001b[0mpid\u001b[0m\u001b[0;34m:\u001b[0m \u001b[0mself\u001b[0m\u001b[0;34m.\u001b[0m\u001b[0mget_product_odata\u001b[0m\u001b[0;34m(\u001b[0m\u001b[0mpid\u001b[0m\u001b[0;34m)\u001b[0m \u001b[0;32mfor\u001b[0m \u001b[0mpid\u001b[0m \u001b[0;32min\u001b[0m \u001b[0mproduct_ids\u001b[0m\u001b[0;34m}\u001b[0m\u001b[0;34m\u001b[0m\u001b[0;34m\u001b[0m\u001b[0m\n\u001b[0m\u001b[1;32m    733\u001b[0m         \u001b[0monline_prods\u001b[0m \u001b[0;34m=\u001b[0m \u001b[0;34m{\u001b[0m\u001b[0mpid\u001b[0m\u001b[0;34m:\u001b[0m \u001b[0minfo\u001b[0m \u001b[0;32mfor\u001b[0m \u001b[0mpid\u001b[0m\u001b[0;34m,\u001b[0m \u001b[0minfo\u001b[0m \u001b[0;32min\u001b[0m \u001b[0mproduct_infos\u001b[0m\u001b[0;34m.\u001b[0m\u001b[0mitems\u001b[0m\u001b[0;34m(\u001b[0m\u001b[0;34m)\u001b[0m \u001b[0;32mif\u001b[0m \u001b[0minfo\u001b[0m\u001b[0;34m[\u001b[0m\u001b[0;34m\"Online\"\u001b[0m\u001b[0;34m]\u001b[0m\u001b[0;34m}\u001b[0m\u001b[0;34m\u001b[0m\u001b[0;34m\u001b[0m\u001b[0m\n\u001b[1;32m    734\u001b[0m         \u001b[0moffline_prods\u001b[0m \u001b[0;34m=\u001b[0m \u001b[0;34m{\u001b[0m\u001b[0mpid\u001b[0m\u001b[0;34m:\u001b[0m \u001b[0minfo\u001b[0m \u001b[0;32mfor\u001b[0m \u001b[0mpid\u001b[0m\u001b[0;34m,\u001b[0m \u001b[0minfo\u001b[0m \u001b[0;32min\u001b[0m \u001b[0mproduct_infos\u001b[0m\u001b[0;34m.\u001b[0m\u001b[0mitems\u001b[0m\u001b[0;34m(\u001b[0m\u001b[0;34m)\u001b[0m \u001b[0;32mif\u001b[0m \u001b[0;32mnot\u001b[0m \u001b[0minfo\u001b[0m\u001b[0;34m[\u001b[0m\u001b[0;34m\"Online\"\u001b[0m\u001b[0;34m]\u001b[0m\u001b[0;34m}\u001b[0m\u001b[0;34m\u001b[0m\u001b[0;34m\u001b[0m\u001b[0m\n",
            "\u001b[0;32m/usr/local/lib/python3.6/dist-packages/sentinelsat/sentinel.py\u001b[0m in \u001b[0;36m<dictcomp>\u001b[0;34m(.0)\u001b[0m\n\u001b[1;32m    730\u001b[0m         )\n\u001b[1;32m    731\u001b[0m \u001b[0;34m\u001b[0m\u001b[0m\n\u001b[0;32m--> 732\u001b[0;31m         \u001b[0mproduct_infos\u001b[0m \u001b[0;34m=\u001b[0m \u001b[0;34m{\u001b[0m\u001b[0mpid\u001b[0m\u001b[0;34m:\u001b[0m \u001b[0mself\u001b[0m\u001b[0;34m.\u001b[0m\u001b[0mget_product_odata\u001b[0m\u001b[0;34m(\u001b[0m\u001b[0mpid\u001b[0m\u001b[0;34m)\u001b[0m \u001b[0;32mfor\u001b[0m \u001b[0mpid\u001b[0m \u001b[0;32min\u001b[0m \u001b[0mproduct_ids\u001b[0m\u001b[0;34m}\u001b[0m\u001b[0;34m\u001b[0m\u001b[0;34m\u001b[0m\u001b[0m\n\u001b[0m\u001b[1;32m    733\u001b[0m         \u001b[0monline_prods\u001b[0m \u001b[0;34m=\u001b[0m \u001b[0;34m{\u001b[0m\u001b[0mpid\u001b[0m\u001b[0;34m:\u001b[0m \u001b[0minfo\u001b[0m \u001b[0;32mfor\u001b[0m \u001b[0mpid\u001b[0m\u001b[0;34m,\u001b[0m \u001b[0minfo\u001b[0m \u001b[0;32min\u001b[0m \u001b[0mproduct_infos\u001b[0m\u001b[0;34m.\u001b[0m\u001b[0mitems\u001b[0m\u001b[0;34m(\u001b[0m\u001b[0;34m)\u001b[0m \u001b[0;32mif\u001b[0m \u001b[0minfo\u001b[0m\u001b[0;34m[\u001b[0m\u001b[0;34m\"Online\"\u001b[0m\u001b[0;34m]\u001b[0m\u001b[0;34m}\u001b[0m\u001b[0;34m\u001b[0m\u001b[0;34m\u001b[0m\u001b[0m\n\u001b[1;32m    734\u001b[0m         \u001b[0moffline_prods\u001b[0m \u001b[0;34m=\u001b[0m \u001b[0;34m{\u001b[0m\u001b[0mpid\u001b[0m\u001b[0;34m:\u001b[0m \u001b[0minfo\u001b[0m \u001b[0;32mfor\u001b[0m \u001b[0mpid\u001b[0m\u001b[0;34m,\u001b[0m \u001b[0minfo\u001b[0m \u001b[0;32min\u001b[0m \u001b[0mproduct_infos\u001b[0m\u001b[0;34m.\u001b[0m\u001b[0mitems\u001b[0m\u001b[0;34m(\u001b[0m\u001b[0;34m)\u001b[0m \u001b[0;32mif\u001b[0m \u001b[0;32mnot\u001b[0m \u001b[0minfo\u001b[0m\u001b[0;34m[\u001b[0m\u001b[0;34m\"Online\"\u001b[0m\u001b[0;34m]\u001b[0m\u001b[0;34m}\u001b[0m\u001b[0;34m\u001b[0m\u001b[0;34m\u001b[0m\u001b[0m\n",
            "\u001b[0;32m/usr/local/lib/python3.6/dist-packages/sentinelsat/sentinel.py\u001b[0m in \u001b[0;36mget_product_odata\u001b[0;34m(self, id, full)\u001b[0m\n\u001b[1;32m    508\u001b[0m             \u001b[0murl\u001b[0m \u001b[0;34m+=\u001b[0m \u001b[0;34m\"&$expand=Attributes\"\u001b[0m\u001b[0;34m\u001b[0m\u001b[0;34m\u001b[0m\u001b[0m\n\u001b[1;32m    509\u001b[0m         \u001b[0mresponse\u001b[0m \u001b[0;34m=\u001b[0m \u001b[0mself\u001b[0m\u001b[0;34m.\u001b[0m\u001b[0msession\u001b[0m\u001b[0;34m.\u001b[0m\u001b[0mget\u001b[0m\u001b[0;34m(\u001b[0m\u001b[0murl\u001b[0m\u001b[0;34m,\u001b[0m \u001b[0mauth\u001b[0m\u001b[0;34m=\u001b[0m\u001b[0mself\u001b[0m\u001b[0;34m.\u001b[0m\u001b[0msession\u001b[0m\u001b[0;34m.\u001b[0m\u001b[0mauth\u001b[0m\u001b[0;34m,\u001b[0m \u001b[0mtimeout\u001b[0m\u001b[0;34m=\u001b[0m\u001b[0mself\u001b[0m\u001b[0;34m.\u001b[0m\u001b[0mtimeout\u001b[0m\u001b[0;34m)\u001b[0m\u001b[0;34m\u001b[0m\u001b[0;34m\u001b[0m\u001b[0m\n\u001b[0;32m--> 510\u001b[0;31m         \u001b[0m_check_scihub_response\u001b[0m\u001b[0;34m(\u001b[0m\u001b[0mresponse\u001b[0m\u001b[0;34m)\u001b[0m\u001b[0;34m\u001b[0m\u001b[0;34m\u001b[0m\u001b[0m\n\u001b[0m\u001b[1;32m    511\u001b[0m         \u001b[0mvalues\u001b[0m \u001b[0;34m=\u001b[0m \u001b[0m_parse_odata_response\u001b[0m\u001b[0;34m(\u001b[0m\u001b[0mresponse\u001b[0m\u001b[0;34m.\u001b[0m\u001b[0mjson\u001b[0m\u001b[0;34m(\u001b[0m\u001b[0;34m)\u001b[0m\u001b[0;34m[\u001b[0m\u001b[0;34m\"d\"\u001b[0m\u001b[0;34m]\u001b[0m\u001b[0;34m)\u001b[0m\u001b[0;34m\u001b[0m\u001b[0;34m\u001b[0m\u001b[0m\n\u001b[1;32m    512\u001b[0m         \u001b[0;32mreturn\u001b[0m \u001b[0mvalues\u001b[0m\u001b[0;34m\u001b[0m\u001b[0;34m\u001b[0m\u001b[0m\n",
            "\u001b[0;32m/usr/local/lib/python3.6/dist-packages/sentinelsat/sentinel.py\u001b[0m in \u001b[0;36m_check_scihub_response\u001b[0;34m(response, test_json)\u001b[0m\n\u001b[1;32m   1318\u001b[0m         \u001b[0;31m# See PEP 409\u001b[0m\u001b[0;34m\u001b[0m\u001b[0;34m\u001b[0m\u001b[0;34m\u001b[0m\u001b[0m\n\u001b[1;32m   1319\u001b[0m         \u001b[0mapi_error\u001b[0m\u001b[0;34m.\u001b[0m\u001b[0m__cause__\u001b[0m \u001b[0;34m=\u001b[0m \u001b[0;32mNone\u001b[0m\u001b[0;34m\u001b[0m\u001b[0;34m\u001b[0m\u001b[0m\n\u001b[0;32m-> 1320\u001b[0;31m         \u001b[0;32mraise\u001b[0m \u001b[0mapi_error\u001b[0m\u001b[0;34m\u001b[0m\u001b[0;34m\u001b[0m\u001b[0m\n\u001b[0m\u001b[1;32m   1321\u001b[0m \u001b[0;34m\u001b[0m\u001b[0m\n\u001b[1;32m   1322\u001b[0m \u001b[0;34m\u001b[0m\u001b[0m\n",
            "\u001b[0;31mSentinelAPIError\u001b[0m: HTTP status 404 Not Found: InvalidKeyException : Invalid key (1) to access Products"
          ]
        },
        {
          "output_type": "stream",
          "text": [
            "Downloading:  81%|████████  | 786M/975M [01:20<00:16, 11.2MB/s]\n",
            "Downloading:  81%|████████  | 789M/975M [01:20<00:17, 10.9MB/s]\n",
            "Downloading:  74%|███████▍  | 729M/984M [01:17<00:32, 7.85MB/s]\u001b[A"
          ],
          "name": "stderr"
        }
      ]
    },
    {
      "cell_type": "code",
      "metadata": {
        "id": "Od4PZTMNtNX7",
        "colab_type": "code",
        "colab": {
          "base_uri": "https://localhost:8080/",
          "height": 1000
        },
        "outputId": "608b7b4c-58e1-43d9-8dbb-bfa6a1fc3a9b"
      },
      "source": [
        "!unzip /content/S2A_MSIL2A_20200215T100111_N0214_R122_T33TTG_20200215T125505.zip"
      ],
      "execution_count": 39,
      "outputs": [
        {
          "output_type": "stream",
          "text": [
            "\n",
            "Downloading:  15%|█▌        | 147M/974M [00:16<02:04, 6.63MB/s]\n",
            "Downloading:  15%|█▌        | 150M/974M [00:16<01:41, 8.12MB/s]\n",
            "Downloading:  16%|█▌        | 154M/974M [00:17<01:20, 10.1MB/s]\n",
            "Downloading:  16%|█▌        | 156M/974M [00:17<01:22, 9.90MB/s]\n",
            "Downloading:  16%|█▋        | 160M/974M [00:17<01:11, 11.4MB/s]\n",
            "Downloading:  17%|█▋        | 163M/974M [00:17<01:15, 10.7MB/s]\n",
            "Downloading:  17%|█▋        | 167M/974M [00:18<01:09, 11.7MB/s]\n",
            "Downloading:  17%|█▋        | 169M/974M [00:18<01:13, 10.9MB/s]\n",
            "Downloading:  18%|█▊        | 171M/974M [00:18<01:09, 11.5MB/s]"
          ],
          "name": "stderr"
        },
        {
          "output_type": "stream",
          "text": [
            "Archive:  /content/S2A_MSIL2A_20200215T100111_N0214_R122_T33TTG_20200215T125505.zip\n",
            "   creating: S2A_MSIL2A_20200215T100111_N0214_R122_T33TTG_20200215T125505.SAFE/\n",
            " extracting: S2A_MSIL2A_20200215T100111_N0214_R122_T33TTG_20200215T125505.SAFE/INSPIRE.xml  \n",
            "   creating: S2A_MSIL2A_20200215T100111_N0214_R122_T33TTG_20200215T125505.SAFE/rep_info/\n",
            " extracting: S2A_MSIL2A_20200215T100111_N0214_R122_T33TTG_20200215T125505.SAFE/rep_info/S2_PDI_Level-2A_Tile_Metadata.xsd  \n",
            " extracting: S2A_MSIL2A_20200215T100111_N0214_R122_T33TTG_20200215T125505.SAFE/rep_info/S2_PDI_Level-2A_Datastrip_Metadata.xsd  \n",
            " extracting: S2A_MSIL2A_20200215T100111_N0214_R122_T33TTG_20200215T125505.SAFE/rep_info/S2_User_Product_Level-2A_Metadata.xsd  \n",
            "   creating: S2A_MSIL2A_20200215T100111_N0214_R122_T33TTG_20200215T125505.SAFE/HTML/\n",
            " extracting: S2A_MSIL2A_20200215T100111_N0214_R122_T33TTG_20200215T125505.SAFE/HTML/star_bg.jpg  \n",
            " extracting: S2A_MSIL2A_20200215T100111_N0214_R122_T33TTG_20200215T125505.SAFE/HTML/banner_1.png  \n",
            " extracting: S2A_MSIL2A_20200215T100111_N0214_R122_T33TTG_20200215T125505.SAFE/HTML/banner_2.png  \n",
            " extracting: S2A_MSIL2A_20200215T100111_N0214_R122_T33TTG_20200215T125505.SAFE/HTML/UserProduct_index.html  \n",
            " extracting: S2A_MSIL2A_20200215T100111_N0214_R122_T33TTG_20200215T125505.SAFE/HTML/UserProduct_index.xsl  \n",
            " extracting: S2A_MSIL2A_20200215T100111_N0214_R122_T33TTG_20200215T125505.SAFE/HTML/banner_3.png  \n",
            " extracting: S2A_MSIL2A_20200215T100111_N0214_R122_T33TTG_20200215T125505.SAFE/MTD_MSIL2A.xml  \n",
            "   creating: S2A_MSIL2A_20200215T100111_N0214_R122_T33TTG_20200215T125505.SAFE/GRANULE/\n",
            "   creating: S2A_MSIL2A_20200215T100111_N0214_R122_T33TTG_20200215T125505.SAFE/GRANULE/L2A_T33TTG_A024286_20200215T100547/\n",
            " extracting: S2A_MSIL2A_20200215T100111_N0214_R122_T33TTG_20200215T125505.SAFE/GRANULE/L2A_T33TTG_A024286_20200215T100547/MTD_TL.xml  \n",
            "   creating: S2A_MSIL2A_20200215T100111_N0214_R122_T33TTG_20200215T125505.SAFE/GRANULE/L2A_T33TTG_A024286_20200215T100547/QI_DATA/\n",
            " extracting: S2A_MSIL2A_20200215T100111_N0214_R122_T33TTG_20200215T125505.SAFE/GRANULE/L2A_T33TTG_A024286_20200215T100547/QI_DATA/MSK_NODATA_B05.gml  \n",
            " extracting: S2A_MSIL2A_20200215T100111_N0214_R122_T33TTG_20200215T125505.SAFE/GRANULE/L2A_T33TTG_A024286_20200215T100547/QI_DATA/MSK_TECQUA_B12.gml  \n",
            " extracting: S2A_MSIL2A_20200215T100111_N0214_R122_T33TTG_20200215T125505.SAFE/GRANULE/L2A_T33TTG_A024286_20200215T100547/QI_DATA/SENSOR_QUALITY.xml  \n",
            " extracting: S2A_MSIL2A_20200215T100111_N0214_R122_T33TTG_20200215T125505.SAFE/GRANULE/L2A_T33TTG_A024286_20200215T100547/QI_DATA/MSK_SATURA_B11.gml  \n",
            " extracting: S2A_MSIL2A_20200215T100111_N0214_R122_T33TTG_20200215T125505.SAFE/GRANULE/L2A_T33TTG_A024286_20200215T100547/QI_DATA/MSK_DEFECT_B06.gml  \n",
            " extracting: S2A_MSIL2A_20200215T100111_N0214_R122_T33TTG_20200215T125505.SAFE/GRANULE/L2A_T33TTG_A024286_20200215T100547/QI_DATA/MSK_DETFOO_B8A.gml  \n",
            " extracting: S2A_MSIL2A_20200215T100111_N0214_R122_T33TTG_20200215T125505.SAFE/GRANULE/L2A_T33TTG_A024286_20200215T100547/QI_DATA/MSK_DEFECT_B8A.gml  \n",
            " extracting: S2A_MSIL2A_20200215T100111_N0214_R122_T33TTG_20200215T125505.SAFE/GRANULE/L2A_T33TTG_A024286_20200215T100547/QI_DATA/MSK_DETFOO_B04.gml  \n",
            " extracting: S2A_MSIL2A_20200215T100111_N0214_R122_T33TTG_20200215T125505.SAFE/GRANULE/L2A_T33TTG_A024286_20200215T100547/QI_DATA/MSK_DEFECT_B05.gml  \n",
            " extracting: S2A_MSIL2A_20200215T100111_N0214_R122_T33TTG_20200215T125505.SAFE/GRANULE/L2A_T33TTG_A024286_20200215T100547/QI_DATA/MSK_SATURA_B04.gml  \n",
            " extracting: S2A_MSIL2A_20200215T100111_N0214_R122_T33TTG_20200215T125505.SAFE/GRANULE/L2A_T33TTG_A024286_20200215T100547/QI_DATA/MSK_SATURA_B07.gml  \n",
            " extracting: S2A_MSIL2A_20200215T100111_N0214_R122_T33TTG_20200215T125505.SAFE/GRANULE/L2A_T33TTG_A024286_20200215T100547/QI_DATA/MSK_DEFECT_B09.gml  \n",
            " extracting: S2A_MSIL2A_20200215T100111_N0214_R122_T33TTG_20200215T125505.SAFE/GRANULE/L2A_T33TTG_A024286_20200215T100547/QI_DATA/MSK_DEFECT_B11.gml  \n",
            " extracting: S2A_MSIL2A_20200215T100111_N0214_R122_T33TTG_20200215T125505.SAFE/GRANULE/L2A_T33TTG_A024286_20200215T100547/QI_DATA/MSK_DEFECT_B03.gml  \n",
            " extracting: S2A_MSIL2A_20200215T100111_N0214_R122_T33TTG_20200215T125505.SAFE/GRANULE/L2A_T33TTG_A024286_20200215T100547/QI_DATA/MSK_SNWPRB_60m.jp2  \n",
            " extracting: S2A_MSIL2A_20200215T100111_N0214_R122_T33TTG_20200215T125505.SAFE/GRANULE/L2A_T33TTG_A024286_20200215T100547/QI_DATA/MSK_DETFOO_B08.gml  \n",
            " extracting: S2A_MSIL2A_20200215T100111_N0214_R122_T33TTG_20200215T125505.SAFE/GRANULE/L2A_T33TTG_A024286_20200215T100547/QI_DATA/MSK_NODATA_B12.gml  \n",
            " extracting: S2A_MSIL2A_20200215T100111_N0214_R122_T33TTG_20200215T125505.SAFE/GRANULE/L2A_T33TTG_A024286_20200215T100547/QI_DATA/MSK_SATURA_B12.gml  \n",
            " extracting: S2A_MSIL2A_20200215T100111_N0214_R122_T33TTG_20200215T125505.SAFE/GRANULE/L2A_T33TTG_A024286_20200215T100547/QI_DATA/MSK_TECQUA_B03.gml  \n",
            " extracting: S2A_MSIL2A_20200215T100111_N0214_R122_T33TTG_20200215T125505.SAFE/GRANULE/L2A_T33TTG_A024286_20200215T100547/QI_DATA/MSK_DETFOO_B07.gml  \n",
            " extracting: S2A_MSIL2A_20200215T100111_N0214_R122_T33TTG_20200215T125505.SAFE/GRANULE/L2A_T33TTG_A024286_20200215T100547/QI_DATA/MSK_SATURA_B02.gml  \n",
            " extracting: S2A_MSIL2A_20200215T100111_N0214_R122_T33TTG_20200215T125505.SAFE/GRANULE/L2A_T33TTG_A024286_20200215T100547/QI_DATA/MSK_DETFOO_B09.gml  \n",
            " extracting: S2A_MSIL2A_20200215T100111_N0214_R122_T33TTG_20200215T125505.SAFE/GRANULE/L2A_T33TTG_A024286_20200215T100547/QI_DATA/MSK_TECQUA_B08.gml  \n",
            " extracting: S2A_MSIL2A_20200215T100111_N0214_R122_T33TTG_20200215T125505.SAFE/GRANULE/L2A_T33TTG_A024286_20200215T100547/QI_DATA/MSK_NODATA_B8A.gml  \n",
            " extracting: S2A_MSIL2A_20200215T100111_N0214_R122_T33TTG_20200215T125505.SAFE/GRANULE/L2A_T33TTG_A024286_20200215T100547/QI_DATA/MSK_NODATA_B04.gml  \n",
            " extracting: S2A_MSIL2A_20200215T100111_N0214_R122_T33TTG_20200215T125505.SAFE/GRANULE/L2A_T33TTG_A024286_20200215T100547/QI_DATA/MSK_SATURA_B09.gml  \n",
            " extracting: S2A_MSIL2A_20200215T100111_N0214_R122_T33TTG_20200215T125505.SAFE/GRANULE/L2A_T33TTG_A024286_20200215T100547/QI_DATA/MSK_SATURA_B03.gml  \n",
            " extracting: S2A_MSIL2A_20200215T100111_N0214_R122_T33TTG_20200215T125505.SAFE/GRANULE/L2A_T33TTG_A024286_20200215T100547/QI_DATA/MSK_SATURA_B08.gml  \n",
            " extracting: S2A_MSIL2A_20200215T100111_N0214_R122_T33TTG_20200215T125505.SAFE/GRANULE/L2A_T33TTG_A024286_20200215T100547/QI_DATA/MSK_CLDPRB_60m.jp2  \n",
            " extracting: S2A_MSIL2A_20200215T100111_N0214_R122_T33TTG_20200215T125505.SAFE/GRANULE/L2A_T33TTG_A024286_20200215T100547/QI_DATA/MSK_DEFECT_B02.gml  \n",
            " extracting: S2A_MSIL2A_20200215T100111_N0214_R122_T33TTG_20200215T125505.SAFE/GRANULE/L2A_T33TTG_A024286_20200215T100547/QI_DATA/MSK_SATURA_B05.gml  \n",
            " extracting: S2A_MSIL2A_20200215T100111_N0214_R122_T33TTG_20200215T125505.SAFE/GRANULE/L2A_T33TTG_A024286_20200215T100547/QI_DATA/MSK_CLOUDS_B00.gml  \n",
            " extracting: S2A_MSIL2A_20200215T100111_N0214_R122_T33TTG_20200215T125505.SAFE/GRANULE/L2A_T33TTG_A024286_20200215T100547/QI_DATA/MSK_NODATA_B09.gml  \n",
            " extracting: S2A_MSIL2A_20200215T100111_N0214_R122_T33TTG_20200215T125505.SAFE/GRANULE/L2A_T33TTG_A024286_20200215T100547/QI_DATA/MSK_DEFECT_B10.gml  \n",
            " extracting: S2A_MSIL2A_20200215T100111_N0214_R122_T33TTG_20200215T125505.SAFE/GRANULE/L2A_T33TTG_A024286_20200215T100547/QI_DATA/MSK_TECQUA_B06.gml  \n",
            " extracting: S2A_MSIL2A_20200215T100111_N0214_R122_T33TTG_20200215T125505.SAFE/GRANULE/L2A_T33TTG_A024286_20200215T100547/QI_DATA/MSK_TECQUA_B02.gml  \n",
            " extracting: S2A_MSIL2A_20200215T100111_N0214_R122_T33TTG_20200215T125505.SAFE/GRANULE/L2A_T33TTG_A024286_20200215T100547/QI_DATA/MSK_DEFECT_B08.gml  \n",
            " extracting: S2A_MSIL2A_20200215T100111_N0214_R122_T33TTG_20200215T125505.SAFE/GRANULE/L2A_T33TTG_A024286_20200215T100547/QI_DATA/MSK_DETFOO_B03.gml  \n",
            " extracting: S2A_MSIL2A_20200215T100111_N0214_R122_T33TTG_20200215T125505.SAFE/GRANULE/L2A_T33TTG_A024286_20200215T100547/QI_DATA/MSK_NODATA_B03.gml  \n",
            " extracting: S2A_MSIL2A_20200215T100111_N0214_R122_T33TTG_20200215T125505.SAFE/GRANULE/L2A_T33TTG_A024286_20200215T100547/QI_DATA/MSK_NODATA_B02.gml  \n",
            " extracting: S2A_MSIL2A_20200215T100111_N0214_R122_T33TTG_20200215T125505.SAFE/GRANULE/L2A_T33TTG_A024286_20200215T100547/QI_DATA/MSK_TECQUA_B09.gml  \n",
            " extracting: S2A_MSIL2A_20200215T100111_N0214_R122_T33TTG_20200215T125505.SAFE/GRANULE/L2A_T33TTG_A024286_20200215T100547/QI_DATA/MSK_CLDPRB_20m.jp2  \n",
            " extracting: S2A_MSIL2A_20200215T100111_N0214_R122_T33TTG_20200215T125505.SAFE/GRANULE/L2A_T33TTG_A024286_20200215T100547/QI_DATA/MSK_SATURA_B06.gml  \n",
            " extracting: S2A_MSIL2A_20200215T100111_N0214_R122_T33TTG_20200215T125505.SAFE/GRANULE/L2A_T33TTG_A024286_20200215T100547/QI_DATA/MSK_NODATA_B08.gml  \n",
            " extracting: S2A_MSIL2A_20200215T100111_N0214_R122_T33TTG_20200215T125505.SAFE/GRANULE/L2A_T33TTG_A024286_20200215T100547/QI_DATA/MSK_TECQUA_B01.gml  \n",
            " extracting: S2A_MSIL2A_20200215T100111_N0214_R122_T33TTG_20200215T125505.SAFE/GRANULE/L2A_T33TTG_A024286_20200215T100547/QI_DATA/MSK_DETFOO_B10.gml  \n",
            " extracting: S2A_MSIL2A_20200215T100111_N0214_R122_T33TTG_20200215T125505.SAFE/GRANULE/L2A_T33TTG_A024286_20200215T100547/QI_DATA/GENERAL_QUALITY.xml  \n",
            " extracting: S2A_MSIL2A_20200215T100111_N0214_R122_T33TTG_20200215T125505.SAFE/GRANULE/L2A_T33TTG_A024286_20200215T100547/QI_DATA/MSK_SATURA_B8A.gml  \n",
            " extracting: S2A_MSIL2A_20200215T100111_N0214_R122_T33TTG_20200215T125505.SAFE/GRANULE/L2A_T33TTG_A024286_20200215T100547/QI_DATA/MSK_DETFOO_B05.gml  \n",
            " extracting: S2A_MSIL2A_20200215T100111_N0214_R122_T33TTG_20200215T125505.SAFE/GRANULE/L2A_T33TTG_A024286_20200215T100547/QI_DATA/MSK_DETFOO_B11.gml  \n",
            " extracting: S2A_MSIL2A_20200215T100111_N0214_R122_T33TTG_20200215T125505.SAFE/GRANULE/L2A_T33TTG_A024286_20200215T100547/QI_DATA/T33TTG_20200215T100111_PVI.jp2  \n",
            " extracting: S2A_MSIL2A_20200215T100111_N0214_R122_T33TTG_20200215T125505.SAFE/GRANULE/L2A_T33TTG_A024286_20200215T100547/QI_DATA/MSK_SATURA_B10.gml  \n",
            " extracting: S2A_MSIL2A_20200215T100111_N0214_R122_T33TTG_20200215T125505.SAFE/GRANULE/L2A_T33TTG_A024286_20200215T100547/QI_DATA/MSK_NODATA_B01.gml  \n",
            " extracting: S2A_MSIL2A_20200215T100111_N0214_R122_T33TTG_20200215T125505.SAFE/GRANULE/L2A_T33TTG_A024286_20200215T100547/QI_DATA/MSK_NODATA_B10.gml  \n",
            " extracting: S2A_MSIL2A_20200215T100111_N0214_R122_T33TTG_20200215T125505.SAFE/GRANULE/L2A_T33TTG_A024286_20200215T100547/QI_DATA/MSK_DEFECT_B07.gml  \n",
            " extracting: S2A_MSIL2A_20200215T100111_N0214_R122_T33TTG_20200215T125505.SAFE/GRANULE/L2A_T33TTG_A024286_20200215T100547/QI_DATA/MSK_TECQUA_B05.gml  \n",
            " extracting: S2A_MSIL2A_20200215T100111_N0214_R122_T33TTG_20200215T125505.SAFE/GRANULE/L2A_T33TTG_A024286_20200215T100547/QI_DATA/MSK_SNWPRB_20m.jp2  \n",
            " extracting: S2A_MSIL2A_20200215T100111_N0214_R122_T33TTG_20200215T125505.SAFE/GRANULE/L2A_T33TTG_A024286_20200215T100547/QI_DATA/MSK_DEFECT_B12.gml  \n",
            " extracting: S2A_MSIL2A_20200215T100111_N0214_R122_T33TTG_20200215T125505.SAFE/GRANULE/L2A_T33TTG_A024286_20200215T100547/QI_DATA/MSK_DETFOO_B06.gml  \n",
            " extracting: S2A_MSIL2A_20200215T100111_N0214_R122_T33TTG_20200215T125505.SAFE/GRANULE/L2A_T33TTG_A024286_20200215T100547/QI_DATA/MSK_NODATA_B11.gml  \n",
            " extracting: S2A_MSIL2A_20200215T100111_N0214_R122_T33TTG_20200215T125505.SAFE/GRANULE/L2A_T33TTG_A024286_20200215T100547/QI_DATA/MSK_NODATA_B07.gml  \n",
            " extracting: S2A_MSIL2A_20200215T100111_N0214_R122_T33TTG_20200215T125505.SAFE/GRANULE/L2A_T33TTG_A024286_20200215T100547/QI_DATA/MSK_TECQUA_B04.gml  \n",
            " extracting: S2A_MSIL2A_20200215T100111_N0214_R122_T33TTG_20200215T125505.SAFE/GRANULE/L2A_T33TTG_A024286_20200215T100547/QI_DATA/MSK_TECQUA_B07.gml  \n",
            " extracting: S2A_MSIL2A_20200215T100111_N0214_R122_T33TTG_20200215T125505.SAFE/GRANULE/L2A_T33TTG_A024286_20200215T100547/QI_DATA/MSK_TECQUA_B8A.gml  \n",
            " extracting: S2A_MSIL2A_20200215T100111_N0214_R122_T33TTG_20200215T125505.SAFE/GRANULE/L2A_T33TTG_A024286_20200215T100547/QI_DATA/MSK_NODATA_B06.gml  \n",
            " extracting: S2A_MSIL2A_20200215T100111_N0214_R122_T33TTG_20200215T125505.SAFE/GRANULE/L2A_T33TTG_A024286_20200215T100547/QI_DATA/MSK_DEFECT_B01.gml  \n",
            " extracting: S2A_MSIL2A_20200215T100111_N0214_R122_T33TTG_20200215T125505.SAFE/GRANULE/L2A_T33TTG_A024286_20200215T100547/QI_DATA/MSK_TECQUA_B10.gml  \n",
            " extracting: S2A_MSIL2A_20200215T100111_N0214_R122_T33TTG_20200215T125505.SAFE/GRANULE/L2A_T33TTG_A024286_20200215T100547/QI_DATA/MSK_DETFOO_B12.gml  \n",
            " extracting: S2A_MSIL2A_20200215T100111_N0214_R122_T33TTG_20200215T125505.SAFE/GRANULE/L2A_T33TTG_A024286_20200215T100547/QI_DATA/RADIOMETRIC_QUALITY.xml  \n",
            " extracting: S2A_MSIL2A_20200215T100111_N0214_R122_T33TTG_20200215T125505.SAFE/GRANULE/L2A_T33TTG_A024286_20200215T100547/QI_DATA/MSK_DETFOO_B02.gml  \n",
            " extracting: S2A_MSIL2A_20200215T100111_N0214_R122_T33TTG_20200215T125505.SAFE/GRANULE/L2A_T33TTG_A024286_20200215T100547/QI_DATA/MSK_TECQUA_B11.gml  \n",
            " extracting: S2A_MSIL2A_20200215T100111_N0214_R122_T33TTG_20200215T125505.SAFE/GRANULE/L2A_T33TTG_A024286_20200215T100547/QI_DATA/GEOMETRIC_QUALITY.xml  \n",
            " extracting: S2A_MSIL2A_20200215T100111_N0214_R122_T33TTG_20200215T125505.SAFE/GRANULE/L2A_T33TTG_A024286_20200215T100547/QI_DATA/MSK_SATURA_B01.gml  \n",
            " extracting: S2A_MSIL2A_20200215T100111_N0214_R122_T33TTG_20200215T125505.SAFE/GRANULE/L2A_T33TTG_A024286_20200215T100547/QI_DATA/MSK_DETFOO_B01.gml  \n",
            " extracting: S2A_MSIL2A_20200215T100111_N0214_R122_T33TTG_20200215T125505.SAFE/GRANULE/L2A_T33TTG_A024286_20200215T100547/QI_DATA/FORMAT_CORRECTNESS.xml  \n",
            " extracting: S2A_MSIL2A_20200215T100111_N0214_R122_T33TTG_20200215T125505.SAFE/GRANULE/L2A_T33TTG_A024286_20200215T100547/QI_DATA/MSK_DEFECT_B04.gml  \n",
            "   creating: S2A_MSIL2A_20200215T100111_N0214_R122_T33TTG_20200215T125505.SAFE/GRANULE/L2A_T33TTG_A024286_20200215T100547/AUX_DATA/\n",
            " extracting: S2A_MSIL2A_20200215T100111_N0214_R122_T33TTG_20200215T125505.SAFE/GRANULE/L2A_T33TTG_A024286_20200215T100547/AUX_DATA/AUX_ECMWFT  \n",
            "   creating: S2A_MSIL2A_20200215T100111_N0214_R122_T33TTG_20200215T125505.SAFE/GRANULE/L2A_T33TTG_A024286_20200215T100547/IMG_DATA/\n",
            "   creating: S2A_MSIL2A_20200215T100111_N0214_R122_T33TTG_20200215T125505.SAFE/GRANULE/L2A_T33TTG_A024286_20200215T100547/IMG_DATA/R60m/\n",
            " extracting: S2A_MSIL2A_20200215T100111_N0214_R122_T33TTG_20200215T125505.SAFE/GRANULE/L2A_T33TTG_A024286_20200215T100547/IMG_DATA/R60m/T33TTG_20200215T100111_TCI_60m.jp2  \n",
            " extracting: S2A_MSIL2A_20200215T100111_N0214_R122_T33TTG_20200215T125505.SAFE/GRANULE/L2A_T33TTG_A024286_20200215T100547/IMG_DATA/R60m/T33TTG_20200215T100111_B07_60m.jp2  \n",
            " extracting: S2A_MSIL2A_20200215T100111_N0214_R122_T33TTG_20200215T125505.SAFE/GRANULE/L2A_T33TTG_A024286_20200215T100547/IMG_DATA/R60m/T33TTG_20200215T100111_SCL_60m.jp2  \n",
            " extracting: S2A_MSIL2A_20200215T100111_N0214_R122_T33TTG_20200215T125505.SAFE/GRANULE/L2A_T33TTG_A024286_20200215T100547/IMG_DATA/R60m/T33TTG_20200215T100111_B01_60m.jp2  \n",
            " extracting: S2A_MSIL2A_20200215T100111_N0214_R122_T33TTG_20200215T125505.SAFE/GRANULE/L2A_T33TTG_A024286_20200215T100547/IMG_DATA/R60m/T33TTG_20200215T100111_WVP_60m.jp2  \n",
            " extracting: S2A_MSIL2A_20200215T100111_N0214_R122_T33TTG_20200215T125505.SAFE/GRANULE/L2A_T33TTG_A024286_20200215T100547/IMG_DATA/R60m/T33TTG_20200215T100111_B04_60m.jp2  \n",
            " extracting: S2A_MSIL2A_20200215T100111_N0214_R122_T33TTG_20200215T125505.SAFE/GRANULE/L2A_T33TTG_A024286_20200215T100547/IMG_DATA/R60m/T33TTG_20200215T100111_B8A_60m.jp2  \n",
            " extracting: S2A_MSIL2A_20200215T100111_N0214_R122_T33TTG_20200215T125505.SAFE/GRANULE/L2A_T33TTG_A024286_20200215T100547/IMG_DATA/R60m/T33TTG_20200215T100111_AOT_60m.jp2  \n",
            " extracting: S2A_MSIL2A_20200215T100111_N0214_R122_T33TTG_20200215T125505.SAFE/GRANULE/L2A_T33TTG_A024286_20200215T100547/IMG_DATA/R60m/T33TTG_20200215T100111_B03_60m.jp2  \n",
            " extracting: S2A_MSIL2A_20200215T100111_N0214_R122_T33TTG_20200215T125505.SAFE/GRANULE/L2A_T33TTG_A024286_20200215T100547/IMG_DATA/R60m/T33TTG_20200215T100111_B06_60m.jp2  \n",
            " extracting: S2A_MSIL2A_20200215T100111_N0214_R122_T33TTG_20200215T125505.SAFE/GRANULE/L2A_T33TTG_A024286_20200215T100547/IMG_DATA/R60m/T33TTG_20200215T100111_B02_60m.jp2  \n",
            " extracting: S2A_MSIL2A_20200215T100111_N0214_R122_T33TTG_20200215T125505.SAFE/GRANULE/L2A_T33TTG_A024286_20200215T100547/IMG_DATA/R60m/T33TTG_20200215T100111_B11_60m.jp2  \n",
            " extracting: S2A_MSIL2A_20200215T100111_N0214_R122_T33TTG_20200215T125505.SAFE/GRANULE/L2A_T33TTG_A024286_20200215T100547/IMG_DATA/R60m/T33TTG_20200215T100111_B12_60m.jp2  \n",
            " extracting: S2A_MSIL2A_20200215T100111_N0214_R122_T33TTG_20200215T125505.SAFE/GRANULE/L2A_T33TTG_A024286_20200215T100547/IMG_DATA/R60m/T33TTG_20200215T100111_B09_60m.jp2  \n",
            " extracting: S2A_MSIL2A_20200215T100111_N0214_R122_T33TTG_20200215T125505.SAFE/GRANULE/L2A_T33TTG_A024286_20200215T100547/IMG_DATA/R60m/T33TTG_20200215T100111_B05_60m.jp2  \n",
            "   creating: S2A_MSIL2A_20200215T100111_N0214_R122_T33TTG_20200215T125505.SAFE/GRANULE/L2A_T33TTG_A024286_20200215T100547/IMG_DATA/R20m/\n",
            " extracting: S2A_MSIL2A_20200215T100111_N0214_R122_T33TTG_20200215T125505.SAFE/GRANULE/L2A_T33TTG_A024286_20200215T100547/IMG_DATA/R20m/T33TTG_20200215T100111_B12_20m.jp2  \n",
            " extracting: S2A_MSIL2A_20200215T100111_N0214_R122_T33TTG_20200215T125505.SAFE/GRANULE/L2A_T33TTG_A024286_20200215T100547/IMG_DATA/R20m/T33TTG_20200215T100111_SCL_20m.jp2  \n",
            " extracting: S2A_MSIL2A_20200215T100111_N0214_R122_T33TTG_20200215T125505.SAFE/GRANULE/L2A_T33TTG_A024286_20200215T100547/IMG_DATA/R20m/T33TTG_20200215T100111_WVP_20m.jp2  \n",
            " extracting: S2A_MSIL2A_20200215T100111_N0214_R122_T33TTG_20200215T125505.SAFE/GRANULE/L2A_T33TTG_A024286_20200215T100547/IMG_DATA/R20m/T33TTG_20200215T100111_TCI_20m.jp2  "
          ],
          "name": "stdout"
        },
        {
          "output_type": "stream",
          "text": [
            "\n",
            "Downloading:  18%|█▊        | 173M/974M [00:18<01:23, 9.56MB/s]"
          ],
          "name": "stderr"
        },
        {
          "output_type": "stream",
          "text": [
            "\n",
            " extracting: S2A_MSIL2A_20200215T100111_N0214_R122_T33TTG_20200215T125505.SAFE/GRANULE/L2A_T33TTG_A024286_20200215T100547/IMG_DATA/R20m/T33TTG_20200215T100111_B11_20m.jp2  "
          ],
          "name": "stdout"
        },
        {
          "output_type": "stream",
          "text": [
            "\n",
            "Downloading:   9%|▉         | 89.1M/978M [00:09<01:21, 10.9MB/s]\u001b[A"
          ],
          "name": "stderr"
        },
        {
          "output_type": "stream",
          "text": [
            "\n",
            " extracting: S2A_MSIL2A_20200215T100111_N0214_R122_T33TTG_20200215T125505.SAFE/GRANULE/L2A_T33TTG_A024286_20200215T100547/IMG_DATA/R20m/T33TTG_20200215T100111_B07_20m.jp2  "
          ],
          "name": "stdout"
        },
        {
          "output_type": "stream",
          "text": [
            "Downloading:  18%|█▊        | 174M/974M [00:19<02:44, 4.86MB/s]\n",
            "Downloading:   9%|▉         | 91.2M/978M [00:09<01:27, 10.1MB/s]\u001b[A"
          ],
          "name": "stderr"
        },
        {
          "output_type": "stream",
          "text": [
            "\n",
            " extracting: S2A_MSIL2A_20200215T100111_N0214_R122_T33TTG_20200215T125505.SAFE/GRANULE/L2A_T33TTG_A024286_20200215T100547/IMG_DATA/R20m/T33TTG_20200215T100111_B8A_20m.jp2  \n",
            " extracting: S2A_MSIL2A_20200215T100111_N0214_R122_T33TTG_20200215T125505.SAFE/GRANULE/L2A_T33TTG_A024286_20200215T100547/IMG_DATA/R20m/T33TTG_20200215T100111_B04_20m.jp2  "
          ],
          "name": "stdout"
        },
        {
          "output_type": "stream",
          "text": [
            "\n",
            "Downloading:  18%|█▊        | 176M/974M [00:19<02:25, 5.48MB/s]\n",
            "Downloading:  18%|█▊        | 177M/974M [00:19<02:09, 6.16MB/s]"
          ],
          "name": "stderr"
        },
        {
          "output_type": "stream",
          "text": [
            "\n",
            " extracting: S2A_MSIL2A_20200215T100111_N0214_R122_T33TTG_20200215T125505.SAFE/GRANULE/L2A_T33TTG_A024286_20200215T100547/IMG_DATA/R20m/T33TTG_20200215T100111_B05_20m.jp2  "
          ],
          "name": "stdout"
        },
        {
          "output_type": "stream",
          "text": [
            "\rDownloading:  18%|█▊        | 178M/974M [00:20<02:11, 6.05MB/s]"
          ],
          "name": "stderr"
        },
        {
          "output_type": "stream",
          "text": [
            "\n",
            " extracting: S2A_MSIL2A_20200215T100111_N0214_R122_T33TTG_20200215T125505.SAFE/GRANULE/L2A_T33TTG_A024286_20200215T100547/IMG_DATA/R20m/T33TTG_20200215T100111_AOT_20m.jp2  \n",
            " extracting: S2A_MSIL2A_20200215T100111_N0214_R122_T33TTG_20200215T125505.SAFE/GRANULE/L2A_T33TTG_A024286_20200215T100547/IMG_DATA/R20m/T33TTG_20200215T100111_B06_20m.jp2  \n",
            " extracting: S2A_MSIL2A_20200215T100111_N0214_R122_T33TTG_20200215T125505.SAFE/GRANULE/L2A_T33TTG_A024286_20200215T100547/IMG_DATA/R20m/T33TTG_20200215T100111_B03_20m.jp2  "
          ],
          "name": "stdout"
        },
        {
          "output_type": "stream",
          "text": [
            "\n",
            "Downloading:  19%|█▊        | 181M/974M [00:20<02:04, 6.37MB/s]\n",
            "Downloading:  19%|█▊        | 182M/974M [00:20<01:53, 7.00MB/s]"
          ],
          "name": "stderr"
        },
        {
          "output_type": "stream",
          "text": [
            "\n",
            " extracting: S2A_MSIL2A_20200215T100111_N0214_R122_T33TTG_20200215T125505.SAFE/GRANULE/L2A_T33TTG_A024286_20200215T100547/IMG_DATA/R20m/T33TTG_20200215T100111_B02_20m.jp2  "
          ],
          "name": "stdout"
        },
        {
          "output_type": "stream",
          "text": [
            "\n",
            "Downloading:  19%|█▉        | 185M/974M [00:20<01:42, 7.67MB/s]"
          ],
          "name": "stderr"
        },
        {
          "output_type": "stream",
          "text": [
            "\n",
            "   creating: S2A_MSIL2A_20200215T100111_N0214_R122_T33TTG_20200215T125505.SAFE/GRANULE/L2A_T33TTG_A024286_20200215T100547/IMG_DATA/R10m/\n",
            " extracting: S2A_MSIL2A_20200215T100111_N0214_R122_T33TTG_20200215T125505.SAFE/GRANULE/L2A_T33TTG_A024286_20200215T100547/IMG_DATA/R10m/T33TTG_20200215T100111_B08_10m.jp2  "
          ],
          "name": "stdout"
        },
        {
          "output_type": "stream",
          "text": [
            "\n",
            "Downloading:  19%|█▉        | 186M/974M [00:21<02:04, 6.33MB/s]\n",
            "Downloading:  19%|█▉        | 188M/974M [00:21<01:41, 7.73MB/s]\n",
            "Downloading:  19%|█▉        | 189M/974M [00:21<01:37, 8.08MB/s]\n",
            "Downloading:  19%|█▉        | 190M/974M [00:21<01:58, 6.61MB/s]\n",
            "Downloading:  12%|█▏        | 113M/978M [00:12<01:13, 11.7MB/s]\u001b[A"
          ],
          "name": "stderr"
        },
        {
          "output_type": "stream",
          "text": [
            "\n",
            " extracting: S2A_MSIL2A_20200215T100111_N0214_R122_T33TTG_20200215T125505.SAFE/GRANULE/L2A_T33TTG_A024286_20200215T100547/IMG_DATA/R10m/T33TTG_20200215T100111_B03_10m.jp2  "
          ],
          "name": "stdout"
        },
        {
          "output_type": "stream",
          "text": [
            "Downloading:  20%|█▉        | 192M/974M [00:21<01:43, 7.54MB/s]\n",
            "Downloading:  20%|█▉        | 194M/974M [00:22<01:30, 8.62MB/s]\n",
            "Downloading:  20%|██        | 195M/974M [00:22<01:29, 8.72MB/s]\n",
            "Downloading:  20%|██        | 197M/974M [00:22<01:19, 9.72MB/s]\n",
            "Downloading:  20%|██        | 199M/974M [00:22<01:16, 10.2MB/s]"
          ],
          "name": "stderr"
        },
        {
          "output_type": "stream",
          "text": [
            "\n",
            " extracting: S2A_MSIL2A_20200215T100111_N0214_R122_T33TTG_20200215T125505.SAFE/GRANULE/L2A_T33TTG_A024286_20200215T100547/IMG_DATA/R10m/T33TTG_20200215T100111_WVP_10m.jp2  "
          ],
          "name": "stdout"
        },
        {
          "output_type": "stream",
          "text": [
            "\n",
            "Downloading:  21%|██        | 201M/974M [00:22<01:16, 10.1MB/s]\n",
            "Downloading:  21%|██        | 203M/974M [00:22<01:14, 10.3MB/s]\n",
            "Downloading:  21%|██        | 206M/974M [00:23<01:13, 10.5MB/s]"
          ],
          "name": "stderr"
        },
        {
          "output_type": "stream",
          "text": [
            "\n",
            " extracting: S2A_MSIL2A_20200215T100111_N0214_R122_T33TTG_20200215T125505.SAFE/GRANULE/L2A_T33TTG_A024286_20200215T100547/IMG_DATA/R10m/T33TTG_20200215T100111_TCI_10m.jp2  "
          ],
          "name": "stdout"
        },
        {
          "output_type": "stream",
          "text": [
            "\n",
            "Downloading:  21%|██▏       | 208M/974M [00:23<01:14, 10.3MB/s]\n",
            "Downloading:  22%|██▏       | 210M/974M [00:23<01:12, 10.5MB/s]\n",
            "Downloading:  22%|██▏       | 212M/974M [00:23<01:28, 8.56MB/s]\n",
            "Downloading:  14%|█▍        | 135M/978M [00:14<01:40, 8.34MB/s]\u001b[A\n",
            "Downloading:  22%|██▏       | 215M/974M [00:24<01:22, 9.24MB/s]\n",
            "Downloading:  14%|█▍        | 138M/978M [00:14<01:30, 9.29MB/s]\u001b[A"
          ],
          "name": "stderr"
        },
        {
          "output_type": "stream",
          "text": [
            "\n",
            " extracting: S2A_MSIL2A_20200215T100111_N0214_R122_T33TTG_20200215T125505.SAFE/GRANULE/L2A_T33TTG_A024286_20200215T100547/IMG_DATA/R10m/T33TTG_20200215T100111_AOT_10m.jp2  \n",
            " extracting: S2A_MSIL2A_20200215T100111_N0214_R122_T33TTG_20200215T125505.SAFE/GRANULE/L2A_T33TTG_A024286_20200215T100547/IMG_DATA/R10m/T33TTG_20200215T100111_B04_10m.jp2  "
          ],
          "name": "stdout"
        },
        {
          "output_type": "stream",
          "text": [
            "Downloading:  22%|██▏       | 218M/974M [00:24<01:19, 9.56MB/s]\n",
            "Downloading:  23%|██▎       | 221M/974M [00:24<01:14, 10.1MB/s]\n",
            "Downloading:  15%|█▍        | 144M/978M [00:15<01:28, 9.46MB/s]\u001b[A\n",
            "Downloading:  23%|██▎       | 224M/974M [00:24<01:11, 10.5MB/s]\n"
          ],
          "name": "stderr"
        },
        {
          "output_type": "stream",
          "text": [
            "\n",
            " extracting: S2A_MSIL2A_20200215T100111_N0214_R122_T33TTG_20200215T125505.SAFE/GRANULE/L2A_T33TTG_A024286_20200215T100547/IMG_DATA/R10m/T33TTG_20200215T100111_B02_10m.jp2  "
          ],
          "name": "stdout"
        },
        {
          "output_type": "stream",
          "text": [
            "Downloading:  23%|██▎       | 228M/974M [00:25<01:13, 10.1MB/s]\n",
            "Downloading:  24%|██▎       | 231M/974M [00:25<01:08, 10.8MB/s]\n",
            "Downloading:  24%|██▍       | 233M/974M [00:25<01:04, 11.4MB/s]\n",
            "Downloading:  16%|█▌        | 155M/978M [00:16<01:21, 10.1MB/s]\u001b[A"
          ],
          "name": "stderr"
        },
        {
          "output_type": "stream",
          "text": [
            "\n",
            "   creating: S2A_MSIL2A_20200215T100111_N0214_R122_T33TTG_20200215T125505.SAFE/AUX_DATA/\n",
            "   creating: S2A_MSIL2A_20200215T100111_N0214_R122_T33TTG_20200215T125505.SAFE/DATASTRIP/\n",
            "   creating: S2A_MSIL2A_20200215T100111_N0214_R122_T33TTG_20200215T125505.SAFE/DATASTRIP/DS_SGS__20200215T125505_S20200215T100547/\n",
            " extracting: S2A_MSIL2A_20200215T100111_N0214_R122_T33TTG_20200215T125505.SAFE/DATASTRIP/DS_SGS__20200215T125505_S20200215T100547/MTD_DS.xml  \n",
            "   creating: S2A_MSIL2A_20200215T100111_N0214_R122_T33TTG_20200215T125505.SAFE/DATASTRIP/DS_SGS__20200215T125505_S20200215T100547/QI_DATA/\n",
            " extracting: S2A_MSIL2A_20200215T100111_N0214_R122_T33TTG_20200215T125505.SAFE/DATASTRIP/DS_SGS__20200215T125505_S20200215T100547/QI_DATA/SENSOR_QUALITY.xml  \n",
            " extracting: S2A_MSIL2A_20200215T100111_N0214_R122_T33TTG_20200215T125505.SAFE/DATASTRIP/DS_SGS__20200215T125505_S20200215T100547/QI_DATA/GENERAL_QUALITY.xml  \n",
            " extracting: S2A_MSIL2A_20200215T100111_N0214_R122_T33TTG_20200215T125505.SAFE/DATASTRIP/DS_SGS__20200215T125505_S20200215T100547/QI_DATA/RADIOMETRIC_QUALITY.xml  \n",
            " extracting: S2A_MSIL2A_20200215T100111_N0214_R122_T33TTG_20200215T125505.SAFE/DATASTRIP/DS_SGS__20200215T125505_S20200215T100547/QI_DATA/GEOMETRIC_QUALITY.xml  \n",
            " extracting: S2A_MSIL2A_20200215T100111_N0214_R122_T33TTG_20200215T125505.SAFE/DATASTRIP/DS_SGS__20200215T125505_S20200215T100547/QI_DATA/FORMAT_CORRECTNESS.xml  \n",
            " extracting: S2A_MSIL2A_20200215T100111_N0214_R122_T33TTG_20200215T125505.SAFE/manifest.safe  \n"
          ],
          "name": "stdout"
        },
        {
          "output_type": "stream",
          "text": [
            "Downloading:  24%|██▍       | 235M/974M [00:25<01:11, 10.3MB/s]\n",
            "Downloading:  24%|██▍       | 237M/974M [00:26<01:04, 11.5MB/s]\n",
            "Downloading:  25%|██▍       | 239M/974M [00:26<01:04, 11.4MB/s]\n",
            "Downloading:  25%|██▍       | 241M/974M [00:26<01:08, 10.7MB/s]\n",
            "Downloading:  25%|██▍       | 243M/974M [00:26<01:01, 11.9MB/s]\n",
            "Downloading:  17%|█▋        | 166M/978M [00:17<01:12, 11.1MB/s]\u001b[A\n",
            "Downloading:  17%|█▋        | 168M/978M [00:17<01:11, 11.3MB/s]\u001b[A\n",
            "Downloading:  17%|█▋        | 170M/978M [00:17<01:11, 11.3MB/s]\u001b[A"
          ],
          "name": "stderr"
        }
      ]
    },
    {
      "cell_type": "code",
      "metadata": {
        "id": "DYFUr_3u3LwI",
        "colab_type": "code",
        "colab": {
          "base_uri": "https://localhost:8080/",
          "height": 88
        },
        "outputId": "f95b6afc-382d-418d-b59d-4c8ba10b77b9"
      },
      "source": [
        "import rasterio as rio"
      ],
      "execution_count": 42,
      "outputs": [
        {
          "output_type": "stream",
          "text": [
            "Downloading:  56%|█████▌    | 571M/1.03G [00:54<01:12, 6.28MB/s]\n",
            "Downloading:   4%|▎         | 35.7M/967M [00:05<02:30, 6.19MB/s]\u001b[A\n",
            "Downloading:  56%|█████▋    | 580M/1.03G [00:54<00:52, 8.56MB/s]\n",
            "Downloading:   4%|▍         | 43.0M/967M [00:05<01:52, 8.22MB/s]\u001b[A"
          ],
          "name": "stderr"
        }
      ]
    },
    {
      "cell_type": "code",
      "metadata": {
        "id": "_zbVTsoDwIXe",
        "colab_type": "code",
        "colab": {}
      },
      "source": [
        "#create RGB image\n",
        "R10 = '/content/S2A_MSIL2A_20200215T100111_N0214_R122_T33TTG_20200215T125505.SAFE/GRANULE/L2A_T33TTG_A024286_20200215T100547/IMG_DATA/R10m'\n",
        "b4 = rio.open(R10+'/T33TTG_20200215T100111_B04_10m.jp2')\n",
        "b3 = rio.open(R10+'/T33TTG_20200215T100111_B03_10m.jp2')\n",
        "b2 = rio.open(R10+'/T33TTG_20200215T100111_B02_10m.jp2')\n",
        "\n",
        "\n",
        "# Create an RGB image \n",
        "with rio.open('RGB.tiff','w',driver='Gtiff', width=b4.width, height=b4.height, \n",
        "              count=3,crs=b4.crs,transform=b4.transform, dtype=b4.dtypes[0]) as rgb:\n",
        "    rgb.write(b2.read(1),1) \n",
        "    rgb.write(b3.read(1),2) \n",
        "    rgb.write(b4.read(1),3) \n",
        "    rgb.close()"
      ],
      "execution_count": null,
      "outputs": []
    },
    {
      "cell_type": "code",
      "metadata": {
        "id": "utkpSdVe3RBE",
        "colab_type": "code",
        "colab": {}
      },
      "source": [
        "nReserve_proj = nReserve.to_crs({'init': 'epsg:32633'})\n",
        "\n",
        "with rio.open(\"RGB.tiff\") as src:\n",
        "    out_image, out_transform = rio.mask.mask(src, nReserve_proj.geometry,crop=True)\n",
        "    out_meta = src.meta.copy()\n",
        "    out_meta.update({\"driver\": \"GTiff\",\n",
        "                 \"height\": out_image.shape[1],\n",
        "                 \"width\": out_image.shape[2],\n",
        "                 \"transform\": out_transform})\n",
        "    \n",
        "with rasterio.open(\"RGB_masked.tif\", \"w\", **out_meta) as dest:\n",
        "    dest.write(out_image)"
      ],
      "execution_count": null,
      "outputs": []
    },
    {
      "cell_type": "code",
      "metadata": {
        "id": "V-v1VNsr3vzl",
        "colab_type": "code",
        "colab": {}
      },
      "source": [
        "b4 = rio.open(R10+'/T33TTG_20200215T100111_B04_10m.jp2')\n",
        "b8 = rio.open(R10+'/T33TTG_20200215T100111_B04_10m.jp2')\n",
        "\n",
        "# read Red(b4) and NIR(b8) as arrays\n",
        "red = b4.read()\n",
        "nir = b8.read()\n",
        "\n",
        "# Calculate ndvi\n",
        "ndvi = (nir.astype(float)-red.astype(float))/(nir+red)\n",
        "\n",
        "# Write the NDVI image\n",
        "meta = b4.meta\n",
        "meta.update(driver='GTiff')\n",
        "meta.update(dtype=rasterio.float32)\n",
        "\n",
        "with rasterio.open('NDVI.tif', 'w', **meta) as dst:\n",
        "    dst.write(ndvi.astype(rasterio.float32))"
      ],
      "execution_count": null,
      "outputs": []
    }
  ]
}
